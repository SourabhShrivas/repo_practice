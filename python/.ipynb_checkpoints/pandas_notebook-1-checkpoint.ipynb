{
 "cells": [
  {
   "cell_type": "markdown",
   "source": "# 450+ Practice Questions That Will Make You a Pandas, NumPy, and SQL Pro!",
   "metadata": {
    "is_collapsed": false,
    "cell_id": "524efd7f1dcf427f89f93f3eb91739b8",
    "tags": [],
    "formattedRanges": [],
    "deepnote_cell_type": "text-cell-h1"
   }
  },
  {
   "cell_type": "markdown",
   "source": "Author: **Avi Chawla**\n\nLinkedIn: https://www.linkedin.com/in/avi-chawla/\n\nRead my blogs here: https://medium.com/@avi_chawla",
   "metadata": {
    "cell_id": "845fcd0218c342e385d4ec4f3e663222",
    "tags": [],
    "deepnote_cell_type": "markdown",
    "deepnote_cell_height": 125.171875
   }
  },
  {
   "cell_type": "markdown",
   "source": "## Introduction",
   "metadata": {
    "is_collapsed": false,
    "cell_id": "7f875353207e43deb5bb347a981a6784",
    "tags": [],
    "formattedRanges": [],
    "deepnote_cell_type": "text-cell-h2"
   }
  },
  {
   "cell_type": "markdown",
   "source": "This notebook has been created for you to practice three of the most common tools used in building any machine learning or data science applications, i.e., Pandas, NumPy, and SQL!",
   "metadata": {
    "is_collapsed": false,
    "cell_id": "d027f7b79a2f4c239a1f639c62ee5b31",
    "tags": [],
    "formattedRanges": [
     {
      "fromCodePoint": 156,
      "toCodePoint": 179,
      "marks": {
       "bold": true
      }
     }
    ],
    "deepnote_cell_type": "text-cell-p"
   }
  },
  {
   "cell_type": "markdown",
   "source": "The practice questions will serve as an excellent resource for those looking to familiarize themselves with some of the most common functions used in these tools. ",
   "metadata": {
    "is_collapsed": false,
    "cell_id": "4e14aeaf-93f4-4484-a1c2-84fd88ad6ebe",
    "tags": [],
    "formattedRanges": [],
    "deepnote_cell_type": "text-cell-p"
   }
  },
  {
   "cell_type": "markdown",
   "source": "Appropriate descriptions have been provided for all the questions in this entire exercise, which will help you navigate through this exercise easily. If a dataset is to be loaded in the python environment, that has also been provided for you. You can find it on the right panel in the Files section. Do NOT delete any of the files/folders listed there. ",
   "metadata": {
    "is_collapsed": false,
    "cell_id": "7bc00146-5279-4a10-a1aa-efa29edffb83",
    "tags": [],
    "formattedRanges": [
     {
      "fromCodePoint": 285,
      "toCodePoint": 290,
      "marks": {
       "bold": true
      }
     },
     {
      "fromCodePoint": 303,
      "toCodePoint": 306,
      "marks": {
       "bold": true
      }
     }
    ],
    "deepnote_cell_type": "text-cell-p"
   }
  },
  {
   "cell_type": "markdown",
   "source": "The whole exercise has been divided into nine separate notebooks. Below are the links to all the other notebooks for you to jump from one notebook to another:",
   "metadata": {
    "is_collapsed": false,
    "cell_id": "fddf7335-854f-4225-b5cc-d43309c8141b",
    "tags": [],
    "formattedRanges": [],
    "deepnote_cell_type": "text-cell-p"
   }
  },
  {
   "cell_type": "markdown",
   "source": "- **Pandas**\n\n1. Pandas Notebook 1: [Link](https://deepnote.com/workspace/avi-chawla-695b-aee6f4ef-2d50-4fb6-9ef2-20ee1022995a/project/Pandas-Notebook-1-d693ac55-6455-40cf-ae34-867c6a02014e/%2Fnotebook.ipynb) **(This Notebook)** \n2. Pandas Notebook 2: [Link](https://deepnote.com/workspace/avi-chawla-695b-aee6f4ef-2d50-4fb6-9ef2-20ee1022995a/project/Pandas-Notebook-employee-dataset-7e3b6755-5d4b-464b-9b75-9c84667ae3bd/%2Fnotebook.ipynb)\n\n3. Pandas Notebook 3: [Link](https://deepnote.com/workspace/avi-chawla-695b-aee6f4ef-2d50-4fb6-9ef2-20ee1022995a/project/Pandas-Notebook-employee-part-2-adc5a3ee-5f61-4725-8e46-ccb07899acfc/%2Fnotebook.ipynb)\n\n4. Pandas Notebook 4: [Link](https://deepnote.com/workspace/avi-chawla-695b-aee6f4ef-2d50-4fb6-9ef2-20ee1022995a/project/Pandas-after-employee-f84e02a1-fb6a-428e-af90-8dd99855749a/%2Fnotebook.ipynb)\n\n- **NumPy**\n\n1. NumPy Notebook 1: [Link](https://deepnote.com/workspace/avi-chawla-695b-aee6f4ef-2d50-4fb6-9ef2-20ee1022995a/project/Numpy-part-1-9b9979f2-b708-4292-b466-3d0157564c91/%2Fnotebook.ipynb)\n\n2. NumPy Notebook 2: [Link](https://deepnote.com/workspace/avi-chawla-695b-aee6f4ef-2d50-4fb6-9ef2-20ee1022995a/project/NumPy-Notebook-2-4456411e-2ddd-426d-8027-4881080027db/%2Fnotebook.ipynb)\n\n3. NumPy Notebook 3: [Link](https://deepnote.com/workspace/avi-chawla-695b-aee6f4ef-2d50-4fb6-9ef2-20ee1022995a/project/NumPy-Notebook-3-e6587114-b580-4249-b599-540de859e603/%2Fnotebook.ipynb)\n\n- **SQL**\n\n1. SQL Notebook 1: [Link](https://deepnote.com/workspace/avi-chawla-695b-aee6f4ef-2d50-4fb6-9ef2-20ee1022995a/project/SQL-Notebook-1-eac9d782-a9b1-4e84-a1f9-af14080a6121/%2Fnotebook.ipynb)\n\n2. SQL Notebook 2: [Link](https://deepnote.com/workspace/avi-chawla-695b-aee6f4ef-2d50-4fb6-9ef2-20ee1022995a/project/SQL-Notebook-2-1914b214-be03-44a1-be63-ad99e98be639/%2Fnotebook.ipynb)",
   "metadata": {
    "cell_id": "3890a680ecf041e7b2c07e903b4902cf",
    "tags": [],
    "deepnote_cell_type": "markdown",
    "deepnote_cell_height": 403.6875
   }
  },
  {
   "cell_type": "markdown",
   "source": "## How to use this notebook?",
   "metadata": {
    "is_collapsed": false,
    "cell_id": "98106bcb90fd40e6b3206151d10bf515",
    "tags": [],
    "formattedRanges": [],
    "deepnote_cell_type": "text-cell-h2"
   }
  },
  {
   "cell_type": "markdown",
   "source": "At the top right corner, you will find a Duplicate button. This will allow you to create a unique notebook for your own practice and write solutions to the question listed in this notebook.  ",
   "metadata": {
    "is_collapsed": false,
    "cell_id": "0a87fdd8-977b-4311-ab52-eaa103362e5e",
    "tags": [],
    "formattedRanges": [
     {
      "fromCodePoint": 41,
      "toCodePoint": 50,
      "marks": {
       "bold": true
      }
     }
    ],
    "deepnote_cell_type": "text-cell-p"
   }
  },
  {
   "cell_type": "markdown",
   "source": "If you face any issues or have any feedback, feel free to reach out to me (Avi Chawla) either on Linkedin: https://www.linkedin.com/in/avi-chawla/ or write an email to avi@dsscholar[dot]com. ",
   "metadata": {
    "cell_id": "0898b89379a34000a2970a0f390d176d",
    "tags": [],
    "deepnote_cell_type": "markdown",
    "deepnote_cell_height": 74.78125
   }
  },
  {
   "cell_type": "markdown",
   "source": "Let's begin 🚀!",
   "metadata": {
    "is_collapsed": false,
    "cell_id": "ed11dcd6160344129644d2834cab1dfd",
    "tags": [],
    "formattedRanges": [],
    "deepnote_cell_type": "text-cell-p"
   }
  },
  {
   "cell_type": "markdown",
   "source": "# Pandas Notebook 1",
   "metadata": {
    "is_collapsed": false,
    "cell_id": "8795016d13a94a7cbf00e25002692565",
    "tags": [],
    "formattedRanges": [],
    "deepnote_cell_type": "text-cell-h1"
   }
  },
  {
   "cell_type": "code",
   "metadata": {
    "cell_id": "95862526f5a84963be785d7f6d19fb47",
    "tags": [],
    "deepnote_to_be_reexecuted": false,
    "source_hash": "c76c7c51",
    "execution_start": 1659984470280,
    "execution_millis": 2,
    "deepnote_cell_type": "code",
    "deepnote_cell_height": 94
   },
   "source": "import pandas as pd\nimport numpy as np",
   "execution_count": null,
   "outputs": []
  },
  {
   "cell_type": "markdown",
   "source": "## Create a Pandas DataFrame",
   "metadata": {
    "formattedRanges": [],
    "is_collapsed": false,
    "cell_id": "21e63f2d85da448db245a68f10768cde",
    "tags": [],
    "deepnote_cell_type": "text-cell-h2"
   }
  },
  {
   "cell_type": "markdown",
   "source": "### 1. Create a DataFrame from a list of lists. Name the columns \"col1\", \"col2\" and \"col3\".",
   "metadata": {
    "formattedRanges": [],
    "is_collapsed": false,
    "cell_id": "276e7f6f0b694a56909af8a106810fb0",
    "tags": [],
    "deepnote_cell_type": "text-cell-h3"
   }
  },
  {
   "cell_type": "code",
   "metadata": {
    "cell_id": "b59d69f5809d4ed7b267a247cea72e69",
    "tags": [],
    "deepnote_cell_type": "code",
    "deepnote_cell_height": 115
   },
   "source": "data_list = [[1,2,3], [4,5,6]]\n\ndf = ## Write the code here.\nprint(df)",
   "execution_count": null,
   "outputs": []
  },
  {
   "cell_type": "markdown",
   "source": "### 2. Create a DataFrame from a list of lists. Name the columns \"col1\", \"col2\" and \"col3\". Change the data type of all columns to \"int8\".",
   "metadata": {
    "formattedRanges": [],
    "is_collapsed": false,
    "cell_id": "d5ec872f2979433b92a0e888586ef219",
    "tags": [],
    "deepnote_cell_type": "text-cell-h3"
   }
  },
  {
   "cell_type": "code",
   "source": "data_list = [[1,2,3], [4,5,6]]\n\ndf = ## Write the code here.\nprint(df) \nprint(df.dtypes)",
   "metadata": {
    "cell_id": "dc0175fb2b084093b822f788f331b5b1",
    "tags": [],
    "deepnote_cell_type": "code",
    "deepnote_cell_height": 133
   },
   "execution_count": null,
   "outputs": []
  },
  {
   "cell_type": "markdown",
   "source": "### 3. Create a DataFrame from a dictionary.",
   "metadata": {
    "formattedRanges": [],
    "is_collapsed": false,
    "cell_id": "d885083fd60748f6a65df6593ce0cfc4",
    "tags": [],
    "deepnote_cell_type": "text-cell-h3"
   }
  },
  {
   "cell_type": "code",
   "metadata": {
    "cell_id": "47e2b5b9751e42bf92b25ab7e14faea1",
    "tags": [],
    "deepnote_cell_type": "code",
    "deepnote_cell_height": 115
   },
   "source": "data_dict = {'col1': [1, 2], 'col2': [3, 4]}\n\ndf = ## Write the code here.\nprint(df)",
   "execution_count": null,
   "outputs": []
  },
  {
   "cell_type": "markdown",
   "source": "### 4. Create a DataFrame from a dictionary. Change the data type to \"int8\".",
   "metadata": {
    "formattedRanges": [],
    "is_collapsed": false,
    "cell_id": "257e7704b1b7469991771a5eefb7c81b",
    "tags": [],
    "deepnote_cell_type": "text-cell-h3"
   }
  },
  {
   "cell_type": "code",
   "metadata": {
    "cell_id": "749f8bb885724448b97de2bb96c192a1",
    "tags": [],
    "deepnote_cell_type": "code",
    "deepnote_cell_height": 133
   },
   "source": "data_dict = {'col1': [1, 2], 'col2': [3, 4]}\n\ndf = ## Write the code here.\nprint(df)\nprint(df.dtypes)",
   "execution_count": null,
   "outputs": []
  },
  {
   "cell_type": "markdown",
   "source": "### 5. Create a DataFrame from a numpy array. Name the columns \"col1\", \"col2\" and \"col3\".",
   "metadata": {
    "formattedRanges": [],
    "is_collapsed": false,
    "cell_id": "fe584ac23a424d018fae5d09652aea6e",
    "tags": [],
    "deepnote_cell_type": "text-cell-h3"
   }
  },
  {
   "cell_type": "code",
   "metadata": {
    "cell_id": "415ba1ec71f7480cb178c193bd1929f8",
    "tags": [],
    "deepnote_cell_type": "code",
    "deepnote_cell_height": 115
   },
   "source": "data_nparray = np.array([[1,2,3], [4,5,6]])\n\ndf = ## Write the code here.\nprint(df)",
   "execution_count": null,
   "outputs": []
  },
  {
   "cell_type": "markdown",
   "source": "Read More about DataFrame creation methods here: https://pandas.pydata.org/pandas-docs/stable/reference/api/pandas.DataFrame.html\n",
   "metadata": {
    "cell_id": "830a085278d943f7a8f1f44e830fba1c",
    "tags": [],
    "deepnote_cell_type": "markdown",
    "deepnote_cell_height": 74.78125
   }
  },
  {
   "cell_type": "markdown",
   "source": "## Input Operations from CSV in Pandas",
   "metadata": {
    "formattedRanges": [],
    "is_collapsed": false,
    "cell_id": "55ff8b2e82ca4586af028af15a1e003b",
    "tags": [],
    "deepnote_cell_type": "text-cell-h2"
   }
  },
  {
   "cell_type": "markdown",
   "source": "### 6. Read a CSV File.",
   "metadata": {
    "formattedRanges": [],
    "is_collapsed": false,
    "cell_id": "c4c3381b396444dca326a39b36cfb4e3",
    "tags": [],
    "deepnote_cell_type": "text-cell-h3"
   }
  },
  {
   "cell_type": "code",
   "metadata": {
    "tags": [],
    "cell_id": "12c91a8a-61c5-4bb2-b1c9-faafd131d011",
    "deepnote_to_be_reexecuted": false,
    "source_hash": "b623e53d",
    "execution_start": 1659896158632,
    "execution_millis": 1,
    "deepnote_cell_type": "code",
    "deepnote_cell_height": 130
   },
   "source": "csv_file = \"input_data/file1.csv\"\n\ndf = ## Write the code here.\nprint(df)",
   "execution_count": null,
   "outputs": []
  },
  {
   "cell_type": "markdown",
   "source": "### 7. Read a CSV file with delimiter \"|\".",
   "metadata": {
    "formattedRanges": [],
    "is_collapsed": false,
    "cell_id": "fbdaeb4a7f8d4f64a063a2f9001f678d",
    "tags": [],
    "deepnote_cell_type": "text-cell-h3"
   }
  },
  {
   "cell_type": "code",
   "metadata": {
    "cell_id": "2a2f888565144872a6254f45f4ac0c21",
    "tags": [],
    "deepnote_cell_type": "code",
    "deepnote_cell_height": 115
   },
   "source": "csv_file = \"input_data/file2.csv\"\n\ndf = ## Write the code here.\nprint(df)",
   "execution_count": null,
   "outputs": []
  },
  {
   "cell_type": "markdown",
   "source": "### 8. Read a CSV file with no header column and use \"col1\", \"col2\" and \"col3\" as column names. The delimiter is \",\".",
   "metadata": {
    "formattedRanges": [],
    "is_collapsed": false,
    "cell_id": "9a2b48a25ef6496e886a50ed1ad46980",
    "tags": [],
    "deepnote_cell_type": "text-cell-h3"
   }
  },
  {
   "cell_type": "code",
   "metadata": {
    "cell_id": "e472c11815024c988caf3cfff58622c3",
    "tags": [],
    "deepnote_cell_type": "code",
    "deepnote_cell_height": 115
   },
   "source": "csv_file = \"input_data/file3.csv\"\n\ndf = ## Write the code here.\nprint(df)",
   "execution_count": null,
   "outputs": []
  },
  {
   "cell_type": "markdown",
   "source": "### 9. There are 3 columns in the file, namely \"col1\", \"col2\", and \"col3\". You have to read only \"col1\" and \"col3\".",
   "metadata": {
    "formattedRanges": [],
    "is_collapsed": false,
    "cell_id": "1532625ade7643578a94a3119e9425eb",
    "tags": [],
    "deepnote_cell_type": "text-cell-h3"
   }
  },
  {
   "cell_type": "code",
   "metadata": {
    "cell_id": "7e2c2ca482ba4c5085f0dbec7d3fd357",
    "tags": [],
    "deepnote_cell_type": "code",
    "deepnote_cell_height": 115
   },
   "source": "csv_file = \"input_data/file1.csv\"\n\ndf = ## Write the code here. \nprint(df)",
   "execution_count": null,
   "outputs": []
  },
  {
   "cell_type": "markdown",
   "source": "### 10. There are 3 columns in the file, namely \"col1\", \"col2\", and \"col3\". You have to read only \"col1\" and \"col3\". Moreover, the delimiter is \"|\".",
   "metadata": {
    "formattedRanges": [],
    "is_collapsed": false,
    "cell_id": "f0a47835f45f4e939f5163306001b73e",
    "tags": [],
    "deepnote_cell_type": "text-cell-h3"
   }
  },
  {
   "cell_type": "code",
   "metadata": {
    "cell_id": "77541847b6c946e3a49079e2b315b2d6",
    "tags": [],
    "deepnote_cell_type": "code",
    "deepnote_cell_height": 115
   },
   "source": "csv_file = \"input_data/file2.csv\"\n\ndf = ## Write the code here.\nprint(df)",
   "execution_count": null,
   "outputs": []
  },
  {
   "cell_type": "markdown",
   "source": "### 11. The file \"file4.csv\" has junk characters in the first two lines. You have to read the CSV file from the 3rd line.",
   "metadata": {
    "formattedRanges": [],
    "is_collapsed": false,
    "cell_id": "9e25c6d7aa9443d3ba0d8e2bc9ea8dc8",
    "tags": [],
    "deepnote_cell_type": "text-cell-h3"
   }
  },
  {
   "cell_type": "code",
   "metadata": {
    "cell_id": "dafb1e07b95c44d7a5c7c8526131494a",
    "tags": [],
    "deepnote_cell_type": "code",
    "deepnote_cell_height": 115
   },
   "source": "csv_file = \"input_data/file4.csv\"\n\ndf = ## Write the code here.\nprint(df)",
   "execution_count": null,
   "outputs": []
  },
  {
   "cell_type": "markdown",
   "source": "### 12. There are 3 columns in the file, namely \"col1\", \"col2\", and \"col3\". While reading the CSV file, specify the data type of \"col1\" as 'int32'.",
   "metadata": {
    "formattedRanges": [],
    "is_collapsed": false,
    "cell_id": "0ed5417e580c46b7a708396277330c49",
    "tags": [],
    "deepnote_cell_type": "text-cell-h3"
   }
  },
  {
   "cell_type": "code",
   "metadata": {
    "cell_id": "50bb8f60dcca45e0b0afc946a1003620",
    "tags": [],
    "deepnote_cell_type": "code",
    "deepnote_cell_height": 115
   },
   "source": "csv_file = \"input_data/file1.csv\"\n\ndf = ## Write the code here.\nprint(df)",
   "execution_count": null,
   "outputs": []
  },
  {
   "cell_type": "markdown",
   "source": "### 13. The first column in the CSV file holds index values of the dataframe. Read it so that the first column goes as the index column of the dataframe.",
   "metadata": {
    "formattedRanges": [],
    "is_collapsed": false,
    "cell_id": "637961e825064ce796310f46ffb22899",
    "tags": [],
    "deepnote_cell_type": "text-cell-h3"
   }
  },
  {
   "cell_type": "code",
   "source": "csv_file = \"input_data/file5.csv\"\n\ndf = ## Write the code here.\nprint(df)",
   "metadata": {
    "cell_id": "e3ced9293bfb4fd3b1736fa8cad97908",
    "tags": [],
    "deepnote_to_be_reexecuted": false,
    "source_hash": "6f4f6738",
    "execution_start": 1659897460042,
    "execution_millis": 14,
    "deepnote_cell_type": "code",
    "deepnote_cell_height": 130
   },
   "execution_count": null,
   "outputs": []
  },
  {
   "cell_type": "markdown",
   "source": "### 14. There are 9 data rows in the CSV file. Read only the first 4 of them.",
   "metadata": {
    "formattedRanges": [],
    "is_collapsed": false,
    "cell_id": "a1e92cb74cce449b98a7e2ab0083ced7",
    "tags": [],
    "deepnote_cell_type": "text-cell-h3"
   }
  },
  {
   "cell_type": "markdown",
   "source": "Note: You should NOT read the whole CSV file and use the head() method to select the first 4 rows. 🚫",
   "metadata": {
    "formattedRanges": [
     {
      "fromCodePoint": 0,
      "toCodePoint": 100,
      "marks": {
       "bold": true
      }
     }
    ],
    "is_collapsed": false,
    "cell_id": "7d817f78-6af6-4d8a-bd39-48cd9c905b70",
    "tags": [],
    "deepnote_cell_type": "text-cell-p"
   }
  },
  {
   "cell_type": "code",
   "metadata": {
    "cell_id": "984920c221094c4c903c7b7d97a37ef4",
    "tags": [],
    "deepnote_cell_type": "code",
    "deepnote_cell_height": 115
   },
   "source": "csv_file = \"input_data/file6.csv\"\n\ndf = ## Write the code here.\nprint(df)",
   "execution_count": null,
   "outputs": []
  },
  {
   "cell_type": "markdown",
   "source": "### 15. There are some blank lines in the CSV file. While reading the CSV, you should skip these blank lines.",
   "metadata": {
    "formattedRanges": [],
    "is_collapsed": false,
    "cell_id": "6b813392a4c84175adcef0b9638fb953",
    "tags": [],
    "deepnote_cell_type": "text-cell-h3"
   }
  },
  {
   "cell_type": "code",
   "source": "csv_file = \"input_data/file7.csv\"\n\ndf = ## Write the code here.\nprint(df)",
   "metadata": {
    "cell_id": "7199ab91040d4401b6c8600b47a078e7",
    "tags": [],
    "deepnote_cell_type": "code",
    "deepnote_cell_height": 115
   },
   "execution_count": null,
   "outputs": []
  },
  {
   "cell_type": "markdown",
   "source": "Read More about reading from a CSV here: https://pandas.pydata.org/pandas-docs/stable/reference/api/pandas.read_csv.html",
   "metadata": {
    "cell_id": "a6af7abc7c004eb29b0f2406cad20202",
    "tags": [],
    "deepnote_cell_type": "markdown",
    "deepnote_cell_height": 52.390625
   }
  },
  {
   "cell_type": "markdown",
   "source": "## Output Operations to CSV in Pandas",
   "metadata": {
    "formattedRanges": [],
    "is_collapsed": false,
    "cell_id": "ecd61179c8ac452eb7e023fff7caa00c",
    "tags": [],
    "deepnote_cell_type": "text-cell-h2"
   }
  },
  {
   "cell_type": "markdown",
   "source": "### 16. Given the dataframe \"df\", store it to a CSV File (with the index values).",
   "metadata": {
    "formattedRanges": [],
    "is_collapsed": false,
    "cell_id": "0e5a5c81a17b4ce8ac90999cb46adfbd",
    "tags": [],
    "deepnote_cell_type": "text-cell-h3"
   }
  },
  {
   "cell_type": "code",
   "metadata": {
    "cell_id": "1ee950ff8c8643039739d53b6e86599e",
    "tags": [],
    "deepnote_to_be_reexecuted": false,
    "source_hash": "a0acabfa",
    "execution_start": 1659898703469,
    "execution_millis": 1,
    "deepnote_cell_type": "code",
    "deepnote_cell_height": 256
   },
   "source": "df = pd.DataFrame([[1,2,3], [4,5,6]], \n                  columns = [\"col1\", \"col2\", \"col3\"])\n\ncsv_file = \"output_data/file1.csv\"\n\n## Start your code here\n\n## End your code here\n\n## Preview the file (DO NOT CHANGE!)\n!cat \"{csv_file}\"",
   "execution_count": null,
   "outputs": []
  },
  {
   "cell_type": "markdown",
   "source": "### 17. Given the dataframe \"df\", store it to a CSV File without the index column this time.",
   "metadata": {
    "formattedRanges": [],
    "is_collapsed": false,
    "cell_id": "9a5b2e2f8a3c4991b125d9476dc4ccce",
    "tags": [],
    "deepnote_cell_type": "text-cell-h3"
   }
  },
  {
   "cell_type": "code",
   "metadata": {
    "cell_id": "c4f333203d1047e6bbd5fc234f7f6794",
    "tags": [],
    "deepnote_cell_type": "code",
    "deepnote_cell_height": 241
   },
   "source": "df = pd.DataFrame([[1,2,3], [4,5,6]], \n                  columns = [\"col1\", \"col2\", \"col3\"])\n\ncsv_file = \"output_data/file2.csv\"\n\n## Start your code here\n\n## End your code here\n\n## Preview the file (DO NOT CHANGE!)\n!cat \"{csv_file}\"",
   "execution_count": null,
   "outputs": []
  },
  {
   "cell_type": "markdown",
   "source": "### 18. Given the dataframe \"df\", store it to a CSV File with delimiter as \"|\". (without the index values)",
   "metadata": {
    "formattedRanges": [],
    "is_collapsed": false,
    "cell_id": "fd57ffa929134477b3d96cd586a8b5e9",
    "tags": [],
    "deepnote_cell_type": "text-cell-h3"
   }
  },
  {
   "cell_type": "code",
   "metadata": {
    "cell_id": "03cd9fcb8315416386ded38f8239358a",
    "tags": [],
    "deepnote_cell_type": "code",
    "deepnote_cell_height": 241
   },
   "source": "df = pd.DataFrame([[1,2,3], [4,5,6]], \n                  columns = [\"col1\", \"col2\", \"col3\"])\n\ncsv_file = \"output_data/file3.csv\"\n\n## Start your code here\n\n## End your code here\n\n## Preview the file (DO NOT CHANGE!)\n!cat \"{csv_file}\"",
   "execution_count": null,
   "outputs": []
  },
  {
   "cell_type": "markdown",
   "source": "### 19. Given a dataframe \"df\" with three columns -- \"col1\", \"col2\" and \"col3\". Store only \"col1\" and \"col3\" to a CSV file (without the index values)",
   "metadata": {
    "formattedRanges": [],
    "is_collapsed": false,
    "cell_id": "a0ec3a7a56634e1985d95dff2a389a6f",
    "tags": [],
    "deepnote_cell_type": "text-cell-h3"
   }
  },
  {
   "cell_type": "code",
   "metadata": {
    "cell_id": "9d84df62071d44fdbb790bf4f17bb7b6",
    "tags": [],
    "deepnote_to_be_reexecuted": false,
    "source_hash": "e6d00f42",
    "execution_start": 1659899383158,
    "execution_millis": 1,
    "deepnote_cell_type": "code",
    "deepnote_cell_height": 256
   },
   "source": "df = pd.DataFrame([[1,2,3], [4,5,6]], \n                  columns = [\"col1\", \"col2\", \"col3\"])\n\ncsv_file = \"output_data/file4.csv\"\n\n## Start your code here\n\n## End your code here\n\n## Preview the file (DO NOT CHANGE!)\n!cat \"{csv_file}\"",
   "execution_count": null,
   "outputs": []
  },
  {
   "cell_type": "markdown",
   "source": "### 20. Given a dataframe \"df\" with three columns -- \"col1\", \"col2\" and \"col3\". Store the DataFrame to a CSV file without the column row ( and without the index values).",
   "metadata": {
    "formattedRanges": [],
    "is_collapsed": false,
    "cell_id": "bd5e96f5db22438cb37530fcb38d6058",
    "tags": [],
    "deepnote_cell_type": "text-cell-h3"
   }
  },
  {
   "cell_type": "code",
   "metadata": {
    "cell_id": "69ce6d0380794c18aaf20e5ad9caaf5c",
    "tags": [],
    "deepnote_cell_type": "code",
    "deepnote_cell_height": 241
   },
   "source": "df = pd.DataFrame([[1,2,3], [4,5,6]], \n                  columns = [\"col1\", \"col2\", \"col3\"])\n\ncsv_file = \"output_data/file5.csv\"\n\n## Start your code here\n\n## End your code here\n\n## Preview the file (DO NOT CHANGE!)\n!cat \"{csv_file}\"",
   "execution_count": null,
   "outputs": []
  },
  {
   "cell_type": "markdown",
   "source": "Read More about storing to a CSV here: https://pandas.pydata.org/pandas-docs/stable/reference/api/pandas.DataFrame.to_csv.html",
   "metadata": {
    "cell_id": "65a949f6560249a0bedd9a0bf10f3760",
    "tags": [],
    "deepnote_cell_type": "markdown",
    "deepnote_cell_height": 74.78125
   }
  },
  {
   "cell_type": "markdown",
   "source": "## Input Operations from other file formats in Pandas",
   "metadata": {
    "formattedRanges": [],
    "is_collapsed": false,
    "cell_id": "86de39ca42244a328d04f6346f2d606b",
    "tags": [],
    "deepnote_cell_type": "text-cell-h2"
   }
  },
  {
   "cell_type": "markdown",
   "source": "### 21. Read a DataFrame from a Pickle File.",
   "metadata": {
    "formattedRanges": [],
    "is_collapsed": false,
    "cell_id": "5992cc1b434f444387c3d9da07d2573e",
    "tags": [],
    "deepnote_cell_type": "text-cell-h3"
   }
  },
  {
   "cell_type": "code",
   "metadata": {
    "cell_id": "ff1c64995b814508a90ca4d5f11ac984",
    "tags": [],
    "deepnote_cell_type": "code",
    "deepnote_cell_height": 115
   },
   "source": "pickle_file = \"input_data/file1.pickle\"\n\ndf = ## Write the code here.\nprint(df)",
   "execution_count": null,
   "outputs": []
  },
  {
   "cell_type": "markdown",
   "source": "### 22. Read a DataFrame from a Parquet File.",
   "metadata": {
    "formattedRanges": [],
    "is_collapsed": false,
    "cell_id": "6b02f8d081e849ff8f90171acaf777fc",
    "tags": [],
    "deepnote_cell_type": "text-cell-h3"
   }
  },
  {
   "cell_type": "code",
   "metadata": {
    "cell_id": "3ad00113d6f94a16b1a03b6cca408da7",
    "tags": [],
    "deepnote_cell_type": "code",
    "deepnote_cell_height": 115
   },
   "source": "parquet_file = \"input_data/file1.parquet\"\n\ndf = ## Write the code here.\nprint(df)",
   "execution_count": null,
   "outputs": []
  },
  {
   "cell_type": "markdown",
   "source": "### 23. Read a DataFrame from a Parquet File. The file has three columns, \"col1\", \"col2\" and \"col3\". Read only \"col1\" and \"col3\".",
   "metadata": {
    "formattedRanges": [],
    "is_collapsed": false,
    "cell_id": "72b3fa74bba44b2a8a00ab43e5882a52",
    "tags": [],
    "deepnote_cell_type": "text-cell-h3"
   }
  },
  {
   "cell_type": "code",
   "metadata": {
    "cell_id": "a24cabb5ebfa4e079511b26d80bfc4b6",
    "tags": [],
    "deepnote_cell_type": "code",
    "deepnote_cell_height": 115
   },
   "source": "parquet_file = \"input_data/file1.parquet\"\n\ndf = ## Write the code here.\nprint(df)",
   "execution_count": null,
   "outputs": []
  },
  {
   "cell_type": "markdown",
   "source": "### 24. Read a DataFrame from a Feather File.",
   "metadata": {
    "formattedRanges": [],
    "is_collapsed": false,
    "cell_id": "42943a49fc6a4d81af417edb16aa7825",
    "tags": [],
    "deepnote_cell_type": "text-cell-h3"
   }
  },
  {
   "cell_type": "code",
   "metadata": {
    "cell_id": "3bd835a369764f6c96fad58bf690a8fa",
    "tags": [],
    "deepnote_cell_type": "code",
    "deepnote_cell_height": 115
   },
   "source": "feather_file = \"input_data/file1.feather\"\n\ndf = ## Write the code here.\nprint(df)",
   "execution_count": null,
   "outputs": []
  },
  {
   "cell_type": "markdown",
   "source": "### 25. Read a DataFrame from a Feather File. The file has three columns, \"col1\", \"col2\" and \"col3\". Read only \"col1\" and \"col3\".",
   "metadata": {
    "formattedRanges": [],
    "is_collapsed": false,
    "cell_id": "859223c14251410c920331e65327a4a0",
    "tags": [],
    "deepnote_cell_type": "text-cell-h3"
   }
  },
  {
   "cell_type": "code",
   "metadata": {
    "cell_id": "78913ba6062b4e9698983b18b330fd4d",
    "tags": [],
    "deepnote_cell_type": "code",
    "deepnote_cell_height": 115
   },
   "source": "feather_file = \"input_data/file1.feather\"\n\ndf = ## Write the code here.\nprint(df)",
   "execution_count": null,
   "outputs": []
  },
  {
   "cell_type": "markdown",
   "source": "## Output Operations to other file formats in Pandas",
   "metadata": {
    "formattedRanges": [],
    "is_collapsed": false,
    "cell_id": "e71df04d257d4aaf90957ee88159da56",
    "tags": [],
    "deepnote_cell_type": "text-cell-h2"
   }
  },
  {
   "cell_type": "markdown",
   "source": "### 26. Save the DataFrame to a Pickle File.",
   "metadata": {
    "formattedRanges": [],
    "is_collapsed": false,
    "cell_id": "83f032a5e6d440c5afeb6ece383b72bc",
    "tags": [],
    "deepnote_cell_type": "text-cell-h3"
   }
  },
  {
   "cell_type": "code",
   "metadata": {
    "cell_id": "8d213a26-58a7-4f3e-8252-32647812404c",
    "tags": [],
    "deepnote_cell_type": "code",
    "deepnote_cell_height": 241
   },
   "source": "df = pd.DataFrame([[1,2,3], [4,5,6]], \n                  columns = [\"col1\", \"col2\", \"col3\"])\n\npickle_file = \"output_data/file1.pickle\"\n\n## Start your code here\n\n## End your code here\n\n## Preview the file (DO NOT CHANGE!)\n!cat \"{pickle_file}\"",
   "execution_count": null,
   "outputs": []
  },
  {
   "cell_type": "markdown",
   "source": "### 27. Save the DataFrame to a Parquet File.",
   "metadata": {
    "formattedRanges": [],
    "is_collapsed": false,
    "cell_id": "d2080d0c25ba4949bcdae285e4cd4437",
    "tags": [],
    "deepnote_cell_type": "text-cell-h3"
   }
  },
  {
   "cell_type": "code",
   "metadata": {
    "cell_id": "cd34930b-b385-43a8-b67a-44645139a313",
    "tags": [],
    "deepnote_cell_type": "code",
    "deepnote_cell_height": 241
   },
   "source": "df = pd.DataFrame([[1,2,3], [4,5,6]], \n                  columns = [\"col1\", \"col2\", \"col3\"])\n\nparquet_file = \"output_data/file1.parquet\"\n\n## Start your code here\n\n## End your code here\n\n## Preview the file (DO NOT CHANGE!)\n!cat \"{pickle_file}\"",
   "execution_count": null,
   "outputs": []
  },
  {
   "cell_type": "markdown",
   "source": "### 28. Save the DataFrame to a Parquet File without the index column",
   "metadata": {
    "formattedRanges": [],
    "is_collapsed": false,
    "cell_id": "f06d052962ab4d3c8e4471ac42503fdc",
    "tags": [],
    "deepnote_cell_type": "text-cell-h3"
   }
  },
  {
   "cell_type": "code",
   "metadata": {
    "cell_id": "2bba6437-bd98-436b-9baf-83425ea52b9f",
    "tags": [],
    "deepnote_cell_type": "code",
    "deepnote_cell_height": 241
   },
   "source": "df = pd.DataFrame([[1,2,3], [4,5,6]], \n                  columns = [\"col1\", \"col2\", \"col3\"])\n\nparquet_file = \"output_data/file2.parquet\"\n\n## Start your code here\n\n## End your code here\n\n## Preview the file (DO NOT CHANGE!)\n!cat \"{pickle_file}\"",
   "execution_count": null,
   "outputs": []
  },
  {
   "cell_type": "markdown",
   "source": "### 29. Save the DataFrame to a Feather File.",
   "metadata": {
    "formattedRanges": [],
    "is_collapsed": false,
    "cell_id": "bb64918d738f41ba88ed7ea51c323516",
    "tags": [],
    "deepnote_cell_type": "text-cell-h3"
   }
  },
  {
   "cell_type": "code",
   "metadata": {
    "cell_id": "412f7ff4-d19f-4db7-a1ca-2e2ff7cd6630",
    "tags": [],
    "deepnote_cell_type": "code",
    "deepnote_cell_height": 241
   },
   "source": "df = pd.DataFrame([[1,2,3], [4,5,6]], \n                  columns = [\"col1\", \"col2\", \"col3\"])\n\nfeather_file = \"output_data/file1.feather\"\n\n## Start your code here\n\n## End your code here\n\n## Preview the file (DO NOT CHANGE!)\n!cat \"{feather_file}\"",
   "execution_count": null,
   "outputs": []
  },
  {
   "cell_type": "markdown",
   "source": "### 30. Save the DataFrame to a Feather File without the index column.",
   "metadata": {
    "formattedRanges": [],
    "is_collapsed": false,
    "cell_id": "16493302bbaa4051b033c5ec437aefb3",
    "tags": [],
    "deepnote_cell_type": "text-cell-h3"
   }
  },
  {
   "cell_type": "code",
   "metadata": {
    "cell_id": "acb48184-b2a8-4857-9f08-f0e940e78171",
    "tags": [],
    "deepnote_cell_type": "code",
    "deepnote_cell_height": 241
   },
   "source": "df = pd.DataFrame([[1,2,3], [4,5,6]], \n                  columns = [\"col1\", \"col2\", \"col3\"])\n\nfeather_file = \"output_data/file2.feather\"\n\n## Start your code here\n\n## End your code here\n\n## Preview the file (DO NOT CHANGE!)\n!cat \"{feather_file}\"",
   "execution_count": null,
   "outputs": []
  },
  {
   "cell_type": "markdown",
   "source": "Read More about performance of the various file formats in my blogs below:\n\nhttps://towardsdatascience.com/its-time-to-say-goodbye-to-pd-read-csv-and-pd-to-csv-27fbc74e84c5\n\nhttps://medium.com/towards-data-science/why-i-stopped-dumping-dataframes-to-a-csv-and-why-you-should-too-c0954c410f8f",
   "metadata": {
    "cell_id": "7d44a85eb5dc4e11abe6538249af24f6",
    "tags": [],
    "deepnote_cell_type": "markdown",
    "deepnote_cell_height": 147.5625
   }
  },
  {
   "cell_type": "markdown",
   "source": "Great job solving this notebook. Go to Pandas Notebook 2: [Link](https://deepnote.com/workspace/avi-chawla-695b-aee6f4ef-2d50-4fb6-9ef2-20ee1022995a/project/Pandas-Notebook-employee-dataset-7e3b6755-5d4b-464b-9b75-9c84667ae3bd/%2Fnotebook.ipynb)",
   "metadata": {
    "cell_id": "094c4a4544034406a4b6c7750e0cf783",
    "tags": [],
    "deepnote_cell_type": "markdown",
    "deepnote_cell_height": 135.390625
   }
  },
  {
   "cell_type": "markdown",
   "source": "",
   "metadata": {
    "cell_id": "d1273a6dcb5948d48b4e39656b9a4615",
    "tags": [],
    "deepnote_cell_type": "markdown"
   }
  },
  {
   "cell_type": "markdown",
   "source": "<a style='text-decoration:none;line-height:16px;display:flex;color:#5B5B62;padding:10px;justify-content:end;' href='https://deepnote.com?utm_source=created-in-deepnote-cell&projectId=d693ac55-6455-40cf-ae34-867c6a02014e' target=\"_blank\">\n<img alt='Created in deepnote.com' style='display:inline;max-height:16px;margin:0px;margin-right:7.5px;' src='data:image/svg+xml;base64,PD94bWwgdmVyc2lvbj0iMS4wIiBlbmNvZGluZz0iVVRGLTgiPz4KPHN2ZyB3aWR0aD0iODBweCIgaGVpZ2h0PSI4MHB4IiB2aWV3Qm94PSIwIDAgODAgODAiIHZlcnNpb249IjEuMSIgeG1sbnM9Imh0dHA6Ly93d3cudzMub3JnLzIwMDAvc3ZnIiB4bWxuczp4bGluaz0iaHR0cDovL3d3dy53My5vcmcvMTk5OS94bGluayI+CiAgICA8IS0tIEdlbmVyYXRvcjogU2tldGNoIDU0LjEgKDc2NDkwKSAtIGh0dHBzOi8vc2tldGNoYXBwLmNvbSAtLT4KICAgIDx0aXRsZT5Hcm91cCAzPC90aXRsZT4KICAgIDxkZXNjPkNyZWF0ZWQgd2l0aCBTa2V0Y2guPC9kZXNjPgogICAgPGcgaWQ9IkxhbmRpbmciIHN0cm9rZT0ibm9uZSIgc3Ryb2tlLXdpZHRoPSIxIiBmaWxsPSJub25lIiBmaWxsLXJ1bGU9ImV2ZW5vZGQiPgogICAgICAgIDxnIGlkPSJBcnRib2FyZCIgdHJhbnNmb3JtPSJ0cmFuc2xhdGUoLTEyMzUuMDAwMDAwLCAtNzkuMDAwMDAwKSI+CiAgICAgICAgICAgIDxnIGlkPSJHcm91cC0zIiB0cmFuc2Zvcm09InRyYW5zbGF0ZSgxMjM1LjAwMDAwMCwgNzkuMDAwMDAwKSI+CiAgICAgICAgICAgICAgICA8cG9seWdvbiBpZD0iUGF0aC0yMCIgZmlsbD0iIzAyNjVCNCIgcG9pbnRzPSIyLjM3NjIzNzYyIDgwIDM4LjA0NzY2NjcgODAgNTcuODIxNzgyMiA3My44MDU3NTkyIDU3LjgyMTc4MjIgMzIuNzU5MjczOSAzOS4xNDAyMjc4IDMxLjY4MzE2ODMiPjwvcG9seWdvbj4KICAgICAgICAgICAgICAgIDxwYXRoIGQ9Ik0zNS4wMDc3MTgsODAgQzQyLjkwNjIwMDcsNzYuNDU0OTM1OCA0Ny41NjQ5MTY3LDcxLjU0MjI2NzEgNDguOTgzODY2LDY1LjI2MTk5MzkgQzUxLjExMjI4OTksNTUuODQxNTg0MiA0MS42NzcxNzk1LDQ5LjIxMjIyODQgMjUuNjIzOTg0Niw0OS4yMTIyMjg0IEMyNS40ODQ5Mjg5LDQ5LjEyNjg0NDggMjkuODI2MTI5Niw0My4yODM4MjQ4IDM4LjY0NzU4NjksMzEuNjgzMTY4MyBMNzIuODcxMjg3MSwzMi41NTQ0MjUgTDY1LjI4MDk3Myw2Ny42NzYzNDIxIEw1MS4xMTIyODk5LDc3LjM3NjE0NCBMMzUuMDA3NzE4LDgwIFoiIGlkPSJQYXRoLTIyIiBmaWxsPSIjMDAyODY4Ij48L3BhdGg+CiAgICAgICAgICAgICAgICA8cGF0aCBkPSJNMCwzNy43MzA0NDA1IEwyNy4xMTQ1MzcsMC4yNTcxMTE0MzYgQzYyLjM3MTUxMjMsLTEuOTkwNzE3MDEgODAsMTAuNTAwMzkyNyA4MCwzNy43MzA0NDA1IEM4MCw2NC45NjA0ODgyIDY0Ljc3NjUwMzgsNzkuMDUwMzQxNCAzNC4zMjk1MTEzLDgwIEM0Ny4wNTUzNDg5LDc3LjU2NzA4MDggNTMuNDE4MjY3Nyw3MC4zMTM2MTAzIDUzLjQxODI2NzcsNTguMjM5NTg4NSBDNTMuNDE4MjY3Nyw0MC4xMjg1NTU3IDM2LjMwMzk1NDQsMzcuNzMwNDQwNSAyNS4yMjc0MTcsMzcuNzMwNDQwNSBDMTcuODQzMDU4NiwzNy43MzA0NDA1IDkuNDMzOTE5NjYsMzcuNzMwNDQwNSAwLDM3LjczMDQ0MDUgWiIgaWQ9IlBhdGgtMTkiIGZpbGw9IiMzNzkzRUYiPjwvcGF0aD4KICAgICAgICAgICAgPC9nPgogICAgICAgIDwvZz4KICAgIDwvZz4KPC9zdmc+' > </img>\nCreated in <span style='font-weight:600;margin-left:4px;'>Deepnote</span></a>",
   "metadata": {
    "tags": [],
    "created_in_deepnote_cell": true,
    "deepnote_cell_type": "markdown"
   }
  }
 ],
 "nbformat": 4,
 "nbformat_minor": 2,
 "metadata": {
  "orig_nbformat": 2,
  "deepnote": {},
  "deepnote_notebook_id": "c08d16c0-1536-4608-8eeb-04e7c2913197",
  "deepnote_execution_queue": []
 }
}