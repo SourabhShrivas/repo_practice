{
 "cells": [
  {
   "cell_type": "markdown",
   "source": "# 450+ Practice Questions That Will Make You a Pandas, NumPy, and SQL Pro!",
   "metadata": {
    "formattedRanges": [],
    "is_collapsed": false,
    "cell_id": "524efd7f1dcf427f89f93f3eb91739b8",
    "tags": [],
    "deepnote_cell_type": "text-cell-h1"
   }
  },
  {
   "cell_type": "markdown",
   "source": "Author: Avi Chawla\n\nLinkedIn: https://www.linkedin.com/in/avi-chawla/\n\nRead my blogs here: https://medium.com/@avi_chawla",
   "metadata": {
    "cell_id": "845fcd0218c342e385d4ec4f3e663222",
    "tags": [],
    "deepnote_cell_type": "markdown",
    "deepnote_cell_height": 125.171875
   }
  },
  {
   "cell_type": "markdown",
   "source": "## Introduction",
   "metadata": {
    "formattedRanges": [],
    "is_collapsed": false,
    "cell_id": "7f875353207e43deb5bb347a981a6784",
    "tags": [],
    "deepnote_cell_type": "text-cell-h2"
   }
  },
  {
   "cell_type": "markdown",
   "source": "This notebook has been created for you to practice three of the most common tools used in building any machine learning or data science applications, i.e., Pandas, NumPy, and SQL!",
   "metadata": {
    "formattedRanges": [
     {
      "fromCodePoint": 156,
      "toCodePoint": 179,
      "marks": {
       "bold": true
      }
     }
    ],
    "is_collapsed": false,
    "cell_id": "d027f7b79a2f4c239a1f639c62ee5b31",
    "tags": [],
    "deepnote_cell_type": "text-cell-p"
   }
  },
  {
   "cell_type": "markdown",
   "source": "The practice questions provided will serve as a great resource for those who are looking to familiarize themselves with some of the most common functions used in these tools. ",
   "metadata": {
    "formattedRanges": [],
    "is_collapsed": false,
    "cell_id": "4e14aeaf-93f4-4484-a1c2-84fd88ad6ebe",
    "tags": [],
    "deepnote_cell_type": "text-cell-p"
   }
  },
  {
   "cell_type": "markdown",
   "source": "Appropriate descriptions have been provided for all the questions in this entire exercise which will help you navigate through this exercise easily. If a dataset is to be loaded in the python environment, that has also been provided for you. You can find it on the right panel in the Files section. Do NOT delete any of the files/folders listed there. ",
   "metadata": {
    "formattedRanges": [
     {
      "fromCodePoint": 284,
      "toCodePoint": 289,
      "marks": {
       "bold": true
      }
     },
     {
      "fromCodePoint": 302,
      "toCodePoint": 305,
      "marks": {
       "bold": true
      }
     }
    ],
    "is_collapsed": false,
    "cell_id": "7bc00146-5279-4a10-a1aa-efa29edffb83",
    "tags": [],
    "deepnote_cell_type": "text-cell-p"
   }
  },
  {
   "cell_type": "markdown",
   "source": "The whole exercise has been divided into nine separate notebooks. Below are the links to all the other notebooks for you to jump from one notebook to another:",
   "metadata": {
    "formattedRanges": [],
    "is_collapsed": false,
    "cell_id": "fddf7335-854f-4225-b5cc-d43309c8141b",
    "tags": [],
    "deepnote_cell_type": "text-cell-p"
   }
  },
  {
   "cell_type": "markdown",
   "source": "- **Pandas**\n\n1. Pandas Notebook 1: [Link](https://deepnote.com/workspace/avi-chawla-695b-aee6f4ef-2d50-4fb6-9ef2-20ee1022995a/project/Pandas-Notebook-1-d693ac55-6455-40cf-ae34-867c6a02014e/%2Fnotebook.ipynb) \n2. Pandas Notebook 2: [Link](https://deepnote.com/workspace/avi-chawla-695b-aee6f4ef-2d50-4fb6-9ef2-20ee1022995a/project/Pandas-Notebook-employee-dataset-7e3b6755-5d4b-464b-9b75-9c84667ae3bd/%2Fnotebook.ipynb) \n\n3. Pandas Notebook 3: [Link](https://deepnote.com/workspace/avi-chawla-695b-aee6f4ef-2d50-4fb6-9ef2-20ee1022995a/project/Pandas-Notebook-employee-part-2-adc5a3ee-5f61-4725-8e46-ccb07899acfc/%2Fnotebook.ipynb)\n\n4. Pandas Notebook 4: [Link](https://deepnote.com/workspace/avi-chawla-695b-aee6f4ef-2d50-4fb6-9ef2-20ee1022995a/project/Pandas-after-employee-f84e02a1-fb6a-428e-af90-8dd99855749a/%2Fnotebook.ipynb)\n\n- **NumPy**\n\n1. NumPy Notebook 1: [Link](https://deepnote.com/workspace/avi-chawla-695b-aee6f4ef-2d50-4fb6-9ef2-20ee1022995a/project/Numpy-part-1-9b9979f2-b708-4292-b466-3d0157564c91/%2Fnotebook.ipynb)\n\n2. NumPy Notebook 2: [Link](https://deepnote.com/workspace/avi-chawla-695b-aee6f4ef-2d50-4fb6-9ef2-20ee1022995a/project/NumPy-Notebook-2-4456411e-2ddd-426d-8027-4881080027db/%2Fnotebook.ipynb)\n\n3. NumPy Notebook 3: [Link](https://deepnote.com/workspace/avi-chawla-695b-aee6f4ef-2d50-4fb6-9ef2-20ee1022995a/project/NumPy-Notebook-3-e6587114-b580-4249-b599-540de859e603/%2Fnotebook.ipynb)\n\n- **SQL**\n\n1. SQL Notebook 1: [Link](https://deepnote.com/workspace/avi-chawla-695b-aee6f4ef-2d50-4fb6-9ef2-20ee1022995a/project/SQL-Notebook-1-eac9d782-a9b1-4e84-a1f9-af14080a6121/%2Fnotebook.ipynb)\n\n2. SQL Notebook 2: [Link](https://deepnote.com/workspace/avi-chawla-695b-aee6f4ef-2d50-4fb6-9ef2-20ee1022995a/project/SQL-Notebook-2-1914b214-be03-44a1-be63-ad99e98be639/%2Fnotebook.ipynb) **(This Notebook)** ",
   "metadata": {
    "cell_id": "3890a680ecf041e7b2c07e903b4902cf",
    "tags": [],
    "deepnote_cell_type": "markdown",
    "deepnote_cell_height": 403.6875
   }
  },
  {
   "cell_type": "markdown",
   "source": "## How to use this notebook?",
   "metadata": {
    "formattedRanges": [],
    "is_collapsed": false,
    "cell_id": "98106bcb90fd40e6b3206151d10bf515",
    "tags": [],
    "deepnote_cell_type": "text-cell-h2"
   }
  },
  {
   "cell_type": "markdown",
   "source": "At the top right corner, you will find a Duplicate button. This will allow you to create a unique notebook for your own practice and write solutions to the question listed in this notebook.  ",
   "metadata": {
    "formattedRanges": [
     {
      "fromCodePoint": 41,
      "toCodePoint": 50,
      "marks": {
       "bold": true
      }
     }
    ],
    "is_collapsed": false,
    "cell_id": "0a87fdd8-977b-4311-ab52-eaa103362e5e",
    "tags": [],
    "deepnote_cell_type": "text-cell-p"
   }
  },
  {
   "cell_type": "markdown",
   "source": "If you face any issues or have any feedback, feel free to reach out to me (Avi Chawla) either on Linkedin: https://www.linkedin.com/in/avi-chawla/ or write an email to avi@dsscholar[dot]com. ",
   "metadata": {
    "cell_id": "0898b89379a34000a2970a0f390d176d",
    "tags": [],
    "deepnote_cell_type": "markdown",
    "deepnote_cell_height": 74.78125
   }
  },
  {
   "cell_type": "markdown",
   "source": "Let's begin 🚀!",
   "metadata": {
    "formattedRanges": [],
    "is_collapsed": false,
    "cell_id": "ed11dcd6160344129644d2834cab1dfd",
    "tags": [],
    "deepnote_cell_type": "text-cell-p"
   }
  },
  {
   "cell_type": "markdown",
   "source": "# SQL Notebook 2",
   "metadata": {
    "formattedRanges": [],
    "is_collapsed": false,
    "cell_id": "8795016d13a94a7cbf00e25002692565",
    "tags": [],
    "deepnote_cell_type": "text-cell-h1"
   }
  },
  {
   "cell_type": "code",
   "metadata": {
    "tags": [],
    "cell_id": "51e6acee-bc36-4c6d-844b-168c3deef3ad",
    "deepnote_to_be_reexecuted": false,
    "source_hash": "9b82ee11",
    "execution_start": 1660300648831,
    "execution_millis": 9,
    "deepnote_cell_type": "code",
    "deepnote_cell_height": 76
   },
   "source": "import pandas as pd",
   "execution_count": null,
   "outputs": []
  },
  {
   "cell_type": "code",
   "metadata": {
    "cell_id": "0ac1f5bd279e4ba5af7d9cfe6931163d",
    "tags": [],
    "deepnote_to_be_reexecuted": false,
    "source_hash": "a659335",
    "execution_start": 1660300706600,
    "execution_millis": 691,
    "deepnote_cell_type": "code",
    "deepnote_cell_height": 423
   },
   "source": "data = pd.read_csv('employee_dataset.csv')\ndata.head()",
   "execution_count": null,
   "outputs": [
    {
     "output_type": "execute_result",
     "execution_count": 2,
     "data": {
      "application/vnd.deepnote.dataframe.v3+json": {
       "column_count": 8,
       "row_count": 5,
       "columns": [
        {
         "name": "Name",
         "dtype": "object",
         "stats": {
          "unique_count": 5,
          "nan_count": 0,
          "categories": [
           {
            "name": "Spencer Adkins",
            "count": 1
           },
           {
            "name": "Julie Morton",
            "count": 1
           },
           {
            "name": "3 others",
            "count": 3
           }
          ]
         }
        },
        {
         "name": "Company_Name",
         "dtype": "object",
         "stats": {
          "unique_count": 5,
          "nan_count": 0,
          "categories": [
           {
            "name": "James and Sons",
            "count": 1
           },
           {
            "name": "Nichols-James",
            "count": 1
           },
           {
            "name": "3 others",
            "count": 3
           }
          ]
         }
        },
        {
         "name": "Employee_Job_Title",
         "dtype": "object",
         "stats": {
          "unique_count": 4,
          "nan_count": 0,
          "categories": [
           {
            "name": "Production engineer",
            "count": 2
           },
           {
            "name": "Equities trader",
            "count": 1
           },
           {
            "name": "2 others",
            "count": 2
           }
          ]
         }
        },
        {
         "name": "Employee_City",
         "dtype": "object",
         "stats": {
          "unique_count": 5,
          "nan_count": 0,
          "categories": [
           {
            "name": "New Russellton",
            "count": 1
           },
           {
            "name": "North Melissafurt",
            "count": 1
           },
           {
            "name": "3 others",
            "count": 3
           }
          ]
         }
        },
        {
         "name": "Employee_Country",
         "dtype": "object",
         "stats": {
          "unique_count": 5,
          "nan_count": 0,
          "categories": [
           {
            "name": "Palestinian Territory",
            "count": 1
           },
           {
            "name": "Marshall Islands",
            "count": 1
           },
           {
            "name": "3 others",
            "count": 3
           }
          ]
         }
        },
        {
         "name": "Employee_Salary",
         "dtype": "int64",
         "stats": {
          "unique_count": 5,
          "nan_count": 0,
          "min": "116400",
          "max": "630890",
          "histogram": [
           {
            "bin_start": 116400,
            "bin_end": 167849,
            "count": 1
           },
           {
            "bin_start": 167849,
            "bin_end": 219298,
            "count": 0
           },
           {
            "bin_start": 219298,
            "bin_end": 270747,
            "count": 0
           },
           {
            "bin_start": 270747,
            "bin_end": 322196,
            "count": 1
           },
           {
            "bin_start": 322196,
            "bin_end": 373645,
            "count": 0
           },
           {
            "bin_start": 373645,
            "bin_end": 425094,
            "count": 0
           },
           {
            "bin_start": 425094,
            "bin_end": 476543,
            "count": 0
           },
           {
            "bin_start": 476543,
            "bin_end": 527992,
            "count": 1
           },
           {
            "bin_start": 527992,
            "bin_end": 579441,
            "count": 0
           },
           {
            "bin_start": 579441,
            "bin_end": 630890,
            "count": 2
           }
          ]
         }
        },
        {
         "name": "Employment_Status",
         "dtype": "object",
         "stats": {
          "unique_count": 1,
          "nan_count": 0,
          "categories": [
           {
            "name": "Full Time",
            "count": 5
           }
          ]
         }
        },
        {
         "name": "Employee_Rating",
         "dtype": "float64",
         "stats": {
          "unique_count": 4,
          "nan_count": 0,
          "min": "3.1",
          "max": "4.8",
          "histogram": [
           {
            "bin_start": 3.1,
            "bin_end": 3.27,
            "count": 2
           },
           {
            "bin_start": 3.27,
            "bin_end": 3.44,
            "count": 0
           },
           {
            "bin_start": 3.44,
            "bin_end": 3.6100000000000003,
            "count": 0
           },
           {
            "bin_start": 3.6100000000000003,
            "bin_end": 3.7800000000000002,
            "count": 0
           },
           {
            "bin_start": 3.7800000000000002,
            "bin_end": 3.95,
            "count": 1
           },
           {
            "bin_start": 3.95,
            "bin_end": 4.12,
            "count": 0
           },
           {
            "bin_start": 4.12,
            "bin_end": 4.29,
            "count": 0
           },
           {
            "bin_start": 4.29,
            "bin_end": 4.46,
            "count": 1
           },
           {
            "bin_start": 4.46,
            "bin_end": 4.63,
            "count": 0
           },
           {
            "bin_start": 4.63,
            "bin_end": 4.8,
            "count": 1
           }
          ]
         }
        },
        {
         "name": "_deepnote_index_column",
         "dtype": "int64"
        }
       ],
       "rows": [
        {
         "Name": "Spencer Adkins",
         "Company_Name": "James and Sons",
         "Employee_Job_Title": "Equities trader",
         "Employee_City": "New Russellton",
         "Employee_Country": "Palestinian Territory",
         "Employee_Salary": 321520,
         "Employment_Status": "Full Time",
         "Employee_Rating": 3.9,
         "_deepnote_index_column": 0
        },
        {
         "Name": "Julie Morton",
         "Company_Name": "Nichols-James",
         "Employee_Job_Title": "Diplomatic Services operational officer",
         "Employee_City": "North Melissafurt",
         "Employee_Country": "Marshall Islands",
         "Employee_Salary": 589090,
         "Employment_Status": "Full Time",
         "Employee_Rating": 4.3,
         "_deepnote_index_column": 1
        },
        {
         "Name": "Matthew Hall",
         "Company_Name": "Scott Inc",
         "Employee_Job_Title": "Regulatory affairs officer",
         "Employee_City": "Wardfort",
         "Employee_Country": "Anguilla",
         "Employee_Salary": 630890,
         "Employment_Status": "Full Time",
         "Employee_Rating": 3.1,
         "_deepnote_index_column": 2
        },
        {
         "Name": "Brad Scott",
         "Company_Name": "Johnston, Fleming and Tanner",
         "Employee_Job_Title": "Production engineer",
         "Employee_City": "West Jamesview",
         "Employee_Country": "Syrian Arab Republic",
         "Employee_Salary": 116400,
         "Employment_Status": "Full Time",
         "Employee_Rating": 3.1,
         "_deepnote_index_column": 3
        },
        {
         "Name": "Theresa Owens",
         "Company_Name": "Baker, Allen and Edwards",
         "Employee_Job_Title": "Production engineer",
         "Employee_City": "Whiteside",
         "Employee_Country": "Dominica",
         "Employee_Salary": 523499,
         "Employment_Status": "Full Time",
         "Employee_Rating": 4.8,
         "_deepnote_index_column": 4
        }
       ]
      },
      "text/plain": "             Name                  Company_Name  \\\n0  Spencer Adkins                James and Sons   \n1    Julie Morton                 Nichols-James   \n2    Matthew Hall                     Scott Inc   \n3      Brad Scott  Johnston, Fleming and Tanner   \n4   Theresa Owens      Baker, Allen and Edwards   \n\n                        Employee_Job_Title      Employee_City  \\\n0                          Equities trader     New Russellton   \n1  Diplomatic Services operational officer  North Melissafurt   \n2               Regulatory affairs officer           Wardfort   \n3                      Production engineer     West Jamesview   \n4                      Production engineer          Whiteside   \n\n        Employee_Country  Employee_Salary Employment_Status  Employee_Rating  \n0  Palestinian Territory           321520         Full Time              3.9  \n1       Marshall Islands           589090         Full Time              4.3  \n2               Anguilla           630890         Full Time              3.1  \n3   Syrian Arab Republic           116400         Full Time              3.1  \n4               Dominica           523499         Full Time              4.8  ",
      "text/html": "<div>\n<style scoped>\n    .dataframe tbody tr th:only-of-type {\n        vertical-align: middle;\n    }\n\n    .dataframe tbody tr th {\n        vertical-align: top;\n    }\n\n    .dataframe thead th {\n        text-align: right;\n    }\n</style>\n<table border=\"1\" class=\"dataframe\">\n  <thead>\n    <tr style=\"text-align: right;\">\n      <th></th>\n      <th>Name</th>\n      <th>Company_Name</th>\n      <th>Employee_Job_Title</th>\n      <th>Employee_City</th>\n      <th>Employee_Country</th>\n      <th>Employee_Salary</th>\n      <th>Employment_Status</th>\n      <th>Employee_Rating</th>\n    </tr>\n  </thead>\n  <tbody>\n    <tr>\n      <th>0</th>\n      <td>Spencer Adkins</td>\n      <td>James and Sons</td>\n      <td>Equities trader</td>\n      <td>New Russellton</td>\n      <td>Palestinian Territory</td>\n      <td>321520</td>\n      <td>Full Time</td>\n      <td>3.9</td>\n    </tr>\n    <tr>\n      <th>1</th>\n      <td>Julie Morton</td>\n      <td>Nichols-James</td>\n      <td>Diplomatic Services operational officer</td>\n      <td>North Melissafurt</td>\n      <td>Marshall Islands</td>\n      <td>589090</td>\n      <td>Full Time</td>\n      <td>4.3</td>\n    </tr>\n    <tr>\n      <th>2</th>\n      <td>Matthew Hall</td>\n      <td>Scott Inc</td>\n      <td>Regulatory affairs officer</td>\n      <td>Wardfort</td>\n      <td>Anguilla</td>\n      <td>630890</td>\n      <td>Full Time</td>\n      <td>3.1</td>\n    </tr>\n    <tr>\n      <th>3</th>\n      <td>Brad Scott</td>\n      <td>Johnston, Fleming and Tanner</td>\n      <td>Production engineer</td>\n      <td>West Jamesview</td>\n      <td>Syrian Arab Republic</td>\n      <td>116400</td>\n      <td>Full Time</td>\n      <td>3.1</td>\n    </tr>\n    <tr>\n      <th>4</th>\n      <td>Theresa Owens</td>\n      <td>Baker, Allen and Edwards</td>\n      <td>Production engineer</td>\n      <td>Whiteside</td>\n      <td>Dominica</td>\n      <td>523499</td>\n      <td>Full Time</td>\n      <td>4.8</td>\n    </tr>\n  </tbody>\n</table>\n</div>"
     },
     "metadata": {}
    }
   ]
  },
  {
   "cell_type": "markdown",
   "source": "To run SQL Queries, write your queries in the usual. The name of the dataframe will be treated as the table-name while writing these queries. A sample query is mentioned below:",
   "metadata": {
    "cell_id": "ddcf2cbafe19442b870b34d0522378fb",
    "tags": [],
    "deepnote_cell_type": "markdown",
    "deepnote_cell_height": 74.78125
   }
  },
  {
   "cell_type": "markdown",
   "source": "### Sample Query",
   "metadata": {
    "is_collapsed": false,
    "cell_id": "2eebccbb6b444b4e87bd8e265d93d9b6",
    "tags": [],
    "formattedRanges": [],
    "deepnote_cell_type": "text-cell-h3"
   }
  },
  {
   "cell_type": "code",
   "source": "\n_deepnote_execute_sql(\"\"\"select * from data; -- select all rows and columns from the data. \n\"\"\", 'SQL_DEEPNOTE_DATAFRAME_SQL')",
   "metadata": {
    "tags": [],
    "sql_integration_id": "deepnote-dataframe-sql",
    "cell_id": "b24490197464438ea91fb02d69098e3d",
    "deepnote_cell_type": "sql",
    "deepnote_sql_source": "select * from data; -- select all rows and columns from the data. ",
    "deepnote_cell_height": 101
   },
   "outputs": [],
   "execution_count": null
  },
  {
   "cell_type": "markdown",
   "source": "### 57. Select every row after the 10th row and select all columns. ",
   "metadata": {
    "formattedRanges": [],
    "is_collapsed": false,
    "cell_id": "021db84ac6474f88b971905ca9116ece",
    "tags": [],
    "deepnote_cell_type": "text-cell-h3"
   }
  },
  {
   "cell_type": "code",
   "metadata": {
    "tags": [],
    "sql_integration_id": "deepnote-dataframe-sql",
    "cell_id": "e8859734b25a4960bce43cd7ef287423",
    "deepnote_sql_source": "",
    "deepnote_cell_type": "sql",
    "deepnote_cell_height": 101
   },
   "source": "\n_deepnote_execute_sql(\"\"\"\n\"\"\", 'SQL_DEEPNOTE_DATAFRAME_SQL')",
   "execution_count": null,
   "outputs": []
  },
  {
   "cell_type": "markdown",
   "source": "### 58. Select every row up to the 10th row and select all columns. ",
   "metadata": {
    "formattedRanges": [],
    "is_collapsed": false,
    "cell_id": "adb390cee4c9464ba6a868bc6ea86a6d",
    "tags": [],
    "deepnote_cell_type": "text-cell-h3"
   }
  },
  {
   "cell_type": "code",
   "metadata": {
    "tags": [],
    "sql_integration_id": "deepnote-dataframe-sql",
    "cell_id": "af646c986a9c423b862ba1dd47293283",
    "deepnote_sql_source": "",
    "deepnote_cell_type": "sql",
    "deepnote_cell_height": 101
   },
   "source": "\n_deepnote_execute_sql(\"\"\"\n\"\"\", 'SQL_DEEPNOTE_DATAFRAME_SQL')",
   "execution_count": null,
   "outputs": []
  },
  {
   "cell_type": "markdown",
   "source": "### 59. Select rows with employee rating > 4.5. ",
   "metadata": {
    "formattedRanges": [],
    "is_collapsed": false,
    "cell_id": "9a9587c4-ab08-4c0a-a2a9-98c9c9b0e769",
    "tags": [],
    "deepnote_cell_type": "text-cell-h3"
   }
  },
  {
   "cell_type": "code",
   "metadata": {
    "tags": [],
    "sql_integration_id": "deepnote-dataframe-sql",
    "cell_id": "a329bd58-2b53-4df7-833a-3ab001c87459",
    "deepnote_sql_source": "",
    "deepnote_cell_type": "sql",
    "deepnote_cell_height": 101
   },
   "source": "\n_deepnote_execute_sql(\"\"\"\n\"\"\", 'SQL_DEEPNOTE_DATAFRAME_SQL')",
   "execution_count": null,
   "outputs": []
  },
  {
   "cell_type": "markdown",
   "source": "### 60. Select rows with employee rating > 4.5 and < 4.8. ",
   "metadata": {
    "formattedRanges": [],
    "is_collapsed": false,
    "cell_id": "0dcf1911-1d6a-40b1-af39-ab9e6d2a8781",
    "tags": [],
    "deepnote_cell_type": "text-cell-h3"
   }
  },
  {
   "cell_type": "code",
   "metadata": {
    "tags": [],
    "sql_integration_id": "deepnote-dataframe-sql",
    "cell_id": "2deaac65-8d7c-4faa-8f51-6f54f0a08f6c",
    "deepnote_sql_source": "",
    "deepnote_cell_type": "sql",
    "deepnote_cell_height": 101
   },
   "source": "\n_deepnote_execute_sql(\"\"\"\n\"\"\", 'SQL_DEEPNOTE_DATAFRAME_SQL')",
   "execution_count": null,
   "outputs": []
  },
  {
   "cell_type": "markdown",
   "source": "### 61. Print the name of the company with the maximum employees having rating > 4.",
   "metadata": {
    "formattedRanges": [],
    "is_collapsed": false,
    "cell_id": "4343ac77-40d4-466d-b354-6f33ef042b87",
    "tags": [],
    "deepnote_cell_type": "text-cell-h3"
   }
  },
  {
   "cell_type": "code",
   "metadata": {
    "tags": [],
    "sql_integration_id": "deepnote-dataframe-sql",
    "cell_id": "713649af-da05-41f2-b9fc-a4cf54e4f51a",
    "deepnote_sql_source": "",
    "deepnote_cell_type": "sql",
    "deepnote_cell_height": 101
   },
   "source": "\n_deepnote_execute_sql(\"\"\"\n\"\"\", 'SQL_DEEPNOTE_DATAFRAME_SQL')",
   "execution_count": null,
   "outputs": []
  },
  {
   "cell_type": "markdown",
   "source": "### 62. Print the rating of the employee named 'Julie Morton'.",
   "metadata": {
    "formattedRanges": [],
    "is_collapsed": false,
    "cell_id": "c1ee760d-1bc5-4f85-987a-97dc5d3a1306",
    "tags": [],
    "deepnote_cell_type": "text-cell-h3"
   }
  },
  {
   "cell_type": "code",
   "metadata": {
    "tags": [],
    "sql_integration_id": "deepnote-dataframe-sql",
    "cell_id": "9e3fee0c-b48c-4d73-ab60-3f22569a13d6",
    "deepnote_sql_source": "",
    "deepnote_cell_type": "sql",
    "deepnote_cell_height": 101
   },
   "source": "\n_deepnote_execute_sql(\"\"\"\n\"\"\", 'SQL_DEEPNOTE_DATAFRAME_SQL')",
   "execution_count": null,
   "outputs": []
  },
  {
   "cell_type": "markdown",
   "source": "### 63. Print the last 3rd entry in the column Employee_City",
   "metadata": {
    "formattedRanges": [],
    "is_collapsed": false,
    "cell_id": "d7924bfe-395a-4ca0-9c34-8fdb83e4b189",
    "tags": [],
    "deepnote_cell_type": "text-cell-h3"
   }
  },
  {
   "cell_type": "code",
   "metadata": {
    "tags": [],
    "sql_integration_id": "deepnote-dataframe-sql",
    "cell_id": "1741ac00-c32b-4272-bce7-376e99ab98f4",
    "deepnote_sql_source": "",
    "deepnote_cell_type": "sql",
    "deepnote_cell_height": 101
   },
   "source": "\n_deepnote_execute_sql(\"\"\"\n\"\"\", 'SQL_DEEPNOTE_DATAFRAME_SQL')",
   "execution_count": null,
   "outputs": []
  },
  {
   "cell_type": "markdown",
   "source": "### 64. Are the number of employees in 'Scott Inc' company greater than that in 'Andrade LLC'?",
   "metadata": {
    "formattedRanges": [],
    "is_collapsed": false,
    "cell_id": "8b16f142-0501-415e-87ad-e50934e43330",
    "tags": [],
    "deepnote_cell_type": "text-cell-h3"
   }
  },
  {
   "cell_type": "code",
   "metadata": {
    "tags": [],
    "sql_integration_id": "deepnote-dataframe-sql",
    "cell_id": "c92207fc-1208-4e92-abff-bbf5d00e053f",
    "deepnote_sql_source": "",
    "deepnote_cell_type": "sql",
    "deepnote_cell_height": 101
   },
   "source": "\n_deepnote_execute_sql(\"\"\"\n\"\"\", 'SQL_DEEPNOTE_DATAFRAME_SQL')",
   "execution_count": null,
   "outputs": []
  },
  {
   "cell_type": "markdown",
   "source": "### 65. Which is the most common first name in the data?",
   "metadata": {
    "formattedRanges": [],
    "is_collapsed": false,
    "cell_id": "19c66cbe-a9e1-43f5-b4c5-af8afe5a975c",
    "tags": [],
    "deepnote_cell_type": "text-cell-h3"
   }
  },
  {
   "cell_type": "code",
   "metadata": {
    "tags": [],
    "sql_integration_id": "deepnote-dataframe-sql",
    "cell_id": "a6cb68b6-4a8d-44c7-b603-44e5ec0f1127",
    "deepnote_sql_source": "",
    "deepnote_cell_type": "sql",
    "deepnote_cell_height": 101
   },
   "source": "\n_deepnote_execute_sql(\"\"\"\n\"\"\", 'SQL_DEEPNOTE_DATAFRAME_SQL')",
   "execution_count": null,
   "outputs": []
  },
  {
   "cell_type": "markdown",
   "source": "### 66. Which is the least common last name in the data?",
   "metadata": {
    "formattedRanges": [],
    "is_collapsed": false,
    "cell_id": "6d6cc7b0-752c-40b4-920c-bf2dbc722631",
    "tags": [],
    "deepnote_cell_type": "text-cell-h3"
   }
  },
  {
   "cell_type": "code",
   "metadata": {
    "tags": [],
    "sql_integration_id": "deepnote-dataframe-sql",
    "cell_id": "50d6fb6b-4658-43bb-aaaf-82660d5c643a",
    "deepnote_sql_source": "",
    "deepnote_cell_type": "sql",
    "deepnote_cell_height": 101
   },
   "source": "\n_deepnote_execute_sql(\"\"\"\n\"\"\", 'SQL_DEEPNOTE_DATAFRAME_SQL')",
   "execution_count": null,
   "outputs": []
  },
  {
   "cell_type": "markdown",
   "source": "### 67. What is the average name length? ",
   "metadata": {
    "formattedRanges": [],
    "is_collapsed": false,
    "cell_id": "6ae414e5-1200-40a4-bee5-72f1f529cddb",
    "tags": [],
    "deepnote_cell_type": "text-cell-h3"
   }
  },
  {
   "cell_type": "code",
   "metadata": {
    "tags": [],
    "sql_integration_id": "deepnote-dataframe-sql",
    "cell_id": "dbc2d35c-e4e4-4919-9120-0c3316a57543",
    "deepnote_sql_source": "",
    "deepnote_cell_type": "sql",
    "deepnote_cell_height": 101
   },
   "source": "\n_deepnote_execute_sql(\"\"\"\n\"\"\", 'SQL_DEEPNOTE_DATAFRAME_SQL')",
   "execution_count": null,
   "outputs": []
  },
  {
   "cell_type": "markdown",
   "source": "### 68. What is the ratio of total full-time employees to Interns?",
   "metadata": {
    "formattedRanges": [],
    "is_collapsed": false,
    "cell_id": "5e3cd272-a741-4f79-9681-5010bfe674dc",
    "tags": [],
    "deepnote_cell_type": "text-cell-h3"
   }
  },
  {
   "cell_type": "code",
   "metadata": {
    "tags": [],
    "sql_integration_id": "deepnote-dataframe-sql",
    "cell_id": "4297ac3f-ff41-46da-a8c1-598c593b111f",
    "deepnote_sql_source": "",
    "deepnote_cell_type": "sql",
    "deepnote_cell_height": 101
   },
   "source": "\n_deepnote_execute_sql(\"\"\"\n\"\"\", 'SQL_DEEPNOTE_DATAFRAME_SQL')",
   "execution_count": null,
   "outputs": []
  },
  {
   "cell_type": "markdown",
   "source": "### 69. Starting from the first record, print every third record in the Data.",
   "metadata": {
    "formattedRanges": [],
    "is_collapsed": false,
    "cell_id": "e702b099-138f-42a1-bad6-3298aaa0a3ab",
    "tags": [],
    "deepnote_cell_type": "text-cell-h3"
   }
  },
  {
   "cell_type": "code",
   "metadata": {
    "tags": [],
    "sql_integration_id": "deepnote-dataframe-sql",
    "cell_id": "a5d2056c-644d-443c-ac06-06b3ff05eed8",
    "deepnote_sql_source": "",
    "deepnote_cell_type": "sql",
    "deepnote_cell_height": 101
   },
   "source": "\n_deepnote_execute_sql(\"\"\"\n\"\"\", 'SQL_DEEPNOTE_DATAFRAME_SQL')",
   "execution_count": null,
   "outputs": []
  },
  {
   "cell_type": "markdown",
   "source": "### 70. Find the average salary on company-level.",
   "metadata": {
    "formattedRanges": [],
    "is_collapsed": false,
    "cell_id": "02606d31-a692-478b-a368-9e87170082b5",
    "tags": [],
    "deepnote_cell_type": "text-cell-h3"
   }
  },
  {
   "cell_type": "code",
   "metadata": {
    "tags": [],
    "sql_integration_id": "deepnote-dataframe-sql",
    "cell_id": "7b217cdf-00d6-40d6-acf6-9bb3801da44c",
    "deepnote_sql_source": "",
    "deepnote_cell_type": "sql",
    "deepnote_cell_height": 101
   },
   "source": "\n_deepnote_execute_sql(\"\"\"\n\"\"\", 'SQL_DEEPNOTE_DATAFRAME_SQL')",
   "execution_count": null,
   "outputs": []
  },
  {
   "cell_type": "markdown",
   "source": "### 71. Find the average rating on company-level.",
   "metadata": {
    "formattedRanges": [],
    "is_collapsed": false,
    "cell_id": "9b8eaebd-2d5f-43a3-93f2-4b978899ee2e",
    "tags": [],
    "deepnote_cell_type": "text-cell-h3"
   }
  },
  {
   "cell_type": "code",
   "metadata": {
    "tags": [],
    "sql_integration_id": "deepnote-dataframe-sql",
    "cell_id": "e510f329-d83c-4460-950c-e529829b5373",
    "deepnote_sql_source": "",
    "deepnote_cell_type": "sql",
    "deepnote_cell_height": 101
   },
   "source": "\n_deepnote_execute_sql(\"\"\"\n\"\"\", 'SQL_DEEPNOTE_DATAFRAME_SQL')",
   "execution_count": null,
   "outputs": []
  },
  {
   "cell_type": "markdown",
   "source": "### 72. Find the average salary and average rating for every company in a single line.",
   "metadata": {
    "formattedRanges": [],
    "is_collapsed": false,
    "cell_id": "3031679a-7a6f-4c86-a3df-38a09e876e6a",
    "tags": [],
    "deepnote_cell_type": "text-cell-h3"
   }
  },
  {
   "cell_type": "code",
   "metadata": {
    "tags": [],
    "sql_integration_id": "deepnote-dataframe-sql",
    "cell_id": "79387c95-c052-4f06-8c39-46007841551c",
    "deepnote_sql_source": "",
    "deepnote_cell_type": "sql",
    "deepnote_cell_height": 101
   },
   "source": "\n_deepnote_execute_sql(\"\"\"\n\"\"\", 'SQL_DEEPNOTE_DATAFRAME_SQL')",
   "execution_count": null,
   "outputs": []
  },
  {
   "cell_type": "markdown",
   "source": "### 73. Find the number of unique Employee_City corresponding to every Company_Name.",
   "metadata": {
    "formattedRanges": [],
    "is_collapsed": false,
    "cell_id": "fe909b9b-ecda-4bc2-8c83-da8cf75ea105",
    "tags": [],
    "deepnote_cell_type": "text-cell-h3"
   }
  },
  {
   "cell_type": "code",
   "metadata": {
    "tags": [],
    "sql_integration_id": "deepnote-dataframe-sql",
    "cell_id": "bdbdf000-3b3e-4f39-b921-96e2f362476d",
    "deepnote_sql_source": "",
    "deepnote_cell_type": "sql",
    "deepnote_cell_height": 101
   },
   "source": "\n_deepnote_execute_sql(\"\"\"\n\"\"\", 'SQL_DEEPNOTE_DATAFRAME_SQL')",
   "execution_count": null,
   "outputs": []
  },
  {
   "cell_type": "markdown",
   "source": "### 74. Print the number of full-time and intern employees for every company ",
   "metadata": {
    "formattedRanges": [],
    "is_collapsed": false,
    "cell_id": "92ce69ac-fdfa-47d1-812b-a5b207d85d23",
    "tags": [],
    "deepnote_cell_type": "text-cell-h3"
   }
  },
  {
   "cell_type": "code",
   "metadata": {
    "tags": [],
    "sql_integration_id": "deepnote-dataframe-sql",
    "cell_id": "5cc4afe1-a7f0-4042-94bf-a295f56e5feb",
    "deepnote_sql_source": "",
    "deepnote_cell_type": "sql",
    "deepnote_cell_height": 101
   },
   "source": "\n_deepnote_execute_sql(\"\"\"\n\"\"\", 'SQL_DEEPNOTE_DATAFRAME_SQL')",
   "execution_count": null,
   "outputs": []
  },
  {
   "cell_type": "markdown",
   "source": "### 75. Print the job title with the most employees. ",
   "metadata": {
    "formattedRanges": [],
    "is_collapsed": false,
    "cell_id": "bb1a146f-7634-48d6-99b4-9a1461e26609",
    "tags": [],
    "deepnote_cell_type": "text-cell-h3"
   }
  },
  {
   "cell_type": "code",
   "metadata": {
    "tags": [],
    "sql_integration_id": "deepnote-dataframe-sql",
    "cell_id": "89788e2a-eda9-48ff-871e-d638a0466d2d",
    "deepnote_sql_source": "",
    "deepnote_cell_type": "sql",
    "deepnote_cell_height": 101
   },
   "source": "\n_deepnote_execute_sql(\"\"\"\n\"\"\", 'SQL_DEEPNOTE_DATAFRAME_SQL')",
   "execution_count": null,
   "outputs": []
  },
  {
   "cell_type": "markdown",
   "source": "### 76. Print the job title with the most employees corresponding to every company. ",
   "metadata": {
    "formattedRanges": [],
    "is_collapsed": false,
    "cell_id": "9c0fb2c4-1311-435e-a987-7fd28c1f87a9",
    "tags": [],
    "deepnote_cell_type": "text-cell-h3"
   }
  },
  {
   "cell_type": "code",
   "metadata": {
    "tags": [],
    "sql_integration_id": "deepnote-dataframe-sql",
    "cell_id": "508c9b95-3303-4b62-ba58-a14af1feb99d",
    "deepnote_sql_source": "",
    "deepnote_cell_type": "sql",
    "deepnote_cell_height": 101
   },
   "source": "\n_deepnote_execute_sql(\"\"\"\n\"\"\", 'SQL_DEEPNOTE_DATAFRAME_SQL')",
   "execution_count": null,
   "outputs": []
  },
  {
   "cell_type": "markdown",
   "source": "### 77. Find the average salary for corresponding to every value of 'Employment_Status'",
   "metadata": {
    "formattedRanges": [],
    "is_collapsed": false,
    "cell_id": "6320b574-3270-4062-90dc-70f3a672dd64",
    "tags": [],
    "deepnote_cell_type": "text-cell-h3"
   }
  },
  {
   "cell_type": "code",
   "metadata": {
    "tags": [],
    "sql_integration_id": "deepnote-dataframe-sql",
    "cell_id": "4209be85-cd25-4b03-94f6-dc0abc542bbb",
    "deepnote_sql_source": "",
    "deepnote_cell_type": "sql",
    "deepnote_cell_height": 101
   },
   "source": "\n_deepnote_execute_sql(\"\"\"\n\"\"\", 'SQL_DEEPNOTE_DATAFRAME_SQL')",
   "execution_count": null,
   "outputs": []
  },
  {
   "cell_type": "markdown",
   "source": "### 78. Print the row number corresponding to the maximum Employee_Salary",
   "metadata": {
    "formattedRanges": [],
    "is_collapsed": false,
    "cell_id": "b34cc61b-f60d-4dfa-81ad-f07c7165f9aa",
    "tags": [],
    "deepnote_cell_type": "text-cell-h3"
   }
  },
  {
   "cell_type": "code",
   "metadata": {
    "tags": [],
    "sql_integration_id": "deepnote-dataframe-sql",
    "cell_id": "7e647b1b-1e21-4742-bedc-3613d78b0f81",
    "deepnote_sql_source": "",
    "deepnote_cell_type": "sql",
    "deepnote_cell_height": 101
   },
   "source": "\n_deepnote_execute_sql(\"\"\"\n\"\"\", 'SQL_DEEPNOTE_DATAFRAME_SQL')",
   "execution_count": null,
   "outputs": []
  },
  {
   "cell_type": "markdown",
   "source": "### 79. How many unique firstnames exist in the dataset?",
   "metadata": {
    "formattedRanges": [],
    "is_collapsed": false,
    "cell_id": "98223d5c-f4c2-47f4-a6b3-45502f15e560",
    "tags": [],
    "deepnote_cell_type": "text-cell-h3"
   }
  },
  {
   "cell_type": "code",
   "metadata": {
    "tags": [],
    "sql_integration_id": "deepnote-dataframe-sql",
    "cell_id": "598b3dc2-a271-403d-812b-bbffe412ff8c",
    "deepnote_sql_source": "",
    "deepnote_cell_type": "sql",
    "deepnote_cell_height": 101
   },
   "source": "\n_deepnote_execute_sql(\"\"\"\n\"\"\", 'SQL_DEEPNOTE_DATAFRAME_SQL')",
   "execution_count": null,
   "outputs": []
  },
  {
   "cell_type": "markdown",
   "source": "### 80. How many unique lastnames exist in the dataset?",
   "metadata": {
    "formattedRanges": [],
    "is_collapsed": false,
    "cell_id": "14a9a07b-2eb1-4855-94c6-f1bffc179049",
    "tags": [],
    "deepnote_cell_type": "text-cell-h3"
   }
  },
  {
   "cell_type": "code",
   "metadata": {
    "tags": [],
    "sql_integration_id": "deepnote-dataframe-sql",
    "cell_id": "db6d8016-163a-4957-b39f-cad7b3a63bb0",
    "deepnote_sql_source": "",
    "deepnote_cell_type": "sql",
    "deepnote_cell_height": 101
   },
   "source": "\n_deepnote_execute_sql(\"\"\"\n\"\"\", 'SQL_DEEPNOTE_DATAFRAME_SQL')",
   "execution_count": null,
   "outputs": []
  },
  {
   "cell_type": "markdown",
   "source": "### 81. How many unique firstnames exist in the dataset for every company?",
   "metadata": {
    "formattedRanges": [],
    "is_collapsed": false,
    "cell_id": "ed51cdfd-5c68-4858-96ba-c8ad90fbe7eb",
    "tags": [],
    "deepnote_cell_type": "text-cell-h3"
   }
  },
  {
   "cell_type": "code",
   "metadata": {
    "tags": [],
    "sql_integration_id": "deepnote-dataframe-sql",
    "cell_id": "5d2ce99d-1ec1-4ecf-a8ed-d77a8122e5f8",
    "deepnote_sql_source": "",
    "deepnote_cell_type": "sql",
    "deepnote_cell_height": 101
   },
   "source": "\n_deepnote_execute_sql(\"\"\"\n\"\"\", 'SQL_DEEPNOTE_DATAFRAME_SQL')",
   "execution_count": null,
   "outputs": []
  },
  {
   "cell_type": "markdown",
   "source": "### 82.  Are there any rows for the employee name 'Michael Edward'?",
   "metadata": {
    "formattedRanges": [],
    "is_collapsed": false,
    "cell_id": "fcc36e97-f502-448d-8b09-320b95a026da",
    "tags": [],
    "deepnote_cell_type": "text-cell-h3"
   }
  },
  {
   "cell_type": "code",
   "metadata": {
    "tags": [],
    "sql_integration_id": "deepnote-dataframe-sql",
    "cell_id": "4bfd7f72-94cf-44e1-81a9-4b64056f6e12",
    "deepnote_sql_source": "",
    "deepnote_cell_type": "sql",
    "deepnote_cell_height": 101
   },
   "source": "\n_deepnote_execute_sql(\"\"\"\n\"\"\", 'SQL_DEEPNOTE_DATAFRAME_SQL')",
   "execution_count": null,
   "outputs": []
  },
  {
   "cell_type": "markdown",
   "source": "### 83. Check if the substring 'Michael Edward' appears in the Name column or not. ",
   "metadata": {
    "formattedRanges": [],
    "is_collapsed": false,
    "cell_id": "1b74b240-6a9f-4696-9d9b-50b942001088",
    "tags": [],
    "deepnote_cell_type": "text-cell-h3"
   }
  },
  {
   "cell_type": "code",
   "metadata": {
    "tags": [],
    "sql_integration_id": "deepnote-dataframe-sql",
    "cell_id": "3e12ac48-12ef-452c-b1c1-65970c5f2f54",
    "deepnote_sql_source": "",
    "deepnote_cell_type": "sql",
    "deepnote_cell_height": 101
   },
   "source": "\n_deepnote_execute_sql(\"\"\"\n\"\"\", 'SQL_DEEPNOTE_DATAFRAME_SQL')",
   "execution_count": null,
   "outputs": []
  },
  {
   "cell_type": "markdown",
   "source": "### 84.  How many unique Job titles start with the substring 'Pr' (case-sensitive matching)",
   "metadata": {
    "formattedRanges": [],
    "is_collapsed": false,
    "cell_id": "0a644152-2c4a-4a1f-92d6-9cb9493be00f",
    "tags": [],
    "deepnote_cell_type": "text-cell-h3"
   }
  },
  {
   "cell_type": "code",
   "metadata": {
    "tags": [],
    "sql_integration_id": "deepnote-dataframe-sql",
    "cell_id": "ce67ec50-c84c-4844-a958-e6c07d9f8ca0",
    "deepnote_sql_source": "",
    "deepnote_cell_type": "sql",
    "deepnote_cell_height": 101
   },
   "source": "\n_deepnote_execute_sql(\"\"\"\n\"\"\", 'SQL_DEEPNOTE_DATAFRAME_SQL')",
   "execution_count": null,
   "outputs": []
  },
  {
   "cell_type": "markdown",
   "source": "### 85. How many unique Job titles start with the substring 'Pr' (case-insensitive matching)",
   "metadata": {
    "formattedRanges": [],
    "is_collapsed": false,
    "cell_id": "833a2432-f92d-42ca-a339-57bd3cababc1",
    "tags": [],
    "deepnote_cell_type": "text-cell-h3"
   }
  },
  {
   "cell_type": "code",
   "metadata": {
    "tags": [],
    "sql_integration_id": "deepnote-dataframe-sql",
    "cell_id": "a8047e4c-48f2-4afe-8360-bb1be5a16dd1",
    "deepnote_sql_source": "",
    "deepnote_cell_type": "sql",
    "deepnote_cell_height": 101
   },
   "source": "\n_deepnote_execute_sql(\"\"\"\n\"\"\", 'SQL_DEEPNOTE_DATAFRAME_SQL')",
   "execution_count": null,
   "outputs": []
  },
  {
   "cell_type": "markdown",
   "source": "### 86. How many records are there whose Country end with the substring 'urt' (case-insensitive matching)",
   "metadata": {
    "formattedRanges": [],
    "is_collapsed": false,
    "cell_id": "105a089c-c934-474b-a758-793adf08f3d0",
    "tags": [],
    "deepnote_cell_type": "text-cell-h3"
   }
  },
  {
   "cell_type": "code",
   "metadata": {
    "tags": [],
    "sql_integration_id": "deepnote-dataframe-sql",
    "cell_id": "15d68444-4b7e-4f50-80f9-4cd6ba1bc98f",
    "deepnote_sql_source": "",
    "deepnote_cell_type": "sql",
    "deepnote_cell_height": 101
   },
   "source": "\n_deepnote_execute_sql(\"\"\"\n\"\"\", 'SQL_DEEPNOTE_DATAFRAME_SQL')",
   "execution_count": null,
   "outputs": []
  },
  {
   "cell_type": "markdown",
   "source": "### 87. Print the number of records whose company name contains the substring 'LL' (case-insensitive).",
   "metadata": {
    "formattedRanges": [],
    "is_collapsed": false,
    "cell_id": "bb831180-24b6-437c-86f1-569b537e94c7",
    "tags": [],
    "deepnote_cell_type": "text-cell-h3"
   }
  },
  {
   "cell_type": "code",
   "metadata": {
    "tags": [],
    "sql_integration_id": "deepnote-dataframe-sql",
    "cell_id": "79bd38c5-208e-4e02-af5a-6aa7388d9f53",
    "deepnote_sql_source": "",
    "deepnote_cell_type": "sql",
    "deepnote_cell_height": 101
   },
   "source": "\n_deepnote_execute_sql(\"\"\"\n\"\"\", 'SQL_DEEPNOTE_DATAFRAME_SQL')",
   "execution_count": null,
   "outputs": []
  },
  {
   "cell_type": "markdown",
   "source": "### 88. Select the first row corresponding to every company in the data",
   "metadata": {
    "formattedRanges": [],
    "is_collapsed": false,
    "cell_id": "270c26a1-ff4e-44f4-8bec-18ea762149a0",
    "tags": [],
    "deepnote_cell_type": "text-cell-h3"
   }
  },
  {
   "cell_type": "code",
   "metadata": {
    "tags": [],
    "sql_integration_id": "deepnote-dataframe-sql",
    "cell_id": "79b1ffca-0d9d-47e2-8c8f-7a7f54345549",
    "deepnote_sql_source": "",
    "deepnote_cell_type": "sql",
    "deepnote_cell_height": 101
   },
   "source": "\n_deepnote_execute_sql(\"\"\"\n\"\"\", 'SQL_DEEPNOTE_DATAFRAME_SQL')",
   "execution_count": null,
   "outputs": []
  },
  {
   "cell_type": "markdown",
   "source": "### 89. Select the last row corresponding to every company in the data",
   "metadata": {
    "formattedRanges": [],
    "is_collapsed": false,
    "cell_id": "89e6b78e-333b-45c9-bb45-de844ace8ca9",
    "tags": [],
    "deepnote_cell_type": "text-cell-h3"
   }
  },
  {
   "cell_type": "code",
   "metadata": {
    "tags": [],
    "sql_integration_id": "deepnote-dataframe-sql",
    "cell_id": "cf481d12-dab0-434f-aa5f-9ea6950b216d",
    "deepnote_sql_source": "",
    "deepnote_cell_type": "sql",
    "deepnote_cell_height": 101
   },
   "source": "\n_deepnote_execute_sql(\"\"\"\n\"\"\", 'SQL_DEEPNOTE_DATAFRAME_SQL')",
   "execution_count": null,
   "outputs": []
  },
  {
   "cell_type": "markdown",
   "source": "### 90. Add a new row at the bottom of the data. ",
   "metadata": {
    "formattedRanges": [],
    "is_collapsed": false,
    "cell_id": "3a83fba8-5366-42d0-bdc3-758c6ac8e153",
    "tags": [],
    "deepnote_cell_type": "text-cell-h3"
   }
  },
  {
   "cell_type": "code",
   "metadata": {
    "tags": [],
    "sql_integration_id": "deepnote-dataframe-sql",
    "cell_id": "2b1ac970-6ef0-42af-8f70-f09d19a6f499",
    "deepnote_sql_source": "-- add this: [\"Chris Anders\", \"Scott Inc\", \"Production engineer\", \"Wardfort\", \"Anguilla\", 343930, \"Full Time\", 3.3]\n\n",
    "deepnote_cell_type": "sql",
    "deepnote_cell_height": 142
   },
   "source": "\n_deepnote_execute_sql(\"\"\"-- add this: [\"Chris Anders\", \"Scott Inc\", \"Production engineer\", \"Wardfort\", \"Anguilla\", 343930, \"Full Time\", 3.3]\n\n\n\"\"\", 'SQL_DEEPNOTE_DATAFRAME_SQL')",
   "execution_count": null,
   "outputs": []
  },
  {
   "cell_type": "markdown",
   "source": "### 91. Print the number of rows now.",
   "metadata": {
    "formattedRanges": [],
    "is_collapsed": false,
    "cell_id": "88efbb7b-7ad7-440b-969c-5199c5335316",
    "tags": [],
    "deepnote_cell_type": "text-cell-h3"
   }
  },
  {
   "cell_type": "code",
   "metadata": {
    "tags": [],
    "sql_integration_id": "deepnote-dataframe-sql",
    "cell_id": "59185bea-6f5f-4428-b912-2e3a02618905",
    "deepnote_sql_source": "",
    "deepnote_cell_type": "sql",
    "deepnote_cell_height": 101
   },
   "source": "\n_deepnote_execute_sql(\"\"\"\n\"\"\", 'SQL_DEEPNOTE_DATAFRAME_SQL')",
   "execution_count": null,
   "outputs": []
  },
  {
   "cell_type": "markdown",
   "source": "### 92. Add a new column \"Employee_Rating_New\" which should be as follows:",
   "metadata": {
    "formattedRanges": [],
    "is_collapsed": false,
    "cell_id": "bd096c7b-3b17-4940-b717-e706a1b6feca",
    "tags": [],
    "deepnote_cell_type": "text-cell-h3"
   }
  },
  {
   "cell_type": "markdown",
   "source": "Employee_Rating_New = max(1.5, 2*Employee_Rating - 3)",
   "metadata": {
    "formattedRanges": [],
    "is_collapsed": false,
    "cell_id": "647e4449-f78f-45eb-9356-2b047affbb51",
    "tags": [],
    "deepnote_cell_type": "text-cell-p"
   }
  },
  {
   "cell_type": "code",
   "metadata": {
    "tags": [],
    "sql_integration_id": "deepnote-dataframe-sql",
    "cell_id": "0da7db8f-6356-4022-9612-f79eefa74b2f",
    "deepnote_sql_source": "",
    "deepnote_cell_type": "sql",
    "deepnote_cell_height": 101
   },
   "source": "\n_deepnote_execute_sql(\"\"\"\n\"\"\", 'SQL_DEEPNOTE_DATAFRAME_SQL')",
   "execution_count": null,
   "outputs": []
  },
  {
   "cell_type": "markdown",
   "source": "### 93. Convert the 'Name' to upper case and store it back to the same column. ",
   "metadata": {
    "formattedRanges": [],
    "is_collapsed": false,
    "cell_id": "a10fa526-12e7-4de0-ab4a-3931979a72aa",
    "tags": [],
    "deepnote_cell_type": "text-cell-h3"
   }
  },
  {
   "cell_type": "code",
   "metadata": {
    "tags": [],
    "sql_integration_id": "deepnote-dataframe-sql",
    "cell_id": "f08bc3a7-8e79-4e59-b481-a14002877546",
    "deepnote_sql_source": "",
    "deepnote_cell_type": "sql",
    "deepnote_cell_height": 101
   },
   "source": "\n_deepnote_execute_sql(\"\"\"\n\"\"\", 'SQL_DEEPNOTE_DATAFRAME_SQL')",
   "execution_count": null,
   "outputs": []
  },
  {
   "cell_type": "markdown",
   "source": "### 94. Add a New column of 'First_name' and compute it from the 'Name' column",
   "metadata": {
    "formattedRanges": [],
    "is_collapsed": false,
    "cell_id": "59ae92e8-a616-41d8-88ee-0d961100dad0",
    "tags": [],
    "deepnote_cell_type": "text-cell-h3"
   }
  },
  {
   "cell_type": "code",
   "metadata": {
    "tags": [],
    "sql_integration_id": "deepnote-dataframe-sql",
    "cell_id": "235f40ec-31a0-4295-9365-64b8795ac2a9",
    "deepnote_sql_source": "",
    "deepnote_cell_type": "sql",
    "deepnote_cell_height": 101
   },
   "source": "\n_deepnote_execute_sql(\"\"\"\n\"\"\", 'SQL_DEEPNOTE_DATAFRAME_SQL')",
   "execution_count": null,
   "outputs": []
  },
  {
   "cell_type": "markdown",
   "source": "### 95. Add a New column of 'Last_name' and compute it from the 'Name' column",
   "metadata": {
    "formattedRanges": [],
    "is_collapsed": false,
    "cell_id": "aaa2c0dd-e8dc-4765-a368-d8baf325d95f",
    "tags": [],
    "deepnote_cell_type": "text-cell-h3"
   }
  },
  {
   "cell_type": "code",
   "metadata": {
    "tags": [],
    "sql_integration_id": "deepnote-dataframe-sql",
    "cell_id": "6d3ff860-8abd-4602-a766-43a4ec09e072",
    "deepnote_sql_source": "",
    "deepnote_cell_type": "sql",
    "deepnote_cell_height": 101
   },
   "source": "\n_deepnote_execute_sql(\"\"\"\n\"\"\", 'SQL_DEEPNOTE_DATAFRAME_SQL')",
   "execution_count": null,
   "outputs": []
  },
  {
   "cell_type": "markdown",
   "source": "### 96. Drop the 'Name' column from the table.",
   "metadata": {
    "formattedRanges": [],
    "is_collapsed": false,
    "cell_id": "96475d56-9fba-4c29-b5a0-ff8bb8ca12b3",
    "tags": [],
    "deepnote_cell_type": "text-cell-h3"
   }
  },
  {
   "cell_type": "code",
   "metadata": {
    "tags": [],
    "sql_integration_id": "deepnote-dataframe-sql",
    "cell_id": "9d6ce052-d1a2-4c65-84ec-6eb0b00b7d34",
    "deepnote_sql_source": "",
    "deepnote_cell_type": "sql",
    "deepnote_cell_height": 101
   },
   "source": "\n_deepnote_execute_sql(\"\"\"\n\"\"\", 'SQL_DEEPNOTE_DATAFRAME_SQL')",
   "execution_count": null,
   "outputs": []
  },
  {
   "cell_type": "markdown",
   "source": "### 97. Rename the columns:",
   "metadata": {
    "formattedRanges": [],
    "is_collapsed": false,
    "cell_id": "dca24a1d52834cedb6fef9ef5cc31116",
    "tags": [],
    "deepnote_cell_type": "text-cell-h3"
   }
  },
  {
   "cell_type": "markdown",
   "source": "1. Employee_Rating -> Rating\n2. Employee_Country -> Country\n3. Employee_Salary -> Salary\n4. Employee_Rating_New -> Rating_New\n5. Employment_Status -> Employment_type\n6. Employment_City -> City",
   "metadata": {
    "formattedRanges": [],
    "is_collapsed": false,
    "cell_id": "a00a4ec8-97e5-4d42-bde2-85d4c3a656c8",
    "tags": [],
    "deepnote_cell_type": "text-cell-p"
   }
  },
  {
   "cell_type": "code",
   "metadata": {
    "tags": [],
    "sql_integration_id": "deepnote-dataframe-sql",
    "cell_id": "d6a21e96-7c62-432f-b8f7-18c63f4965d0",
    "deepnote_sql_source": "",
    "deepnote_cell_type": "sql",
    "deepnote_cell_height": 101
   },
   "source": "\n_deepnote_execute_sql(\"\"\"\n\"\"\", 'SQL_DEEPNOTE_DATAFRAME_SQL')",
   "execution_count": null,
   "outputs": []
  },
  {
   "cell_type": "markdown",
   "source": "### 98. Compute a new column as 'Salary_category' as follows:",
   "metadata": {
    "formattedRanges": [],
    "is_collapsed": false,
    "cell_id": "b7663fa4-26ea-41a3-9d2c-f33164f00aa4",
    "tags": [],
    "deepnote_cell_type": "text-cell-h3"
   }
  },
  {
   "cell_type": "markdown",
   "source": "1. \"High\" if the salary is >= 600000\n2. \"Medium\" if the salary is > 300000 and < 600000\n3. \"Low\" otherwise.",
   "metadata": {
    "cell_id": "4c6ccd6c9e80499ebd5207b40c8fff96",
    "tags": [],
    "deepnote_cell_type": "markdown",
    "deepnote_cell_height": 120.171875
   }
  },
  {
   "cell_type": "code",
   "metadata": {
    "tags": [],
    "sql_integration_id": "deepnote-dataframe-sql",
    "cell_id": "16125f0d-a3ad-4350-971f-1b54cbe53406",
    "deepnote_sql_source": "",
    "deepnote_cell_type": "sql",
    "deepnote_cell_height": 101
   },
   "source": "\n_deepnote_execute_sql(\"\"\"\n\"\"\", 'SQL_DEEPNOTE_DATAFRAME_SQL')",
   "execution_count": null,
   "outputs": []
  },
  {
   "cell_type": "markdown",
   "source": "### 99. Print the count distribution of the 'Salary_category' column.",
   "metadata": {
    "formattedRanges": [],
    "is_collapsed": false,
    "cell_id": "43bb2082-903e-4304-895b-7b8c8e60376f",
    "tags": [],
    "deepnote_cell_type": "text-cell-h3"
   }
  },
  {
   "cell_type": "code",
   "metadata": {
    "tags": [],
    "sql_integration_id": "deepnote-dataframe-sql",
    "cell_id": "582caa76-dfb6-4186-82db-30cdc343d7cf",
    "deepnote_sql_source": "",
    "deepnote_cell_type": "sql",
    "deepnote_cell_height": 101
   },
   "source": "\n_deepnote_execute_sql(\"\"\"\n\"\"\", 'SQL_DEEPNOTE_DATAFRAME_SQL')",
   "execution_count": null,
   "outputs": []
  },
  {
   "cell_type": "markdown",
   "source": "### 100. Map every Company_Name to a unique integer value. Name the new column \"Company_ID\".  ",
   "metadata": {
    "formattedRanges": [],
    "is_collapsed": false,
    "cell_id": "d1a30548-a34d-4a34-b95f-882debc91fe9",
    "tags": [],
    "deepnote_cell_type": "text-cell-h3"
   }
  },
  {
   "cell_type": "code",
   "metadata": {
    "tags": [],
    "sql_integration_id": "deepnote-dataframe-sql",
    "cell_id": "a8e25d54-29e2-4ca5-b50a-f0aedba7564b",
    "deepnote_sql_source": "",
    "deepnote_cell_type": "sql",
    "deepnote_cell_height": 101
   },
   "source": "\n_deepnote_execute_sql(\"\"\"\n\"\"\", 'SQL_DEEPNOTE_DATAFRAME_SQL')",
   "execution_count": null,
   "outputs": []
  },
  {
   "cell_type": "markdown",
   "source": "### 101. Generate one-hot lables for the 'Employment_type' column. You don't have to add this as a column to the data.",
   "metadata": {
    "formattedRanges": [],
    "is_collapsed": false,
    "cell_id": "ecd0c80f-34f8-4072-890b-57c92c8265d7",
    "tags": [],
    "deepnote_cell_type": "text-cell-h3"
   }
  },
  {
   "cell_type": "code",
   "metadata": {
    "tags": [],
    "sql_integration_id": "deepnote-dataframe-sql",
    "cell_id": "68da4cac-4d9f-48f1-8f06-de3939f0d6aa",
    "deepnote_sql_source": "",
    "deepnote_cell_type": "sql",
    "deepnote_cell_height": 101
   },
   "source": "\n_deepnote_execute_sql(\"\"\"\n\"\"\", 'SQL_DEEPNOTE_DATAFRAME_SQL')",
   "execution_count": null,
   "outputs": []
  },
  {
   "cell_type": "markdown",
   "source": "### 102. Print the number of rows where 'City' belongs to the following list of cities.",
   "metadata": {
    "formattedRanges": [],
    "is_collapsed": false,
    "cell_id": "1b87128b-c560-4222-8220-028fdce3de4e",
    "tags": [],
    "deepnote_cell_type": "text-cell-h3"
   }
  },
  {
   "cell_type": "markdown",
   "source": "[\"New Russellton\", \"Whiteside\", \"Kristaburgh\"]",
   "metadata": {
    "formattedRanges": [],
    "is_collapsed": false,
    "cell_id": "2d8b5a37-c952-40f0-9800-0c8216914eb9",
    "tags": [],
    "deepnote_cell_type": "text-cell-p"
   }
  },
  {
   "cell_type": "code",
   "metadata": {
    "tags": [],
    "sql_integration_id": "deepnote-dataframe-sql",
    "cell_id": "9513edde-5d8c-46cf-9366-e79d856679e8",
    "deepnote_sql_source": "",
    "deepnote_cell_type": "sql",
    "deepnote_cell_height": 101
   },
   "source": "\n_deepnote_execute_sql(\"\"\"\n\"\"\", 'SQL_DEEPNOTE_DATAFRAME_SQL')",
   "execution_count": null,
   "outputs": []
  },
  {
   "cell_type": "markdown",
   "source": "### 103. Print the name of the person with the 10th largest salary. ",
   "metadata": {
    "formattedRanges": [],
    "is_collapsed": false,
    "cell_id": "90ee2b08-1bde-438f-8384-94253a48f8ab",
    "tags": [],
    "deepnote_cell_type": "text-cell-h3"
   }
  },
  {
   "cell_type": "code",
   "metadata": {
    "tags": [],
    "sql_integration_id": "deepnote-dataframe-sql",
    "cell_id": "9843b7a4-8241-4c63-9090-71101acaec47",
    "deepnote_sql_source": "",
    "deepnote_cell_type": "sql",
    "deepnote_cell_height": 101
   },
   "source": "\n_deepnote_execute_sql(\"\"\"\n\"\"\", 'SQL_DEEPNOTE_DATAFRAME_SQL')",
   "execution_count": null,
   "outputs": []
  },
  {
   "cell_type": "markdown",
   "source": "### 104. Print the standard deviation of the Salary column.",
   "metadata": {
    "formattedRanges": [],
    "is_collapsed": false,
    "cell_id": "00989ff0-adde-45be-a507-b54bd13c1104",
    "tags": [],
    "deepnote_cell_type": "text-cell-h3"
   }
  },
  {
   "cell_type": "code",
   "metadata": {
    "tags": [],
    "sql_integration_id": "deepnote-dataframe-sql",
    "cell_id": "8c2b314e-fd8a-4724-bbed-4ba0d135ecdf",
    "deepnote_sql_source": "",
    "deepnote_cell_type": "sql",
    "deepnote_cell_height": 101
   },
   "source": "\n_deepnote_execute_sql(\"\"\"\n\"\"\", 'SQL_DEEPNOTE_DATAFRAME_SQL')",
   "execution_count": null,
   "outputs": []
  },
  {
   "cell_type": "markdown",
   "source": "### 105. Sort the data on Employee salary column",
   "metadata": {
    "formattedRanges": [],
    "is_collapsed": false,
    "cell_id": "168559bce69444f5a259e7f226714f98",
    "tags": [],
    "deepnote_cell_type": "text-cell-h3"
   }
  },
  {
   "cell_type": "code",
   "metadata": {
    "tags": [],
    "sql_integration_id": "deepnote-dataframe-sql",
    "cell_id": "a7b17d64b7ad483596ec7e94d360af7c",
    "deepnote_sql_source": "",
    "deepnote_cell_type": "sql",
    "deepnote_cell_height": 101
   },
   "source": "\n_deepnote_execute_sql(\"\"\"\n\"\"\", 'SQL_DEEPNOTE_DATAFRAME_SQL')",
   "execution_count": null,
   "outputs": []
  },
  {
   "cell_type": "markdown",
   "source": "### 106. Find the average salary on company-level only for those companies where the number of employees is greater than 120. ",
   "metadata": {
    "formattedRanges": [],
    "is_collapsed": false,
    "cell_id": "3d82f5aecfc74b8fba95049f148e365f",
    "tags": [],
    "deepnote_cell_type": "text-cell-h3"
   }
  },
  {
   "cell_type": "code",
   "metadata": {
    "tags": [],
    "sql_integration_id": "deepnote-dataframe-sql",
    "cell_id": "24608c02f2674970ac7c8db1f4f01477",
    "deepnote_sql_source": "",
    "deepnote_cell_type": "sql",
    "deepnote_cell_height": 101
   },
   "source": "\n_deepnote_execute_sql(\"\"\"\n\"\"\", 'SQL_DEEPNOTE_DATAFRAME_SQL')",
   "execution_count": null,
   "outputs": []
  },
  {
   "cell_type": "markdown",
   "source": "### 107. Given the data below, implement a SQL inner join on col_A:",
   "metadata": {
    "formattedRanges": [],
    "is_collapsed": false,
    "cell_id": "ee01147a-fc22-4344-9ebe-f47388600eda",
    "tags": [],
    "deepnote_cell_type": "text-cell-h3"
   }
  },
  {
   "cell_type": "code",
   "metadata": {
    "cell_id": "bcc085d230a4452699b6b1a7cd69d899",
    "tags": [],
    "deepnote_cell_type": "code",
    "deepnote_cell_height": 133
   },
   "source": "df1 = pd.DataFrame([[\"A\", 1], [\"B\", 2]], \n                  columns=[\"col_A\", \"col_B\"])\n\ndf2 = pd.DataFrame([[\"A\", 3], [\"C\", 4]], \n                  columns=[\"col_A\", \"col_C\"])",
   "execution_count": null,
   "outputs": []
  },
  {
   "cell_type": "code",
   "metadata": {
    "tags": [],
    "sql_integration_id": "deepnote-dataframe-sql",
    "cell_id": "fabad24b-a850-4953-94b4-f86b0dccba25",
    "deepnote_sql_source": "",
    "deepnote_cell_type": "sql",
    "deepnote_cell_height": 101
   },
   "source": "\n_deepnote_execute_sql(\"\"\"\n\"\"\", 'SQL_DEEPNOTE_DATAFRAME_SQL')",
   "execution_count": null,
   "outputs": []
  },
  {
   "cell_type": "markdown",
   "source": "### 108. Perform the full outer join on the two tables.",
   "metadata": {
    "formattedRanges": [],
    "is_collapsed": false,
    "cell_id": "f08fb484-a9b9-45f9-ac66-f827a3d0dfe7",
    "tags": [],
    "deepnote_cell_type": "text-cell-h3"
   }
  },
  {
   "cell_type": "code",
   "metadata": {
    "cell_id": "e342e2d51056456dbbfa13c4457a3492",
    "tags": [],
    "deepnote_cell_type": "code",
    "deepnote_cell_height": 133
   },
   "source": "df1 = pd.DataFrame([[\"A\", 1], [\"B\", 2]], \n                  columns=[\"col_A\", \"col_B\"])\n\ndf2 = pd.DataFrame([[\"A\", 3], [\"C\", 4]], \n                  columns=[\"col_A\", \"col_C\"])",
   "execution_count": null,
   "outputs": []
  },
  {
   "cell_type": "code",
   "metadata": {
    "tags": [],
    "sql_integration_id": "deepnote-dataframe-sql",
    "cell_id": "918a6e4f-0d32-4dda-b067-39ff5119ce13",
    "deepnote_sql_source": "",
    "deepnote_cell_type": "sql",
    "deepnote_cell_height": 101
   },
   "source": "\n_deepnote_execute_sql(\"\"\"\n\"\"\", 'SQL_DEEPNOTE_DATAFRAME_SQL')",
   "execution_count": null,
   "outputs": []
  },
  {
   "cell_type": "markdown",
   "source": "### 109.  Concatentate the two tables row-wise",
   "metadata": {
    "formattedRanges": [],
    "is_collapsed": false,
    "cell_id": "5b3ace97-64d8-456d-801d-9770fbb7ffbf",
    "tags": [],
    "deepnote_cell_type": "text-cell-h3"
   }
  },
  {
   "cell_type": "code",
   "metadata": {
    "cell_id": "e1ebcc0d95424fa8b5ef4478edcafb8c",
    "tags": [],
    "deepnote_cell_type": "code",
    "deepnote_cell_height": 133
   },
   "source": "df1 = pd.DataFrame([[\"A\", 1], [\"B\", 2]], \n                  columns=[\"col_A\", \"col_B\"])\n\ndf2 = pd.DataFrame([[\"A\", 3], [\"C\", 4]], \n                  columns=[\"col_A\", \"col_B\"])",
   "execution_count": null,
   "outputs": []
  },
  {
   "cell_type": "code",
   "metadata": {
    "tags": [],
    "sql_integration_id": "deepnote-dataframe-sql",
    "cell_id": "fc2a154a-5594-46ce-aea5-4d2616e6f21b",
    "deepnote_sql_source": "",
    "deepnote_cell_type": "sql",
    "deepnote_cell_height": 101
   },
   "source": "\n_deepnote_execute_sql(\"\"\"\n\"\"\", 'SQL_DEEPNOTE_DATAFRAME_SQL')",
   "execution_count": null,
   "outputs": []
  },
  {
   "cell_type": "markdown",
   "source": "### 110. Get the mean of every column",
   "metadata": {
    "formattedRanges": [],
    "is_collapsed": false,
    "cell_id": "368d45f5-36e7-4957-82a9-a2ecbbe7ecf0",
    "tags": [],
    "deepnote_cell_type": "text-cell-h3"
   }
  },
  {
   "cell_type": "code",
   "metadata": {
    "cell_id": "90c512bbc55842afa8feacd99a6ac1ac",
    "tags": [],
    "deepnote_cell_type": "code",
    "deepnote_cell_height": 133
   },
   "source": "df = pd.DataFrame([[4, 1, 5], \n                   [5, 5, 9],\n                   [2, 9, 3], \n                   [8, 5, 8]], \n                  columns=[\"col_A\", \"col_B\", \"col_C\"])",
   "execution_count": null,
   "outputs": []
  },
  {
   "cell_type": "code",
   "metadata": {
    "tags": [],
    "sql_integration_id": "deepnote-dataframe-sql",
    "cell_id": "5c3832f1-1d4c-4130-b90e-0131909f4867",
    "deepnote_sql_source": "",
    "deepnote_cell_type": "sql",
    "deepnote_cell_height": 101
   },
   "source": "\n_deepnote_execute_sql(\"\"\"\n\"\"\", 'SQL_DEEPNOTE_DATAFRAME_SQL')",
   "execution_count": null,
   "outputs": []
  },
  {
   "cell_type": "markdown",
   "source": "### 111. Sort the Data on col_A and col_B",
   "metadata": {
    "formattedRanges": [],
    "is_collapsed": false,
    "cell_id": "d033a183-cc5b-4f86-aa78-ee50a1fd258d",
    "tags": [],
    "deepnote_cell_type": "text-cell-h3"
   }
  },
  {
   "cell_type": "markdown",
   "source": "col_A -> Ascending\ncol_B -> Ascending",
   "metadata": {
    "cell_id": "eda5339530fa4864837db33f4ac23161",
    "tags": [],
    "deepnote_cell_type": "markdown",
    "deepnote_cell_height": 74.78125
   }
  },
  {
   "cell_type": "code",
   "metadata": {
    "cell_id": "7ee3e2b22274413b93ccbbb1abbc5b70",
    "tags": [],
    "deepnote_cell_type": "code",
    "deepnote_cell_height": 133
   },
   "source": "df = pd.DataFrame([[4, 1, 5], \n                   [5, 5, 9],\n                   [2, 9, 3], \n                   [8, 5, 8]], \n                  columns=[\"col_A\", \"col_B\", \"col_C\"])",
   "execution_count": null,
   "outputs": []
  },
  {
   "cell_type": "code",
   "metadata": {
    "tags": [],
    "sql_integration_id": "deepnote-dataframe-sql",
    "cell_id": "a748057c-eb86-48b5-a31d-e0ee7e894089",
    "deepnote_sql_source": "",
    "deepnote_cell_type": "sql",
    "deepnote_cell_height": 101
   },
   "source": "\n_deepnote_execute_sql(\"\"\"\n\"\"\", 'SQL_DEEPNOTE_DATAFRAME_SQL')",
   "execution_count": null,
   "outputs": []
  },
  {
   "cell_type": "markdown",
   "source": "### 112. Get the rows where (the value of \"col_A\" is equal to \"col_B\") OR (the value of \"col_A\" is equal to \"col_C\").",
   "metadata": {
    "formattedRanges": [],
    "is_collapsed": false,
    "cell_id": "c6f57944-5b9f-4200-a369-0af1764534cd",
    "tags": [],
    "deepnote_cell_type": "text-cell-h3"
   }
  },
  {
   "cell_type": "code",
   "metadata": {
    "cell_id": "d6d76aced96044f7a0a97e5a1c2c0c56",
    "tags": [],
    "deepnote_cell_type": "code",
    "deepnote_cell_height": 133
   },
   "source": "df = pd.DataFrame([[4, 1, 5], \n                   [5, 5, 9],\n                   [2, 9, 3], \n                   [8, 5, 8]], \n                  columns=[\"col_A\", \"col_B\", \"col_C\"])",
   "execution_count": null,
   "outputs": []
  },
  {
   "cell_type": "code",
   "metadata": {
    "tags": [],
    "sql_integration_id": "deepnote-dataframe-sql",
    "cell_id": "a129839c-50e5-4f7e-adaf-8ad161269197",
    "deepnote_sql_source": "",
    "deepnote_cell_type": "sql",
    "deepnote_cell_height": 101
   },
   "source": "\n_deepnote_execute_sql(\"\"\"\n\"\"\", 'SQL_DEEPNOTE_DATAFRAME_SQL')",
   "execution_count": null,
   "outputs": []
  },
  {
   "cell_type": "markdown",
   "source": "### 113. Get the rows where the value of \"col_A\" is equal to \"col_B\".",
   "metadata": {
    "formattedRanges": [],
    "is_collapsed": false,
    "cell_id": "a60cfbc5-fd80-4f3e-81ac-2dfa7b0391cd",
    "tags": [],
    "deepnote_cell_type": "text-cell-h3"
   }
  },
  {
   "cell_type": "code",
   "metadata": {
    "cell_id": "582cc77a619a4923b2d703e1159b1fef",
    "tags": [],
    "deepnote_cell_type": "code",
    "deepnote_cell_height": 133
   },
   "source": "df = pd.DataFrame([[4, 1, 5], \n                   [5, 5, 9],\n                   [2, 9, 3], \n                   [8, 5, 8]], \n                  columns=[\"col_A\", \"col_B\", \"col_C\"])",
   "execution_count": null,
   "outputs": []
  },
  {
   "cell_type": "code",
   "metadata": {
    "tags": [],
    "sql_integration_id": "deepnote-dataframe-sql",
    "cell_id": "55f5f1e9-6f49-4c35-b031-a7f61001bf44",
    "deepnote_sql_source": "",
    "deepnote_cell_type": "sql",
    "deepnote_cell_height": 101
   },
   "source": "\n_deepnote_execute_sql(\"\"\"\n\"\"\", 'SQL_DEEPNOTE_DATAFRAME_SQL')",
   "execution_count": null,
   "outputs": []
  },
  {
   "cell_type": "markdown",
   "source": "### 114-123: As your next exercise, frame 10 questions on your own and solve them. ",
   "metadata": {
    "formattedRanges": [],
    "is_collapsed": false,
    "cell_id": "d5e68dbb-2cb8-47da-af2a-7560bb3fd899",
    "tags": [],
    "deepnote_cell_type": "text-cell-h3"
   }
  },
  {
   "cell_type": "code",
   "metadata": {
    "tags": [],
    "sql_integration_id": "deepnote-dataframe-sql",
    "cell_id": "5179baa3-6f64-4e06-a3d0-862458974690",
    "deepnote_sql_source": "",
    "deepnote_cell_type": "sql",
    "deepnote_cell_height": 101
   },
   "source": "\n_deepnote_execute_sql(\"\"\"\n\"\"\", 'SQL_DEEPNOTE_DATAFRAME_SQL')",
   "execution_count": null,
   "outputs": []
  },
  {
   "cell_type": "markdown",
   "source": "### ",
   "metadata": {
    "formattedRanges": [],
    "is_collapsed": false,
    "cell_id": "457e586e253c453891772ecc22a9fc74",
    "tags": [],
    "deepnote_cell_type": "text-cell-h3"
   }
  },
  {
   "cell_type": "markdown",
   "source": "<a style='text-decoration:none;line-height:16px;display:flex;color:#5B5B62;padding:10px;justify-content:end;' href='https://deepnote.com?utm_source=created-in-deepnote-cell&projectId=1914b214-be03-44a1-be63-ad99e98be639' target=\"_blank\">\n<img alt='Created in deepnote.com' style='display:inline;max-height:16px;margin:0px;margin-right:7.5px;' src='data:image/svg+xml;base64,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' > </img>\nCreated in <span style='font-weight:600;margin-left:4px;'>Deepnote</span></a>",
   "metadata": {
    "tags": [],
    "created_in_deepnote_cell": true,
    "deepnote_cell_type": "markdown"
   }
  }
 ],
 "nbformat": 4,
 "nbformat_minor": 2,
 "metadata": {
  "orig_nbformat": 2,
  "deepnote": {},
  "deepnote_notebook_id": "e85d9bba-655c-43f4-8ce2-0db827424ce4",
  "deepnote_execution_queue": []
 }
}