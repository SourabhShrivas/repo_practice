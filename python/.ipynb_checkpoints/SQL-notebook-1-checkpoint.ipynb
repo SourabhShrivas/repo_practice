{
 "cells": [
  {
   "cell_type": "markdown",
   "source": "# 450+ Practice Questions That Will Make You a Pandas, NumPy, and SQL Pro!",
   "metadata": {
    "formattedRanges": [],
    "is_collapsed": false,
    "cell_id": "524efd7f1dcf427f89f93f3eb91739b8",
    "tags": [],
    "deepnote_cell_type": "text-cell-h1"
   }
  },
  {
   "cell_type": "markdown",
   "source": "Author: Avi Chawla\n\nLinkedIn: https://www.linkedin.com/in/avi-chawla/\n\nRead my blogs here: https://medium.com/@avi_chawla",
   "metadata": {
    "cell_id": "845fcd0218c342e385d4ec4f3e663222",
    "tags": [],
    "deepnote_cell_type": "markdown",
    "deepnote_cell_height": 125.171875
   }
  },
  {
   "cell_type": "markdown",
   "source": "## Introduction",
   "metadata": {
    "formattedRanges": [],
    "is_collapsed": false,
    "cell_id": "7f875353207e43deb5bb347a981a6784",
    "tags": [],
    "deepnote_cell_type": "text-cell-h2"
   }
  },
  {
   "cell_type": "markdown",
   "source": "This notebook has been created for you to practice three of the most common tools used in building any machine learning or data science applications, i.e., Pandas, NumPy, and SQL!",
   "metadata": {
    "formattedRanges": [
     {
      "fromCodePoint": 156,
      "toCodePoint": 179,
      "marks": {
       "bold": true
      }
     }
    ],
    "is_collapsed": false,
    "cell_id": "d027f7b79a2f4c239a1f639c62ee5b31",
    "tags": [],
    "deepnote_cell_type": "text-cell-p"
   }
  },
  {
   "cell_type": "markdown",
   "source": "The practice questions provided will serve as a great resource for those who are looking to familiarize themselves with some of the most common functions used in these tools. ",
   "metadata": {
    "formattedRanges": [],
    "is_collapsed": false,
    "cell_id": "4e14aeaf-93f4-4484-a1c2-84fd88ad6ebe",
    "tags": [],
    "deepnote_cell_type": "text-cell-p"
   }
  },
  {
   "cell_type": "markdown",
   "source": "Appropriate descriptions have been provided for all the questions in this entire exercise which will help you navigate through this exercise easily. If a dataset is to be loaded in the python environment, that has also been provided for you. You can find it on the right panel in the Files section. Do NOT delete any of the files/folders listed there. ",
   "metadata": {
    "formattedRanges": [
     {
      "fromCodePoint": 284,
      "toCodePoint": 289,
      "marks": {
       "bold": true
      }
     },
     {
      "fromCodePoint": 302,
      "toCodePoint": 305,
      "marks": {
       "bold": true
      }
     }
    ],
    "is_collapsed": false,
    "cell_id": "7bc00146-5279-4a10-a1aa-efa29edffb83",
    "tags": [],
    "deepnote_cell_type": "text-cell-p"
   }
  },
  {
   "cell_type": "markdown",
   "source": "The whole exercise has been divided into nine separate notebooks. Below are the links to all the other notebooks for you to jump from one notebook to another:",
   "metadata": {
    "formattedRanges": [],
    "is_collapsed": false,
    "cell_id": "fddf7335-854f-4225-b5cc-d43309c8141b",
    "tags": [],
    "deepnote_cell_type": "text-cell-p"
   }
  },
  {
   "cell_type": "markdown",
   "source": "- **Pandas**\n\n1. Pandas Notebook 1: [Link](https://deepnote.com/workspace/avi-chawla-695b-aee6f4ef-2d50-4fb6-9ef2-20ee1022995a/project/Pandas-Notebook-1-d693ac55-6455-40cf-ae34-867c6a02014e/%2Fnotebook.ipynb) \n2. Pandas Notebook 2: [Link](https://deepnote.com/workspace/avi-chawla-695b-aee6f4ef-2d50-4fb6-9ef2-20ee1022995a/project/Pandas-Notebook-employee-dataset-7e3b6755-5d4b-464b-9b75-9c84667ae3bd/%2Fnotebook.ipynb) \n\n3. Pandas Notebook 3: [Link](https://deepnote.com/workspace/avi-chawla-695b-aee6f4ef-2d50-4fb6-9ef2-20ee1022995a/project/Pandas-Notebook-employee-part-2-adc5a3ee-5f61-4725-8e46-ccb07899acfc/%2Fnotebook.ipynb)\n\n4. Pandas Notebook 4: [Link](https://deepnote.com/workspace/avi-chawla-695b-aee6f4ef-2d50-4fb6-9ef2-20ee1022995a/project/Pandas-after-employee-f84e02a1-fb6a-428e-af90-8dd99855749a/%2Fnotebook.ipynb)\n\n- **NumPy**\n\n1. NumPy Notebook 1: [Link](https://deepnote.com/workspace/avi-chawla-695b-aee6f4ef-2d50-4fb6-9ef2-20ee1022995a/project/Numpy-part-1-9b9979f2-b708-4292-b466-3d0157564c91/%2Fnotebook.ipynb)\n\n2. NumPy Notebook 2: [Link](https://deepnote.com/workspace/avi-chawla-695b-aee6f4ef-2d50-4fb6-9ef2-20ee1022995a/project/NumPy-Notebook-2-4456411e-2ddd-426d-8027-4881080027db/%2Fnotebook.ipynb)\n\n3. NumPy Notebook 3: [Link](https://deepnote.com/workspace/avi-chawla-695b-aee6f4ef-2d50-4fb6-9ef2-20ee1022995a/project/NumPy-Notebook-3-e6587114-b580-4249-b599-540de859e603/%2Fnotebook.ipynb)\n\n- **SQL**\n\n1. SQL Notebook 1: [Link](https://deepnote.com/workspace/avi-chawla-695b-aee6f4ef-2d50-4fb6-9ef2-20ee1022995a/project/SQL-Notebook-1-eac9d782-a9b1-4e84-a1f9-af14080a6121/%2Fnotebook.ipynb) **(This Notebook)** \n\n2. SQL Notebook 2: [Link](https://deepnote.com/workspace/avi-chawla-695b-aee6f4ef-2d50-4fb6-9ef2-20ee1022995a/project/SQL-Notebook-2-1914b214-be03-44a1-be63-ad99e98be639/%2Fnotebook.ipynb)",
   "metadata": {
    "cell_id": "3890a680ecf041e7b2c07e903b4902cf",
    "tags": [],
    "deepnote_cell_type": "markdown",
    "deepnote_cell_height": 403.6875
   }
  },
  {
   "cell_type": "markdown",
   "source": "## How to use this notebook?",
   "metadata": {
    "formattedRanges": [],
    "is_collapsed": false,
    "cell_id": "98106bcb90fd40e6b3206151d10bf515",
    "tags": [],
    "deepnote_cell_type": "text-cell-h2"
   }
  },
  {
   "cell_type": "markdown",
   "source": "At the top right corner, you will find a Duplicate button. This will allow you to create a unique notebook for your own practice and write solutions to the question listed in this notebook.  ",
   "metadata": {
    "formattedRanges": [
     {
      "fromCodePoint": 41,
      "toCodePoint": 50,
      "marks": {
       "bold": true
      }
     }
    ],
    "is_collapsed": false,
    "cell_id": "0a87fdd8-977b-4311-ab52-eaa103362e5e",
    "tags": [],
    "deepnote_cell_type": "text-cell-p"
   }
  },
  {
   "cell_type": "markdown",
   "source": "If you face any issues or have any feedback, feel free to reach out to me (Avi Chawla) either on Linkedin: https://www.linkedin.com/in/avi-chawla/ or write an email to avi@dsscholar[dot]com. ",
   "metadata": {
    "cell_id": "0898b89379a34000a2970a0f390d176d",
    "tags": [],
    "deepnote_cell_type": "markdown",
    "deepnote_cell_height": 74.78125
   }
  },
  {
   "cell_type": "markdown",
   "source": "Let's begin 🚀!",
   "metadata": {
    "formattedRanges": [],
    "is_collapsed": false,
    "cell_id": "ed11dcd6160344129644d2834cab1dfd",
    "tags": [],
    "deepnote_cell_type": "text-cell-p"
   }
  },
  {
   "cell_type": "markdown",
   "source": "# SQL Notebook 1",
   "metadata": {
    "formattedRanges": [],
    "is_collapsed": false,
    "cell_id": "8795016d13a94a7cbf00e25002692565",
    "tags": [],
    "deepnote_cell_type": "text-cell-h1"
   }
  },
  {
   "cell_type": "code",
   "metadata": {
    "tags": [],
    "cell_id": "5598dc29-7a80-4e61-9fcc-f852c323ad81",
    "deepnote_to_be_reexecuted": false,
    "source_hash": "9b82ee11",
    "execution_start": 1660307026763,
    "execution_millis": 1,
    "deepnote_cell_type": "code",
    "deepnote_cell_height": 76
   },
   "source": "import pandas as pd",
   "execution_count": null,
   "outputs": []
  },
  {
   "cell_type": "code",
   "metadata": {
    "cell_id": "82ec0cd2b0ce44e0b22229edaeb6dec7",
    "tags": [],
    "deepnote_to_be_reexecuted": false,
    "source_hash": "6a3a08b4",
    "execution_start": 1660307026765,
    "execution_millis": 707,
    "deepnote_cell_type": "code",
    "deepnote_cell_height": 423
   },
   "source": "data = pd.read_csv(\"employee_dataset.csv\")\ndata.head()",
   "execution_count": null,
   "outputs": [
    {
     "output_type": "execute_result",
     "execution_count": 2,
     "data": {
      "application/vnd.deepnote.dataframe.v3+json": {
       "column_count": 8,
       "row_count": 5,
       "columns": [
        {
         "name": "Name",
         "dtype": "object",
         "stats": {
          "unique_count": 5,
          "nan_count": 0,
          "categories": [
           {
            "name": "Spencer Adkins",
            "count": 1
           },
           {
            "name": "Julie Morton",
            "count": 1
           },
           {
            "name": "3 others",
            "count": 3
           }
          ]
         }
        },
        {
         "name": "Company_Name",
         "dtype": "object",
         "stats": {
          "unique_count": 5,
          "nan_count": 0,
          "categories": [
           {
            "name": "James and Sons",
            "count": 1
           },
           {
            "name": "Nichols-James",
            "count": 1
           },
           {
            "name": "3 others",
            "count": 3
           }
          ]
         }
        },
        {
         "name": "Employee_Job_Title",
         "dtype": "object",
         "stats": {
          "unique_count": 4,
          "nan_count": 0,
          "categories": [
           {
            "name": "Production engineer",
            "count": 2
           },
           {
            "name": "Equities trader",
            "count": 1
           },
           {
            "name": "2 others",
            "count": 2
           }
          ]
         }
        },
        {
         "name": "Employee_City",
         "dtype": "object",
         "stats": {
          "unique_count": 5,
          "nan_count": 0,
          "categories": [
           {
            "name": "New Russellton",
            "count": 1
           },
           {
            "name": "North Melissafurt",
            "count": 1
           },
           {
            "name": "3 others",
            "count": 3
           }
          ]
         }
        },
        {
         "name": "Employee_Country",
         "dtype": "object",
         "stats": {
          "unique_count": 5,
          "nan_count": 0,
          "categories": [
           {
            "name": "Palestinian Territory",
            "count": 1
           },
           {
            "name": "Marshall Islands",
            "count": 1
           },
           {
            "name": "3 others",
            "count": 3
           }
          ]
         }
        },
        {
         "name": "Employee_Salary",
         "dtype": "int64",
         "stats": {
          "unique_count": 5,
          "nan_count": 0,
          "min": "116400",
          "max": "630890",
          "histogram": [
           {
            "bin_start": 116400,
            "bin_end": 167849,
            "count": 1
           },
           {
            "bin_start": 167849,
            "bin_end": 219298,
            "count": 0
           },
           {
            "bin_start": 219298,
            "bin_end": 270747,
            "count": 0
           },
           {
            "bin_start": 270747,
            "bin_end": 322196,
            "count": 1
           },
           {
            "bin_start": 322196,
            "bin_end": 373645,
            "count": 0
           },
           {
            "bin_start": 373645,
            "bin_end": 425094,
            "count": 0
           },
           {
            "bin_start": 425094,
            "bin_end": 476543,
            "count": 0
           },
           {
            "bin_start": 476543,
            "bin_end": 527992,
            "count": 1
           },
           {
            "bin_start": 527992,
            "bin_end": 579441,
            "count": 0
           },
           {
            "bin_start": 579441,
            "bin_end": 630890,
            "count": 2
           }
          ]
         }
        },
        {
         "name": "Employment_Status",
         "dtype": "object",
         "stats": {
          "unique_count": 1,
          "nan_count": 0,
          "categories": [
           {
            "name": "Full Time",
            "count": 5
           }
          ]
         }
        },
        {
         "name": "Employee_Rating",
         "dtype": "float64",
         "stats": {
          "unique_count": 4,
          "nan_count": 0,
          "min": "3.1",
          "max": "4.8",
          "histogram": [
           {
            "bin_start": 3.1,
            "bin_end": 3.27,
            "count": 2
           },
           {
            "bin_start": 3.27,
            "bin_end": 3.44,
            "count": 0
           },
           {
            "bin_start": 3.44,
            "bin_end": 3.6100000000000003,
            "count": 0
           },
           {
            "bin_start": 3.6100000000000003,
            "bin_end": 3.7800000000000002,
            "count": 0
           },
           {
            "bin_start": 3.7800000000000002,
            "bin_end": 3.95,
            "count": 1
           },
           {
            "bin_start": 3.95,
            "bin_end": 4.12,
            "count": 0
           },
           {
            "bin_start": 4.12,
            "bin_end": 4.29,
            "count": 0
           },
           {
            "bin_start": 4.29,
            "bin_end": 4.46,
            "count": 1
           },
           {
            "bin_start": 4.46,
            "bin_end": 4.63,
            "count": 0
           },
           {
            "bin_start": 4.63,
            "bin_end": 4.8,
            "count": 1
           }
          ]
         }
        },
        {
         "name": "_deepnote_index_column",
         "dtype": "int64"
        }
       ],
       "rows": [
        {
         "Name": "Spencer Adkins",
         "Company_Name": "James and Sons",
         "Employee_Job_Title": "Equities trader",
         "Employee_City": "New Russellton",
         "Employee_Country": "Palestinian Territory",
         "Employee_Salary": 321520,
         "Employment_Status": "Full Time",
         "Employee_Rating": 3.9,
         "_deepnote_index_column": 0
        },
        {
         "Name": "Julie Morton",
         "Company_Name": "Nichols-James",
         "Employee_Job_Title": "Diplomatic Services operational officer",
         "Employee_City": "North Melissafurt",
         "Employee_Country": "Marshall Islands",
         "Employee_Salary": 589090,
         "Employment_Status": "Full Time",
         "Employee_Rating": 4.3,
         "_deepnote_index_column": 1
        },
        {
         "Name": "Matthew Hall",
         "Company_Name": "Scott Inc",
         "Employee_Job_Title": "Regulatory affairs officer",
         "Employee_City": "Wardfort",
         "Employee_Country": "Anguilla",
         "Employee_Salary": 630890,
         "Employment_Status": "Full Time",
         "Employee_Rating": 3.1,
         "_deepnote_index_column": 2
        },
        {
         "Name": "Brad Scott",
         "Company_Name": "Johnston, Fleming and Tanner",
         "Employee_Job_Title": "Production engineer",
         "Employee_City": "West Jamesview",
         "Employee_Country": "Syrian Arab Republic",
         "Employee_Salary": 116400,
         "Employment_Status": "Full Time",
         "Employee_Rating": 3.1,
         "_deepnote_index_column": 3
        },
        {
         "Name": "Theresa Owens",
         "Company_Name": "Baker, Allen and Edwards",
         "Employee_Job_Title": "Production engineer",
         "Employee_City": "Whiteside",
         "Employee_Country": "Dominica",
         "Employee_Salary": 523499,
         "Employment_Status": "Full Time",
         "Employee_Rating": 4.8,
         "_deepnote_index_column": 4
        }
       ]
      },
      "text/plain": "             Name                  Company_Name  \\\n0  Spencer Adkins                James and Sons   \n1    Julie Morton                 Nichols-James   \n2    Matthew Hall                     Scott Inc   \n3      Brad Scott  Johnston, Fleming and Tanner   \n4   Theresa Owens      Baker, Allen and Edwards   \n\n                        Employee_Job_Title      Employee_City  \\\n0                          Equities trader     New Russellton   \n1  Diplomatic Services operational officer  North Melissafurt   \n2               Regulatory affairs officer           Wardfort   \n3                      Production engineer     West Jamesview   \n4                      Production engineer          Whiteside   \n\n        Employee_Country  Employee_Salary Employment_Status  Employee_Rating  \n0  Palestinian Territory           321520         Full Time              3.9  \n1       Marshall Islands           589090         Full Time              4.3  \n2               Anguilla           630890         Full Time              3.1  \n3   Syrian Arab Republic           116400         Full Time              3.1  \n4               Dominica           523499         Full Time              4.8  ",
      "text/html": "<div>\n<style scoped>\n    .dataframe tbody tr th:only-of-type {\n        vertical-align: middle;\n    }\n\n    .dataframe tbody tr th {\n        vertical-align: top;\n    }\n\n    .dataframe thead th {\n        text-align: right;\n    }\n</style>\n<table border=\"1\" class=\"dataframe\">\n  <thead>\n    <tr style=\"text-align: right;\">\n      <th></th>\n      <th>Name</th>\n      <th>Company_Name</th>\n      <th>Employee_Job_Title</th>\n      <th>Employee_City</th>\n      <th>Employee_Country</th>\n      <th>Employee_Salary</th>\n      <th>Employment_Status</th>\n      <th>Employee_Rating</th>\n    </tr>\n  </thead>\n  <tbody>\n    <tr>\n      <th>0</th>\n      <td>Spencer Adkins</td>\n      <td>James and Sons</td>\n      <td>Equities trader</td>\n      <td>New Russellton</td>\n      <td>Palestinian Territory</td>\n      <td>321520</td>\n      <td>Full Time</td>\n      <td>3.9</td>\n    </tr>\n    <tr>\n      <th>1</th>\n      <td>Julie Morton</td>\n      <td>Nichols-James</td>\n      <td>Diplomatic Services operational officer</td>\n      <td>North Melissafurt</td>\n      <td>Marshall Islands</td>\n      <td>589090</td>\n      <td>Full Time</td>\n      <td>4.3</td>\n    </tr>\n    <tr>\n      <th>2</th>\n      <td>Matthew Hall</td>\n      <td>Scott Inc</td>\n      <td>Regulatory affairs officer</td>\n      <td>Wardfort</td>\n      <td>Anguilla</td>\n      <td>630890</td>\n      <td>Full Time</td>\n      <td>3.1</td>\n    </tr>\n    <tr>\n      <th>3</th>\n      <td>Brad Scott</td>\n      <td>Johnston, Fleming and Tanner</td>\n      <td>Production engineer</td>\n      <td>West Jamesview</td>\n      <td>Syrian Arab Republic</td>\n      <td>116400</td>\n      <td>Full Time</td>\n      <td>3.1</td>\n    </tr>\n    <tr>\n      <th>4</th>\n      <td>Theresa Owens</td>\n      <td>Baker, Allen and Edwards</td>\n      <td>Production engineer</td>\n      <td>Whiteside</td>\n      <td>Dominica</td>\n      <td>523499</td>\n      <td>Full Time</td>\n      <td>4.8</td>\n    </tr>\n  </tbody>\n</table>\n</div>"
     },
     "metadata": {}
    }
   ]
  },
  {
   "cell_type": "markdown",
   "source": "To run SQL Queries, write your queries in the usual. The name of the dataframe will be treated as the table-name while writing these queries. A sample query is mentioned below:",
   "metadata": {
    "cell_id": "ae03b4b8047b4827a5195417c8e65df2",
    "tags": [],
    "deepnote_cell_type": "markdown",
    "deepnote_cell_height": 74.78125
   }
  },
  {
   "cell_type": "markdown",
   "source": "### Sample Query",
   "metadata": {
    "is_collapsed": false,
    "cell_id": "2eebccbb6b444b4e87bd8e265d93d9b6",
    "tags": [],
    "formattedRanges": [],
    "deepnote_cell_type": "text-cell-h3"
   }
  },
  {
   "cell_type": "code",
   "source": "\n_deepnote_execute_sql(\"\"\"select * from data; -- select all rows and columns from the data. \n\"\"\", 'SQL_DEEPNOTE_DATAFRAME_SQL')",
   "metadata": {
    "tags": [],
    "sql_integration_id": "deepnote-dataframe-sql",
    "cell_id": "f31a6778a2394797a3fb6587c82bd677",
    "deepnote_cell_type": "sql",
    "deepnote_sql_source": "select * from data; -- select all rows and columns from the data. ",
    "deepnote_cell_height": 101
   },
   "outputs": [],
   "execution_count": null
  },
  {
   "cell_type": "markdown",
   "source": "### 1. Print the first five rows",
   "metadata": {
    "formattedRanges": [],
    "is_collapsed": false,
    "cell_id": "09e093c3d2cb4f1dbbdd67c289f10800",
    "tags": [],
    "deepnote_cell_type": "text-cell-h3"
   }
  },
  {
   "cell_type": "code",
   "metadata": {
    "tags": [],
    "sql_integration_id": "deepnote-dataframe-sql",
    "cell_id": "f324d2644b894fe5a246da3125d07a6a",
    "deepnote_to_be_reexecuted": false,
    "source_hash": "9e213752",
    "execution_start": 1660307027476,
    "execution_millis": 317,
    "deepnote_sql_source": "",
    "deepnote_cell_type": "sql",
    "deepnote_cell_height": 116
   },
   "source": "\n_deepnote_execute_sql(\"\"\"\n\"\"\", 'SQL_DEEPNOTE_DATAFRAME_SQL')",
   "execution_count": null,
   "outputs": []
  },
  {
   "cell_type": "markdown",
   "source": "### 2. Print the number of rows",
   "metadata": {
    "formattedRanges": [],
    "is_collapsed": false,
    "cell_id": "480b7673-4662-4c1b-8c09-f739afa133ab",
    "tags": [],
    "deepnote_cell_type": "text-cell-h3"
   }
  },
  {
   "cell_type": "code",
   "metadata": {
    "tags": [],
    "sql_integration_id": "deepnote-dataframe-sql",
    "cell_id": "59c324bb54ab4d42b20a80ca07d48600",
    "deepnote_sql_source": "",
    "deepnote_to_be_reexecuted": false,
    "source_hash": "9e213752",
    "execution_start": 1660307027799,
    "execution_millis": 5,
    "deepnote_cell_type": "sql",
    "deepnote_cell_height": 116
   },
   "source": "\n_deepnote_execute_sql(\"\"\"\n\"\"\", 'SQL_DEEPNOTE_DATAFRAME_SQL')",
   "execution_count": null,
   "outputs": []
  },
  {
   "cell_type": "markdown",
   "source": "### 3. Print the first five rows of the Company_Name and Employment_Status Column",
   "metadata": {
    "formattedRanges": [],
    "is_collapsed": false,
    "cell_id": "3540de6a6e5a4123b3d8fdaf973e79a7",
    "tags": [],
    "deepnote_cell_type": "text-cell-h3"
   }
  },
  {
   "cell_type": "code",
   "metadata": {
    "tags": [],
    "sql_integration_id": "deepnote-dataframe-sql",
    "cell_id": "d094a285bb414099a721e97b6a3eee11",
    "deepnote_sql_source": "",
    "deepnote_to_be_reexecuted": false,
    "source_hash": "9e213752",
    "execution_start": 1660307027806,
    "execution_millis": 8,
    "deepnote_cell_type": "sql",
    "deepnote_cell_height": 116
   },
   "source": "\n_deepnote_execute_sql(\"\"\"\n\"\"\", 'SQL_DEEPNOTE_DATAFRAME_SQL')",
   "execution_count": null,
   "outputs": []
  },
  {
   "cell_type": "markdown",
   "source": "### 4. Print the first five rows where the Employee_Rating > 4.5",
   "metadata": {
    "formattedRanges": [],
    "is_collapsed": false,
    "cell_id": "6dd1b242-f84d-4b96-b1b9-c7309c354173",
    "tags": [],
    "deepnote_cell_type": "text-cell-h3"
   }
  },
  {
   "cell_type": "code",
   "metadata": {
    "tags": [],
    "sql_integration_id": "deepnote-dataframe-sql",
    "cell_id": "86c4362d-fdf4-4285-9267-e65d2bca0b05",
    "deepnote_sql_source": "",
    "deepnote_to_be_reexecuted": false,
    "source_hash": "9e213752",
    "execution_start": 1660307027815,
    "execution_millis": 34,
    "deepnote_cell_type": "sql",
    "deepnote_cell_height": 116
   },
   "source": "\n_deepnote_execute_sql(\"\"\"\n\"\"\", 'SQL_DEEPNOTE_DATAFRAME_SQL')",
   "execution_count": null,
   "outputs": []
  },
  {
   "cell_type": "markdown",
   "source": "### 5. Print the number of rows having Employee_Salary > 600000",
   "metadata": {
    "formattedRanges": [],
    "is_collapsed": false,
    "cell_id": "ba32dc03-ce1b-4285-8b29-bc698c9798a4",
    "tags": [],
    "deepnote_cell_type": "text-cell-h3"
   }
  },
  {
   "cell_type": "code",
   "metadata": {
    "tags": [],
    "sql_integration_id": "deepnote-dataframe-sql",
    "cell_id": "da5830cd-f867-45d5-9e59-ac28901fd85a",
    "deepnote_sql_source": "",
    "deepnote_to_be_reexecuted": false,
    "source_hash": "9e213752",
    "execution_start": 1660307027849,
    "execution_millis": 1,
    "deepnote_cell_type": "sql",
    "deepnote_cell_height": 116
   },
   "source": "\n_deepnote_execute_sql(\"\"\"\n\"\"\", 'SQL_DEEPNOTE_DATAFRAME_SQL')",
   "execution_count": null,
   "outputs": []
  },
  {
   "cell_type": "markdown",
   "source": "### 6. Print the number of rows with Employee_Salary > 600000 and Employee_Rating > 4.5",
   "metadata": {
    "formattedRanges": [],
    "is_collapsed": false,
    "cell_id": "46785d73-9b1b-401e-8fbe-521f47da0193",
    "tags": [],
    "deepnote_cell_type": "text-cell-h3"
   }
  },
  {
   "cell_type": "code",
   "metadata": {
    "tags": [],
    "sql_integration_id": "deepnote-dataframe-sql",
    "cell_id": "8825d95c-93c9-40f6-bb89-f26bd6561527",
    "deepnote_sql_source": "",
    "deepnote_to_be_reexecuted": false,
    "source_hash": "9e213752",
    "execution_start": 1660307027850,
    "execution_millis": 0,
    "deepnote_cell_type": "sql",
    "deepnote_cell_height": 116
   },
   "source": "\n_deepnote_execute_sql(\"\"\"\n\"\"\", 'SQL_DEEPNOTE_DATAFRAME_SQL')",
   "execution_count": null,
   "outputs": []
  },
  {
   "cell_type": "markdown",
   "source": "### 7. Print the first five rows with Employee_Salary > 600000 and Employee_Rating > 4.5",
   "metadata": {
    "formattedRanges": [],
    "is_collapsed": false,
    "cell_id": "569f99f6-2366-49ab-9d4a-020fc1be93ae",
    "tags": [],
    "deepnote_cell_type": "text-cell-h3"
   }
  },
  {
   "cell_type": "code",
   "metadata": {
    "tags": [],
    "sql_integration_id": "deepnote-dataframe-sql",
    "cell_id": "94bb9dfe-6ae7-4874-ba63-99f8ba912f8d",
    "deepnote_sql_source": "",
    "deepnote_to_be_reexecuted": false,
    "source_hash": "9e213752",
    "execution_start": 1660307027850,
    "execution_millis": 0,
    "deepnote_cell_type": "sql",
    "deepnote_cell_height": 116
   },
   "source": "\n_deepnote_execute_sql(\"\"\"\n\"\"\", 'SQL_DEEPNOTE_DATAFRAME_SQL')",
   "execution_count": null,
   "outputs": []
  },
  {
   "cell_type": "markdown",
   "source": "### 8. Print all the distinct companies in the dataset ",
   "metadata": {
    "formattedRanges": [],
    "is_collapsed": false,
    "cell_id": "5f7253d2-5fb8-40dd-a36d-4d7655168985",
    "tags": [],
    "deepnote_cell_type": "text-cell-h3"
   }
  },
  {
   "cell_type": "code",
   "metadata": {
    "tags": [],
    "sql_integration_id": "deepnote-dataframe-sql",
    "cell_id": "cb20a5c5-8940-4d56-963b-39135b9acac5",
    "deepnote_sql_source": "",
    "deepnote_to_be_reexecuted": false,
    "source_hash": "9e213752",
    "execution_start": 1660307027853,
    "deepnote_cell_type": "sql",
    "deepnote_cell_height": 116
   },
   "source": "\n_deepnote_execute_sql(\"\"\"\n\"\"\", 'SQL_DEEPNOTE_DATAFRAME_SQL')",
   "execution_count": null,
   "outputs": []
  },
  {
   "cell_type": "markdown",
   "source": "### 9. Print the number of distinct companies in the dataset ",
   "metadata": {
    "formattedRanges": [],
    "is_collapsed": false,
    "cell_id": "40387b50-5e0b-4d33-92b4-b6d42be90f4f",
    "tags": [],
    "deepnote_cell_type": "text-cell-h3"
   }
  },
  {
   "cell_type": "code",
   "metadata": {
    "tags": [],
    "sql_integration_id": "deepnote-dataframe-sql",
    "cell_id": "95e05c1a-b2fd-43b1-8af5-ebfa56dce6c0",
    "deepnote_sql_source": "",
    "deepnote_to_be_reexecuted": false,
    "source_hash": "9e213752",
    "execution_start": 1660307027889,
    "deepnote_cell_type": "sql",
    "deepnote_cell_height": 116
   },
   "source": "\n_deepnote_execute_sql(\"\"\"\n\"\"\", 'SQL_DEEPNOTE_DATAFRAME_SQL')",
   "execution_count": null,
   "outputs": []
  },
  {
   "cell_type": "markdown",
   "source": "### 10. Print all the distinct companies, city pairs in the dataset ",
   "metadata": {
    "formattedRanges": [],
    "is_collapsed": false,
    "cell_id": "19337091-1e5c-41d5-8a2c-b82bce1337d3",
    "tags": [],
    "deepnote_cell_type": "text-cell-h3"
   }
  },
  {
   "cell_type": "code",
   "metadata": {
    "tags": [],
    "sql_integration_id": "deepnote-dataframe-sql",
    "cell_id": "993a78eb-b924-4c3a-adf5-e23fe90ae976",
    "deepnote_sql_source": "",
    "deepnote_to_be_reexecuted": false,
    "source_hash": "9e213752",
    "execution_start": 1660307027889,
    "execution_millis": 0,
    "deepnote_cell_type": "sql",
    "deepnote_cell_height": 116
   },
   "source": "\n_deepnote_execute_sql(\"\"\"\n\"\"\", 'SQL_DEEPNOTE_DATAFRAME_SQL')",
   "execution_count": null,
   "outputs": []
  },
  {
   "cell_type": "markdown",
   "source": "### 11. Print the number of distinct companies, city pairs in the dataset ",
   "metadata": {
    "formattedRanges": [],
    "is_collapsed": false,
    "cell_id": "d01f236b-2a2e-4e07-965e-2d8296cc6543",
    "tags": [],
    "deepnote_cell_type": "text-cell-h3"
   }
  },
  {
   "cell_type": "code",
   "metadata": {
    "tags": [],
    "sql_integration_id": "deepnote-dataframe-sql",
    "cell_id": "5ecd4c4d-b630-446d-a5d5-e326e9050bc6",
    "deepnote_sql_source": "",
    "deepnote_to_be_reexecuted": false,
    "source_hash": "9e213752",
    "execution_start": 1660307027890,
    "deepnote_cell_type": "sql",
    "deepnote_cell_height": 116
   },
   "source": "\n_deepnote_execute_sql(\"\"\"\n\"\"\", 'SQL_DEEPNOTE_DATAFRAME_SQL')",
   "execution_count": null,
   "outputs": []
  },
  {
   "cell_type": "markdown",
   "source": "### 12. Print the number of Full time employees in the dataset. ",
   "metadata": {
    "formattedRanges": [],
    "is_collapsed": false,
    "cell_id": "7a768c90-f05e-4af5-800c-89555fefe1a4",
    "tags": [],
    "deepnote_cell_type": "text-cell-h3"
   }
  },
  {
   "cell_type": "code",
   "metadata": {
    "tags": [],
    "sql_integration_id": "deepnote-dataframe-sql",
    "cell_id": "8fb5fdc2-07e8-47be-8f08-3e1571cda30f",
    "deepnote_sql_source": "",
    "deepnote_to_be_reexecuted": false,
    "source_hash": "9e213752",
    "execution_start": 1660307027891,
    "deepnote_cell_type": "sql",
    "deepnote_cell_height": 116
   },
   "source": "\n_deepnote_execute_sql(\"\"\"\n\"\"\", 'SQL_DEEPNOTE_DATAFRAME_SQL')",
   "execution_count": null,
   "outputs": []
  },
  {
   "cell_type": "markdown",
   "source": "### 13. Print the number of employees with job title either 'Production engineer' or 'New Russellton'. ",
   "metadata": {
    "formattedRanges": [],
    "is_collapsed": false,
    "cell_id": "a124687d-1916-4720-84f6-9c9c0679590a",
    "tags": [],
    "deepnote_cell_type": "text-cell-h3"
   }
  },
  {
   "cell_type": "code",
   "metadata": {
    "tags": [],
    "sql_integration_id": "deepnote-dataframe-sql",
    "cell_id": "ab1630c7-0a95-4c64-bb81-1df64026edc9",
    "deepnote_sql_source": "",
    "deepnote_to_be_reexecuted": false,
    "source_hash": "9e213752",
    "execution_start": 1660307027919,
    "deepnote_cell_type": "sql",
    "deepnote_cell_height": 116
   },
   "source": "\n_deepnote_execute_sql(\"\"\"\n\"\"\", 'SQL_DEEPNOTE_DATAFRAME_SQL')",
   "execution_count": null,
   "outputs": []
  },
  {
   "cell_type": "markdown",
   "source": "### 14. Print the number of employees with job title either 'Production engineer' and company name 'Scott Inc'",
   "metadata": {
    "formattedRanges": [],
    "is_collapsed": false,
    "cell_id": "c143a7d8-e467-47b6-86f6-deb18e09357b",
    "tags": [],
    "deepnote_cell_type": "text-cell-h3"
   }
  },
  {
   "cell_type": "code",
   "metadata": {
    "tags": [],
    "sql_integration_id": "deepnote-dataframe-sql",
    "cell_id": "963249c9-4626-4b95-94c1-542c1a535ff5",
    "deepnote_sql_source": "",
    "deepnote_to_be_reexecuted": false,
    "source_hash": "9e213752",
    "execution_start": 1660307027920,
    "deepnote_cell_type": "sql",
    "deepnote_cell_height": 116
   },
   "source": "\n_deepnote_execute_sql(\"\"\"\n\"\"\", 'SQL_DEEPNOTE_DATAFRAME_SQL')",
   "execution_count": null,
   "outputs": []
  },
  {
   "cell_type": "markdown",
   "source": "### 15. Print the number of employees with job title either 'Production engineer' or 'New Russellton' and company name either 'Scott Inc' or 'Baker, Allen and Edwards'. ",
   "metadata": {
    "formattedRanges": [],
    "is_collapsed": false,
    "cell_id": "c01b7d95-3c2f-4832-aa60-121254404191",
    "tags": [],
    "deepnote_cell_type": "text-cell-h3"
   }
  },
  {
   "cell_type": "code",
   "metadata": {
    "tags": [],
    "sql_integration_id": "deepnote-dataframe-sql",
    "cell_id": "fae2ac0b-bf9e-475b-a75e-b364697c8361",
    "deepnote_sql_source": "",
    "deepnote_to_be_reexecuted": false,
    "source_hash": "9e213752",
    "execution_start": 1660307027920,
    "deepnote_cell_type": "sql",
    "deepnote_cell_height": 116
   },
   "source": "\n_deepnote_execute_sql(\"\"\"\n\"\"\", 'SQL_DEEPNOTE_DATAFRAME_SQL')",
   "execution_count": null,
   "outputs": []
  },
  {
   "cell_type": "markdown",
   "source": "### 16. Print the number of distinct cities with employees having job title either 'Production engineer' or 'New Russellton' and company name either 'Scott Inc' or 'Baker, Allen and Edwards'. ",
   "metadata": {
    "formattedRanges": [],
    "is_collapsed": false,
    "cell_id": "ede9d63a-a65a-4ec6-ad87-a3d2b76329e3",
    "tags": [],
    "deepnote_cell_type": "text-cell-h3"
   }
  },
  {
   "cell_type": "code",
   "metadata": {
    "tags": [],
    "sql_integration_id": "deepnote-dataframe-sql",
    "cell_id": "f6a5356e-3129-41f4-b537-103685f002c8",
    "deepnote_sql_source": "",
    "deepnote_to_be_reexecuted": false,
    "source_hash": "9e213752",
    "execution_start": 1660307027921,
    "deepnote_cell_type": "sql",
    "deepnote_cell_height": 116
   },
   "source": "\n_deepnote_execute_sql(\"\"\"\n\"\"\", 'SQL_DEEPNOTE_DATAFRAME_SQL')",
   "execution_count": null,
   "outputs": []
  },
  {
   "cell_type": "markdown",
   "source": "### 17. Print the number of Intern employees in the dataset. ",
   "metadata": {
    "formattedRanges": [],
    "is_collapsed": false,
    "cell_id": "a114c8d3-ef58-4b1e-a7d5-154e710f8b3d",
    "tags": [],
    "deepnote_cell_type": "text-cell-h3"
   }
  },
  {
   "cell_type": "code",
   "metadata": {
    "tags": [],
    "sql_integration_id": "deepnote-dataframe-sql",
    "cell_id": "82a91f3c-be16-4cd2-b4ee-eb4f2326aeae",
    "deepnote_to_be_reexecuted": false,
    "source_hash": "9e213752",
    "execution_start": 1660307027930,
    "execution_millis": 8,
    "deepnote_sql_source": "",
    "deepnote_cell_type": "sql",
    "deepnote_cell_height": 116
   },
   "source": "\n_deepnote_execute_sql(\"\"\"\n\"\"\", 'SQL_DEEPNOTE_DATAFRAME_SQL')",
   "execution_count": null,
   "outputs": []
  },
  {
   "cell_type": "markdown",
   "source": "### 18. Print the number of employees with first name 'Matthew'. ",
   "metadata": {
    "formattedRanges": [],
    "is_collapsed": false,
    "cell_id": "d577781c-46ed-4fad-bf12-1291d8e4d86c",
    "tags": [],
    "deepnote_cell_type": "text-cell-h3"
   }
  },
  {
   "cell_type": "code",
   "metadata": {
    "tags": [],
    "sql_integration_id": "deepnote-dataframe-sql",
    "cell_id": "1de657fe-0f4e-4714-a155-0f34c486cdb3",
    "deepnote_sql_source": "",
    "deepnote_to_be_reexecuted": false,
    "source_hash": "9e213752",
    "execution_start": 1660307027942,
    "execution_millis": 4,
    "deepnote_cell_type": "sql",
    "deepnote_cell_height": 116
   },
   "source": "\n_deepnote_execute_sql(\"\"\"\n\"\"\", 'SQL_DEEPNOTE_DATAFRAME_SQL')",
   "execution_count": null,
   "outputs": []
  },
  {
   "cell_type": "markdown",
   "source": "### 19. Print the first five rows corresponding to the employees with highest salary",
   "metadata": {
    "formattedRanges": [],
    "is_collapsed": false,
    "cell_id": "9d79067c-bb0c-4e5b-9df8-a3d1ff10d891",
    "tags": [],
    "deepnote_cell_type": "text-cell-h3"
   }
  },
  {
   "cell_type": "code",
   "metadata": {
    "tags": [],
    "sql_integration_id": "deepnote-dataframe-sql",
    "cell_id": "0d9eeac5-f1f6-4e17-ab01-963f170960a8",
    "deepnote_sql_source": "",
    "deepnote_to_be_reexecuted": false,
    "source_hash": "9e213752",
    "execution_start": 1660307027950,
    "execution_millis": 3,
    "deepnote_cell_type": "sql",
    "deepnote_cell_height": 116
   },
   "source": "\n_deepnote_execute_sql(\"\"\"\n\"\"\", 'SQL_DEEPNOTE_DATAFRAME_SQL')",
   "execution_count": null,
   "outputs": []
  },
  {
   "cell_type": "markdown",
   "source": "### 20. Print the first five rows corresponding to the employees with the highest salary in 'James and Sons' company",
   "metadata": {
    "formattedRanges": [],
    "is_collapsed": false,
    "cell_id": "c995a0c3-9f9c-4116-bd20-709ef9a81e56",
    "tags": [],
    "deepnote_cell_type": "text-cell-h3"
   }
  },
  {
   "cell_type": "code",
   "metadata": {
    "tags": [],
    "sql_integration_id": "deepnote-dataframe-sql",
    "cell_id": "526fcb17-cb52-4cac-b0c5-d8141c8dd255",
    "deepnote_sql_source": "",
    "deepnote_to_be_reexecuted": false,
    "source_hash": "9e213752",
    "execution_start": 1660307028007,
    "execution_millis": 1,
    "deepnote_cell_type": "sql",
    "deepnote_cell_height": 116
   },
   "source": "\n_deepnote_execute_sql(\"\"\"\n\"\"\", 'SQL_DEEPNOTE_DATAFRAME_SQL')",
   "execution_count": null,
   "outputs": []
  },
  {
   "cell_type": "markdown",
   "source": "### 21. Print the first five rows corresponding to the employees with the highest salary working either in 'James and Sons' company or living in 'Wardfort' city",
   "metadata": {
    "formattedRanges": [],
    "is_collapsed": false,
    "cell_id": "bd6cc01d-d507-474d-bb37-b8f8c72e406b",
    "tags": [],
    "deepnote_cell_type": "text-cell-h3"
   }
  },
  {
   "cell_type": "code",
   "metadata": {
    "tags": [],
    "sql_integration_id": "deepnote-dataframe-sql",
    "cell_id": "28d8ed10-c54f-4e79-8e17-ebe4885cda91",
    "deepnote_sql_source": "",
    "deepnote_to_be_reexecuted": false,
    "source_hash": "9e213752",
    "execution_start": 1660307028008,
    "execution_millis": 0,
    "deepnote_cell_type": "sql",
    "deepnote_cell_height": 116
   },
   "source": "\n_deepnote_execute_sql(\"\"\"\n\"\"\", 'SQL_DEEPNOTE_DATAFRAME_SQL')",
   "execution_count": null,
   "outputs": []
  },
  {
   "cell_type": "markdown",
   "source": "### 22. Print the total number of distinct records in the data. ",
   "metadata": {
    "formattedRanges": [],
    "is_collapsed": false,
    "cell_id": "2ca43b80-16a9-475d-9fd0-80f4bec3cec3",
    "tags": [],
    "deepnote_cell_type": "text-cell-h3"
   }
  },
  {
   "cell_type": "code",
   "metadata": {
    "tags": [],
    "sql_integration_id": "deepnote-dataframe-sql",
    "cell_id": "b932bf42-a2d9-40e4-8614-09948249d47c",
    "deepnote_sql_source": "",
    "deepnote_to_be_reexecuted": false,
    "source_hash": "9e213752",
    "execution_start": 1660307028009,
    "execution_millis": 0,
    "deepnote_cell_type": "sql",
    "deepnote_cell_height": 116
   },
   "source": "\n_deepnote_execute_sql(\"\"\"\n\"\"\", 'SQL_DEEPNOTE_DATAFRAME_SQL')",
   "execution_count": null,
   "outputs": []
  },
  {
   "cell_type": "markdown",
   "source": "### 23. Print the mean salary of all the employees in the data",
   "metadata": {
    "formattedRanges": [],
    "is_collapsed": false,
    "cell_id": "390b5bb7-8326-478b-b285-168321405686",
    "tags": [],
    "deepnote_cell_type": "text-cell-h3"
   }
  },
  {
   "cell_type": "code",
   "metadata": {
    "tags": [],
    "sql_integration_id": "deepnote-dataframe-sql",
    "cell_id": "872112ea3c7e48b5ba3d6b6078ae4dd4",
    "deepnote_sql_source": "",
    "deepnote_to_be_reexecuted": false,
    "source_hash": "9e213752",
    "execution_start": 1660307028041,
    "execution_millis": 0,
    "deepnote_cell_type": "sql",
    "deepnote_cell_height": 116
   },
   "source": "\n_deepnote_execute_sql(\"\"\"\n\"\"\", 'SQL_DEEPNOTE_DATAFRAME_SQL')",
   "execution_count": null,
   "outputs": []
  },
  {
   "cell_type": "markdown",
   "source": "### 24. Print the mean rating of all the employees in the data",
   "metadata": {
    "formattedRanges": [],
    "is_collapsed": false,
    "cell_id": "a60da4b58aa94240bfa28fe6b51496ff",
    "tags": [],
    "deepnote_cell_type": "text-cell-h3"
   }
  },
  {
   "cell_type": "code",
   "metadata": {
    "tags": [],
    "sql_integration_id": "deepnote-dataframe-sql",
    "cell_id": "672c8f3743ed46548f1867e58610cfa2",
    "deepnote_sql_source": "",
    "deepnote_to_be_reexecuted": false,
    "source_hash": "9e213752",
    "execution_start": 1660307028042,
    "execution_millis": 0,
    "deepnote_cell_type": "sql",
    "deepnote_cell_height": 116
   },
   "source": "\n_deepnote_execute_sql(\"\"\"\n\"\"\", 'SQL_DEEPNOTE_DATAFRAME_SQL')",
   "execution_count": null,
   "outputs": []
  },
  {
   "cell_type": "markdown",
   "source": "### 25-27. Print the maximum, minimum and median Employee_Salary.",
   "metadata": {
    "formattedRanges": [],
    "is_collapsed": false,
    "cell_id": "b381cdba-1ca2-4616-9ad1-876b963524d0",
    "tags": [],
    "deepnote_cell_type": "text-cell-h3"
   }
  },
  {
   "cell_type": "code",
   "metadata": {
    "tags": [],
    "sql_integration_id": "deepnote-dataframe-sql",
    "cell_id": "5be53975-d03a-44a8-ae1c-f6d392503ce8",
    "deepnote_sql_source": "",
    "deepnote_to_be_reexecuted": false,
    "source_hash": "9e213752",
    "execution_start": 1660307028042,
    "execution_millis": 1,
    "deepnote_cell_type": "sql",
    "deepnote_cell_height": 116
   },
   "source": "\n_deepnote_execute_sql(\"\"\"\n\"\"\", 'SQL_DEEPNOTE_DATAFRAME_SQL')",
   "execution_count": null,
   "outputs": []
  },
  {
   "cell_type": "markdown",
   "source": "### 28-32. Print the distribution of the following columns: (the frequency of individual entries).",
   "metadata": {
    "formattedRanges": [],
    "is_collapsed": false,
    "cell_id": "838a512c-eeb2-48e3-9060-e0e820933b5d",
    "tags": [],
    "deepnote_cell_type": "text-cell-h3"
   }
  },
  {
   "cell_type": "markdown",
   "source": "1. Company_Name",
   "metadata": {
    "formattedRanges": [],
    "is_collapsed": false,
    "cell_id": "726d01ea-1e92-4ba1-bb8d-14c136b3feb2",
    "tags": [],
    "deepnote_cell_type": "text-cell-p"
   }
  },
  {
   "cell_type": "code",
   "metadata": {
    "tags": [],
    "sql_integration_id": "deepnote-dataframe-sql",
    "cell_id": "1ed21615-0068-49cc-a385-13cc10f14981",
    "deepnote_sql_source": "",
    "deepnote_to_be_reexecuted": false,
    "source_hash": "9e213752",
    "execution_start": 1660307028044,
    "deepnote_cell_type": "sql",
    "deepnote_cell_height": 116
   },
   "source": "\n_deepnote_execute_sql(\"\"\"\n\"\"\", 'SQL_DEEPNOTE_DATAFRAME_SQL')",
   "execution_count": null,
   "outputs": []
  },
  {
   "cell_type": "markdown",
   "source": "2. Employee_Job_Title",
   "metadata": {
    "formattedRanges": [],
    "is_collapsed": false,
    "cell_id": "a8b3adee-2721-434f-9c1d-a938ec1cc92a",
    "tags": [],
    "deepnote_cell_type": "text-cell-p"
   }
  },
  {
   "cell_type": "code",
   "metadata": {
    "tags": [],
    "sql_integration_id": "deepnote-dataframe-sql",
    "cell_id": "75a8cf04-3a90-4adb-ad83-8defe86b2c9a",
    "deepnote_sql_source": "",
    "deepnote_to_be_reexecuted": false,
    "source_hash": "9e213752",
    "execution_start": 1660307028049,
    "deepnote_cell_type": "sql",
    "deepnote_cell_height": 116
   },
   "source": "\n_deepnote_execute_sql(\"\"\"\n\"\"\", 'SQL_DEEPNOTE_DATAFRAME_SQL')",
   "execution_count": null,
   "outputs": []
  },
  {
   "cell_type": "markdown",
   "source": "3. Employee_City",
   "metadata": {
    "formattedRanges": [],
    "is_collapsed": false,
    "cell_id": "754c1736-868b-4b98-ae36-a0463d8a3b49",
    "tags": [],
    "deepnote_cell_type": "text-cell-p"
   }
  },
  {
   "cell_type": "code",
   "metadata": {
    "tags": [],
    "sql_integration_id": "deepnote-dataframe-sql",
    "cell_id": "c6b3ddd4-661e-45b0-8739-0d1b4e3e6dc4",
    "deepnote_sql_source": "",
    "deepnote_to_be_reexecuted": false,
    "source_hash": "9e213752",
    "execution_start": 1660307028100,
    "execution_millis": 1,
    "deepnote_cell_type": "sql",
    "deepnote_cell_height": 116
   },
   "source": "\n_deepnote_execute_sql(\"\"\"\n\"\"\", 'SQL_DEEPNOTE_DATAFRAME_SQL')",
   "execution_count": null,
   "outputs": []
  },
  {
   "cell_type": "markdown",
   "source": "4. Employee_Country",
   "metadata": {
    "formattedRanges": [],
    "is_collapsed": false,
    "cell_id": "338bef93-0545-481a-8878-49b8a13a56c5",
    "tags": [],
    "deepnote_cell_type": "text-cell-p"
   }
  },
  {
   "cell_type": "code",
   "metadata": {
    "tags": [],
    "sql_integration_id": "deepnote-dataframe-sql",
    "cell_id": "d8bb6ee5-af4e-4bd3-a05f-faf616c86dda",
    "deepnote_sql_source": "",
    "deepnote_to_be_reexecuted": false,
    "source_hash": "9e213752",
    "execution_start": 1660307028101,
    "execution_millis": 0,
    "deepnote_cell_type": "sql",
    "deepnote_cell_height": 116
   },
   "source": "\n_deepnote_execute_sql(\"\"\"\n\"\"\", 'SQL_DEEPNOTE_DATAFRAME_SQL')",
   "execution_count": null,
   "outputs": []
  },
  {
   "cell_type": "markdown",
   "source": "5. Employment_Status",
   "metadata": {
    "formattedRanges": [],
    "is_collapsed": false,
    "cell_id": "2f7d3d38-8b1a-4179-919e-d192fdcab705",
    "tags": [],
    "deepnote_cell_type": "text-cell-p"
   }
  },
  {
   "cell_type": "code",
   "metadata": {
    "tags": [],
    "sql_integration_id": "deepnote-dataframe-sql",
    "cell_id": "32f56cfd-1414-4032-b55a-36336723893e",
    "deepnote_sql_source": "",
    "deepnote_to_be_reexecuted": false,
    "source_hash": "9e213752",
    "execution_start": 1660307028102,
    "execution_millis": 0,
    "deepnote_cell_type": "sql",
    "deepnote_cell_height": 116
   },
   "source": "\n_deepnote_execute_sql(\"\"\"\n\"\"\", 'SQL_DEEPNOTE_DATAFRAME_SQL')",
   "execution_count": null,
   "outputs": []
  },
  {
   "cell_type": "markdown",
   "source": "### 33. Print the company with the most number of employees.",
   "metadata": {
    "formattedRanges": [],
    "is_collapsed": false,
    "cell_id": "fa49ff38-8d03-4acd-ad0f-c531e31069f9",
    "tags": [],
    "deepnote_cell_type": "text-cell-h3"
   }
  },
  {
   "cell_type": "code",
   "metadata": {
    "tags": [],
    "sql_integration_id": "deepnote-dataframe-sql",
    "cell_id": "384669b8-34e3-46a1-babb-99bc88d0ac17",
    "deepnote_sql_source": "",
    "deepnote_to_be_reexecuted": false,
    "source_hash": "9e213752",
    "execution_start": 1660307028102,
    "execution_millis": 1,
    "deepnote_cell_type": "sql",
    "deepnote_cell_height": 116
   },
   "source": "\n_deepnote_execute_sql(\"\"\"\n\"\"\", 'SQL_DEEPNOTE_DATAFRAME_SQL')",
   "execution_count": null,
   "outputs": []
  },
  {
   "cell_type": "markdown",
   "source": "### 34. Print the number of employees in the above company. ",
   "metadata": {
    "formattedRanges": [],
    "is_collapsed": false,
    "cell_id": "18b958c1-567e-4bde-93ef-a95a5280626e",
    "tags": [],
    "deepnote_cell_type": "text-cell-h3"
   }
  },
  {
   "cell_type": "code",
   "metadata": {
    "tags": [],
    "sql_integration_id": "deepnote-dataframe-sql",
    "cell_id": "6d8a283f-b13d-4b66-bf7e-37b8551a12dc",
    "deepnote_sql_source": "",
    "deepnote_to_be_reexecuted": false,
    "source_hash": "9e213752",
    "execution_start": 1660307028105,
    "execution_millis": 12,
    "deepnote_cell_type": "sql",
    "deepnote_cell_height": 116
   },
   "source": "\n_deepnote_execute_sql(\"\"\"\n\"\"\", 'SQL_DEEPNOTE_DATAFRAME_SQL')",
   "execution_count": null,
   "outputs": []
  },
  {
   "cell_type": "markdown",
   "source": "### 35. Print the company with the least number of employees.",
   "metadata": {
    "formattedRanges": [],
    "is_collapsed": false,
    "cell_id": "4cae977632ac46bfbc6c618de1c24274",
    "tags": [],
    "deepnote_cell_type": "text-cell-h3"
   }
  },
  {
   "cell_type": "code",
   "metadata": {
    "tags": [],
    "sql_integration_id": "deepnote-dataframe-sql",
    "cell_id": "775239745ef0400eaae834e1838a7a0b",
    "deepnote_sql_source": "",
    "deepnote_to_be_reexecuted": false,
    "source_hash": "9e213752",
    "execution_start": 1660307028127,
    "execution_millis": 8,
    "deepnote_cell_type": "sql",
    "deepnote_cell_height": 116
   },
   "source": "\n_deepnote_execute_sql(\"\"\"\n\"\"\", 'SQL_DEEPNOTE_DATAFRAME_SQL')",
   "execution_count": null,
   "outputs": []
  },
  {
   "cell_type": "markdown",
   "source": "### 36. Print the number of employees in the above company. ",
   "metadata": {
    "formattedRanges": [],
    "is_collapsed": false,
    "cell_id": "5ee7fc3cb6e640b5bf661be5b43445d5",
    "tags": [],
    "deepnote_cell_type": "text-cell-h3"
   }
  },
  {
   "cell_type": "code",
   "metadata": {
    "tags": [],
    "sql_integration_id": "deepnote-dataframe-sql",
    "cell_id": "042578439b80434487114d4a8254aa81",
    "deepnote_sql_source": "",
    "deepnote_to_be_reexecuted": false,
    "source_hash": "9e213752",
    "execution_start": 1660307028139,
    "execution_millis": 10,
    "deepnote_cell_type": "sql",
    "deepnote_cell_height": 116
   },
   "source": "\n_deepnote_execute_sql(\"\"\"\n\"\"\", 'SQL_DEEPNOTE_DATAFRAME_SQL')",
   "execution_count": null,
   "outputs": []
  },
  {
   "cell_type": "markdown",
   "source": "### 37. Print the employee details with the maximum salary",
   "metadata": {
    "formattedRanges": [],
    "is_collapsed": false,
    "cell_id": "9aad9512-45e0-4761-8d1f-80f9f515a0af",
    "tags": [],
    "deepnote_cell_type": "text-cell-h3"
   }
  },
  {
   "cell_type": "code",
   "metadata": {
    "tags": [],
    "sql_integration_id": "deepnote-dataframe-sql",
    "cell_id": "04800740-3dc1-4447-811f-1be3c80ec9ba",
    "deepnote_sql_source": "",
    "deepnote_to_be_reexecuted": false,
    "source_hash": "9e213752",
    "execution_start": 1660307028162,
    "execution_millis": 10,
    "deepnote_cell_type": "sql",
    "deepnote_cell_height": 116
   },
   "source": "\n_deepnote_execute_sql(\"\"\"\n\"\"\", 'SQL_DEEPNOTE_DATAFRAME_SQL')",
   "execution_count": null,
   "outputs": []
  },
  {
   "cell_type": "markdown",
   "source": "### 38. Print the employee details with the maximum rating",
   "metadata": {
    "formattedRanges": [],
    "is_collapsed": false,
    "cell_id": "2f88dda8-fb3d-4cf4-a777-56bf0abcd836",
    "tags": [],
    "deepnote_cell_type": "text-cell-h3"
   }
  },
  {
   "cell_type": "code",
   "metadata": {
    "tags": [],
    "sql_integration_id": "deepnote-dataframe-sql",
    "cell_id": "da547c42-de4d-4178-ae47-307f78c81b43",
    "deepnote_sql_source": "",
    "deepnote_to_be_reexecuted": false,
    "source_hash": "9e213752",
    "execution_start": 1660307028177,
    "deepnote_cell_type": "sql",
    "deepnote_cell_height": 116
   },
   "source": "\n_deepnote_execute_sql(\"\"\"\n\"\"\", 'SQL_DEEPNOTE_DATAFRAME_SQL')",
   "execution_count": null,
   "outputs": []
  },
  {
   "cell_type": "markdown",
   "source": "### 39. Print the Company_Name with most number of employees in 'Wardfort' city.",
   "metadata": {
    "formattedRanges": [],
    "is_collapsed": false,
    "cell_id": "a919933f8e8e41d0a1a8f7d7ed07a73e",
    "tags": [],
    "deepnote_cell_type": "text-cell-h3"
   }
  },
  {
   "cell_type": "code",
   "metadata": {
    "tags": [],
    "sql_integration_id": "deepnote-dataframe-sql",
    "cell_id": "db48d2be079d4b61b7aa8ab349fc6820",
    "deepnote_sql_source": "",
    "deepnote_to_be_reexecuted": false,
    "source_hash": "9e213752",
    "execution_start": 1660307028220,
    "execution_millis": 0,
    "deepnote_cell_type": "sql",
    "deepnote_cell_height": 116
   },
   "source": "\n_deepnote_execute_sql(\"\"\"\n\"\"\", 'SQL_DEEPNOTE_DATAFRAME_SQL')",
   "execution_count": null,
   "outputs": []
  },
  {
   "cell_type": "markdown",
   "source": "### 40. Print 'Employee_Salary' column as string.",
   "metadata": {
    "formattedRanges": [],
    "is_collapsed": false,
    "cell_id": "e5502f97303148e5a8df01582092761b",
    "tags": [],
    "deepnote_cell_type": "text-cell-h3"
   }
  },
  {
   "cell_type": "code",
   "metadata": {
    "tags": [],
    "sql_integration_id": "deepnote-dataframe-sql",
    "cell_id": "cc0bd8e843db4d3a97c07c1439d41a64",
    "deepnote_sql_source": "",
    "deepnote_to_be_reexecuted": false,
    "source_hash": "9e213752",
    "execution_start": 1660307028220,
    "execution_millis": 1,
    "deepnote_cell_type": "sql",
    "deepnote_cell_height": 116
   },
   "source": "\n_deepnote_execute_sql(\"\"\"\n\"\"\", 'SQL_DEEPNOTE_DATAFRAME_SQL')",
   "execution_count": null,
   "outputs": []
  },
  {
   "cell_type": "markdown",
   "source": "### 41. Print the Employee_City with the most number of 'Production engineer'.",
   "metadata": {
    "formattedRanges": [],
    "is_collapsed": false,
    "cell_id": "87c3a49dffb54b3293b802957362b023",
    "tags": [],
    "deepnote_cell_type": "text-cell-h3"
   }
  },
  {
   "cell_type": "code",
   "metadata": {
    "tags": [],
    "sql_integration_id": "deepnote-dataframe-sql",
    "cell_id": "606d87e7f8cd4935ba86852515de49b8",
    "deepnote_sql_source": "",
    "deepnote_to_be_reexecuted": false,
    "source_hash": "9e213752",
    "execution_start": 1660307028221,
    "execution_millis": 0,
    "deepnote_cell_type": "sql",
    "deepnote_cell_height": 116
   },
   "source": "\n_deepnote_execute_sql(\"\"\"\n\"\"\", 'SQL_DEEPNOTE_DATAFRAME_SQL')",
   "execution_count": null,
   "outputs": []
  },
  {
   "cell_type": "markdown",
   "source": "### 42. Print the Company_Name with the most number of Full-time Employees. ",
   "metadata": {
    "formattedRanges": [],
    "is_collapsed": false,
    "cell_id": "44b8e292-a650-4f10-898b-2007d48c4ad3",
    "tags": [],
    "deepnote_cell_type": "text-cell-h3"
   }
  },
  {
   "cell_type": "code",
   "metadata": {
    "tags": [],
    "sql_integration_id": "deepnote-dataframe-sql",
    "cell_id": "1507ffaf-a268-438f-a915-dfe6b041f502",
    "deepnote_sql_source": "",
    "deepnote_to_be_reexecuted": false,
    "source_hash": "9e213752",
    "execution_start": 1660307028221,
    "execution_millis": 5,
    "deepnote_cell_type": "sql",
    "deepnote_cell_height": 116
   },
   "source": "\n_deepnote_execute_sql(\"\"\"\n\"\"\", 'SQL_DEEPNOTE_DATAFRAME_SQL')",
   "execution_count": null,
   "outputs": []
  },
  {
   "cell_type": "markdown",
   "source": "### 43. Print the Company_Name with the highest average 'Employee_Rating'. ",
   "metadata": {
    "formattedRanges": [],
    "is_collapsed": false,
    "cell_id": "21de669a1ab844ffb1d26670f6f161ea",
    "tags": [],
    "deepnote_cell_type": "text-cell-h3"
   }
  },
  {
   "cell_type": "code",
   "metadata": {
    "tags": [],
    "sql_integration_id": "deepnote-dataframe-sql",
    "cell_id": "efedda95-a5a3-4ff5-ace4-aa24c03128a6",
    "deepnote_sql_source": "",
    "deepnote_to_be_reexecuted": false,
    "source_hash": "9e213752",
    "execution_start": 1660307028230,
    "execution_millis": 2,
    "deepnote_cell_type": "sql",
    "deepnote_cell_height": 116
   },
   "source": "\n_deepnote_execute_sql(\"\"\"\n\"\"\", 'SQL_DEEPNOTE_DATAFRAME_SQL')",
   "execution_count": null,
   "outputs": []
  },
  {
   "cell_type": "markdown",
   "source": "### 44. Print the number of employees working in 'Ricardomouth' and 'Kristaburgh' location combined.",
   "metadata": {
    "formattedRanges": [],
    "is_collapsed": false,
    "cell_id": "38839f51-0fa9-44c9-b0b4-92977e87f00a",
    "tags": [],
    "deepnote_cell_type": "text-cell-h3"
   }
  },
  {
   "cell_type": "code",
   "metadata": {
    "tags": [],
    "sql_integration_id": "deepnote-dataframe-sql",
    "cell_id": "676d2667-cf20-4860-9983-ff8383a6544b",
    "deepnote_sql_source": "",
    "deepnote_to_be_reexecuted": false,
    "source_hash": "9e213752",
    "execution_start": 1660307028273,
    "execution_millis": 0,
    "deepnote_cell_type": "sql",
    "deepnote_cell_height": 116
   },
   "source": "\n_deepnote_execute_sql(\"\"\"\n\"\"\", 'SQL_DEEPNOTE_DATAFRAME_SQL')",
   "execution_count": null,
   "outputs": []
  },
  {
   "cell_type": "markdown",
   "source": "### 45. Print the distinct Company_Name corresponding to the 5 highest paid employees in the dataset. ",
   "metadata": {
    "formattedRanges": [],
    "is_collapsed": false,
    "cell_id": "18d947b8799f431aaeb4d1a6391191c0",
    "tags": [],
    "deepnote_cell_type": "text-cell-h3"
   }
  },
  {
   "cell_type": "code",
   "metadata": {
    "tags": [],
    "sql_integration_id": "deepnote-dataframe-sql",
    "cell_id": "95be06f3-2a00-474c-8031-f12443a3fd82",
    "deepnote_sql_source": "",
    "deepnote_to_be_reexecuted": false,
    "source_hash": "9e213752",
    "execution_start": 1660307028273,
    "execution_millis": 1,
    "deepnote_cell_type": "sql",
    "deepnote_cell_height": 116
   },
   "source": "\n_deepnote_execute_sql(\"\"\"\n\"\"\", 'SQL_DEEPNOTE_DATAFRAME_SQL')",
   "execution_count": null,
   "outputs": []
  },
  {
   "cell_type": "markdown",
   "source": "### 46. Check if any of the columns has NULL values. ",
   "metadata": {
    "formattedRanges": [],
    "is_collapsed": false,
    "cell_id": "d58f24d7cbb94da1a87d2f5d238b0b95",
    "tags": [],
    "deepnote_cell_type": "text-cell-h3"
   }
  },
  {
   "cell_type": "code",
   "metadata": {
    "tags": [],
    "sql_integration_id": "deepnote-dataframe-sql",
    "cell_id": "06fddcaf7c0848a4a01694bd34100647",
    "deepnote_sql_source": "",
    "deepnote_to_be_reexecuted": false,
    "source_hash": "9e213752",
    "execution_start": 1660307028274,
    "execution_millis": 0,
    "deepnote_cell_type": "sql",
    "deepnote_cell_height": 116
   },
   "source": "\n_deepnote_execute_sql(\"\"\"\n\"\"\", 'SQL_DEEPNOTE_DATAFRAME_SQL')",
   "execution_count": null,
   "outputs": []
  },
  {
   "cell_type": "markdown",
   "source": "### 47. Print the data type of every column in the data.",
   "metadata": {
    "formattedRanges": [],
    "is_collapsed": false,
    "cell_id": "4dc05bc214a545b2ae6a318e62ceb84c",
    "tags": [],
    "deepnote_cell_type": "text-cell-h3"
   }
  },
  {
   "cell_type": "code",
   "metadata": {
    "tags": [],
    "sql_integration_id": "deepnote-dataframe-sql",
    "cell_id": "cde703df3ded41e28408f51e548aacfd",
    "deepnote_sql_source": "",
    "deepnote_to_be_reexecuted": false,
    "source_hash": "9e213752",
    "execution_start": 1660307028275,
    "execution_millis": 1,
    "deepnote_cell_type": "sql",
    "deepnote_cell_height": 116
   },
   "source": "\n_deepnote_execute_sql(\"\"\"\n\"\"\", 'SQL_DEEPNOTE_DATAFRAME_SQL')",
   "execution_count": null,
   "outputs": []
  },
  {
   "cell_type": "markdown",
   "source": "### 48. Print the number of employees with Employee_Rating greater than the average Employee_Rating",
   "metadata": {
    "formattedRanges": [],
    "is_collapsed": false,
    "cell_id": "2b07e89702d5480ca00c3809db694dc5",
    "tags": [],
    "deepnote_cell_type": "text-cell-h3"
   }
  },
  {
   "cell_type": "code",
   "metadata": {
    "tags": [],
    "sql_integration_id": "deepnote-dataframe-sql",
    "cell_id": "a4475fc74330407081697400b3e33d13",
    "deepnote_sql_source": "",
    "deepnote_to_be_reexecuted": false,
    "source_hash": "9e213752",
    "execution_start": 1660307028278,
    "execution_millis": 6,
    "deepnote_cell_type": "sql",
    "deepnote_cell_height": 116
   },
   "source": "\n_deepnote_execute_sql(\"\"\"\n\"\"\", 'SQL_DEEPNOTE_DATAFRAME_SQL')",
   "execution_count": null,
   "outputs": []
  },
  {
   "cell_type": "markdown",
   "source": "### 49. Find the employee which has the maximum salary among the ones with  the minimum Employee_Rating ",
   "metadata": {
    "formattedRanges": [],
    "is_collapsed": false,
    "cell_id": "e6cc75b5147c4659b78e42f75ee0c4bf",
    "tags": [],
    "deepnote_cell_type": "text-cell-h3"
   }
  },
  {
   "cell_type": "code",
   "metadata": {
    "tags": [],
    "sql_integration_id": "deepnote-dataframe-sql",
    "cell_id": "691f3320-9fe2-4bd2-ba6f-9b5697bfa84c",
    "deepnote_sql_source": "",
    "deepnote_to_be_reexecuted": false,
    "source_hash": "9e213752",
    "execution_start": 1660307028287,
    "execution_millis": 3,
    "deepnote_cell_type": "sql",
    "deepnote_cell_height": 116
   },
   "source": "\n_deepnote_execute_sql(\"\"\"\n\"\"\", 'SQL_DEEPNOTE_DATAFRAME_SQL')",
   "execution_count": null,
   "outputs": []
  },
  {
   "cell_type": "markdown",
   "source": "### 50. Sort the table in ascending order of Employee_Salary",
   "metadata": {
    "formattedRanges": [],
    "is_collapsed": false,
    "cell_id": "c45588a2-aa05-4f20-8d67-d0c63b15aed4",
    "tags": [],
    "deepnote_cell_type": "text-cell-h3"
   }
  },
  {
   "cell_type": "code",
   "metadata": {
    "tags": [],
    "sql_integration_id": "deepnote-dataframe-sql",
    "cell_id": "f9ad634f-a58b-420e-98dc-b4f47968287a",
    "deepnote_sql_source": "",
    "deepnote_to_be_reexecuted": false,
    "source_hash": "9e213752",
    "execution_start": 1660307028322,
    "execution_millis": 1,
    "deepnote_cell_type": "sql",
    "deepnote_cell_height": 116
   },
   "source": "\n_deepnote_execute_sql(\"\"\"\n\"\"\", 'SQL_DEEPNOTE_DATAFRAME_SQL')",
   "execution_count": null,
   "outputs": []
  },
  {
   "cell_type": "markdown",
   "source": "### 51. Sort the table in descending order of Employee_Rating",
   "metadata": {
    "formattedRanges": [],
    "is_collapsed": false,
    "cell_id": "c586da09-f9ee-4f4a-872a-79aef0e0cada",
    "tags": [],
    "deepnote_cell_type": "text-cell-h3"
   }
  },
  {
   "cell_type": "code",
   "metadata": {
    "tags": [],
    "sql_integration_id": "deepnote-dataframe-sql",
    "cell_id": "e52a3b3d-672b-4ddd-8569-22c4e0004a2c",
    "deepnote_sql_source": "",
    "deepnote_to_be_reexecuted": false,
    "source_hash": "9e213752",
    "execution_start": 1660307028323,
    "execution_millis": 0,
    "deepnote_cell_type": "sql",
    "deepnote_cell_height": 116
   },
   "source": "\n_deepnote_execute_sql(\"\"\"\n\"\"\", 'SQL_DEEPNOTE_DATAFRAME_SQL')",
   "execution_count": null,
   "outputs": []
  },
  {
   "cell_type": "markdown",
   "source": "### 52. Print the name of 100th employee after sorting on Name column",
   "metadata": {
    "formattedRanges": [],
    "is_collapsed": false,
    "cell_id": "ad6eb0cb-248d-41d3-84b9-c22b7a56195d",
    "tags": [],
    "deepnote_cell_type": "text-cell-h3"
   }
  },
  {
   "cell_type": "code",
   "metadata": {
    "tags": [],
    "sql_integration_id": "deepnote-dataframe-sql",
    "cell_id": "2b7c4d34-60dd-439b-8cf6-3e03a40ffc4b",
    "deepnote_sql_source": "",
    "deepnote_to_be_reexecuted": false,
    "source_hash": "9e213752",
    "execution_start": 1660307028323,
    "execution_millis": 1,
    "deepnote_cell_type": "sql",
    "deepnote_cell_height": 116
   },
   "source": "\n_deepnote_execute_sql(\"\"\"\n\"\"\", 'SQL_DEEPNOTE_DATAFRAME_SQL')",
   "execution_count": null,
   "outputs": []
  },
  {
   "cell_type": "markdown",
   "source": "### 53. Print the first 5 rows of the first 5 columns. ",
   "metadata": {
    "formattedRanges": [],
    "is_collapsed": false,
    "cell_id": "224b2c80-1b39-4213-89a0-435a9e93ffe7",
    "tags": [],
    "deepnote_cell_type": "text-cell-h3"
   }
  },
  {
   "cell_type": "code",
   "metadata": {
    "tags": [],
    "sql_integration_id": "deepnote-dataframe-sql",
    "cell_id": "0ef22200-16e6-4a52-b78c-a524a0819108",
    "deepnote_sql_source": "",
    "deepnote_to_be_reexecuted": false,
    "source_hash": "9e213752",
    "execution_start": 1660307028324,
    "execution_millis": 1,
    "deepnote_cell_type": "sql",
    "deepnote_cell_height": 116
   },
   "source": "\n_deepnote_execute_sql(\"\"\"\n\"\"\", 'SQL_DEEPNOTE_DATAFRAME_SQL')",
   "execution_count": null,
   "outputs": []
  },
  {
   "cell_type": "markdown",
   "source": "### 54. Print the number of employees whose first name starts with the letter 'V'. ",
   "metadata": {
    "formattedRanges": [],
    "is_collapsed": false,
    "cell_id": "f97714af-8c13-48fd-9d84-9df7811b92af",
    "tags": [],
    "deepnote_cell_type": "text-cell-h3"
   }
  },
  {
   "cell_type": "code",
   "metadata": {
    "tags": [],
    "sql_integration_id": "deepnote-dataframe-sql",
    "cell_id": "2bb1775f-9133-4f46-8d1c-692c7a78bcbb",
    "deepnote_sql_source": "",
    "deepnote_to_be_reexecuted": false,
    "source_hash": "9e213752",
    "execution_start": 1660307028326,
    "execution_millis": 9,
    "deepnote_cell_type": "sql",
    "deepnote_cell_height": 116
   },
   "source": "\n_deepnote_execute_sql(\"\"\"\n\"\"\", 'SQL_DEEPNOTE_DATAFRAME_SQL')",
   "execution_count": null,
   "outputs": []
  },
  {
   "cell_type": "markdown",
   "source": "### 55. Print the number of employees whose last name starts with the letter 'R'. ",
   "metadata": {
    "formattedRanges": [],
    "is_collapsed": false,
    "cell_id": "18936b39-e0f8-406b-81a6-1769ada8bb16",
    "tags": [],
    "deepnote_cell_type": "text-cell-h3"
   }
  },
  {
   "cell_type": "code",
   "metadata": {
    "tags": [],
    "sql_integration_id": "deepnote-dataframe-sql",
    "cell_id": "3f9f4b65-ed4c-4202-9020-b082d64b5e0c",
    "deepnote_sql_source": "",
    "deepnote_to_be_reexecuted": false,
    "source_hash": "9e213752",
    "execution_start": 1660307028340,
    "execution_millis": 5,
    "deepnote_cell_type": "sql",
    "deepnote_cell_height": 116
   },
   "source": "\n_deepnote_execute_sql(\"\"\"\n\"\"\", 'SQL_DEEPNOTE_DATAFRAME_SQL')",
   "execution_count": null,
   "outputs": []
  },
  {
   "cell_type": "markdown",
   "source": "### 56. Select the rows 2 to 7 and the columns 3 to 7 (both included)",
   "metadata": {
    "formattedRanges": [],
    "is_collapsed": false,
    "cell_id": "960287b8-088a-43f3-8f5a-990e012d0e06",
    "tags": [],
    "deepnote_cell_type": "text-cell-h3"
   }
  },
  {
   "cell_type": "code",
   "metadata": {
    "tags": [],
    "sql_integration_id": "deepnote-dataframe-sql",
    "cell_id": "764a8588-856d-4d3e-b0b4-9194aeb8eb03",
    "deepnote_sql_source": "",
    "deepnote_to_be_reexecuted": false,
    "source_hash": "9e213752",
    "execution_start": 1660307028349,
    "execution_millis": 11,
    "deepnote_cell_type": "sql",
    "deepnote_cell_height": 116
   },
   "source": "\n_deepnote_execute_sql(\"\"\"\n\"\"\", 'SQL_DEEPNOTE_DATAFRAME_SQL')",
   "execution_count": null,
   "outputs": []
  },
  {
   "cell_type": "markdown",
   "source": "Great job solving this notebook. Go to SQL Notebook 2: [Link](https://deepnote.com/workspace/avi-chawla-695b-aee6f4ef-2d50-4fb6-9ef2-20ee1022995a/project/SQL-Notebook-2-1914b214-be03-44a1-be63-ad99e98be639/%2Fnotebook.ipynb)",
   "metadata": {
    "cell_id": "8cdf5da62fef4c6b8fbde34a42dfc436",
    "tags": [],
    "deepnote_cell_type": "markdown",
    "deepnote_cell_height": 52.390625
   }
  },
  {
   "cell_type": "markdown",
   "source": "<a style='text-decoration:none;line-height:16px;display:flex;color:#5B5B62;padding:10px;justify-content:end;' href='https://deepnote.com?utm_source=created-in-deepnote-cell&projectId=eac9d782-a9b1-4e84-a1f9-af14080a6121' target=\"_blank\">\n<img alt='Created in deepnote.com' style='display:inline;max-height:16px;margin:0px;margin-right:7.5px;' src='data:image/svg+xml;base64,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' > </img>\nCreated in <span style='font-weight:600;margin-left:4px;'>Deepnote</span></a>",
   "metadata": {
    "tags": [],
    "created_in_deepnote_cell": true,
    "deepnote_cell_type": "markdown"
   }
  }
 ],
 "nbformat": 4,
 "nbformat_minor": 2,
 "metadata": {
  "orig_nbformat": 2,
  "deepnote": {},
  "deepnote_notebook_id": "8c81bf04-0b88-400e-83b5-6c9efb1073ce",
  "deepnote_execution_queue": []
 }
}