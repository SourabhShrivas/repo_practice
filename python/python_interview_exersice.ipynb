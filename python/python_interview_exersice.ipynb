{
 "cells": [
  {
   "cell_type": "code",
   "execution_count": 43,
   "metadata": {},
   "outputs": [
    {
     "name": "stdout",
     "output_type": "stream",
     "text": [
      "hello\n"
     ]
    }
   ],
   "source": [
    "print('hello')"
   ]
  },
  {
   "cell_type": "code",
   "execution_count": 44,
   "metadata": {},
   "outputs": [
    {
     "name": "stdout",
     "output_type": "stream",
     "text": [
      "True\n",
      "False\n",
      "True\n"
     ]
    }
   ],
   "source": [
    "#isinatance examples\n",
    "#https://www.programiz.com/python-programming/methods/built-in/isinstance\n",
    "class Foo:\n",
    "  a = 5\n",
    "  \n",
    "fooInstance = Foo()\n",
    "\n",
    "print(isinstance(fooInstance, Foo))\n",
    "print(isinstance(fooInstance, (list, tuple)))\n",
    "print(isinstance(fooInstance, (list, tuple, Foo)))"
   ]
  },
  {
   "cell_type": "code",
   "execution_count": 49,
   "metadata": {},
   "outputs": [
    {
     "data": {
      "text/plain": [
       "False"
      ]
     },
     "execution_count": 49,
     "metadata": {},
     "output_type": "execute_result"
    }
   ],
   "source": [
    "n = 2\n",
    "# n = [2,3,4,5]\n",
    "isinstance(n,list)"
   ]
  },
  {
   "cell_type": "code",
   "execution_count": 63,
   "metadata": {},
   "outputs": [
    {
     "data": {
      "text/plain": [
       "'ello'"
      ]
     },
     "execution_count": 63,
     "metadata": {},
     "output_type": "execute_result"
    }
   ],
   "source": [
    "# 'hello'[start_position:end_position-1]\n",
    "'hello'[1:]"
   ]
  },
  {
   "cell_type": "markdown",
   "metadata": {},
   "source": [
    "## Enumirate "
   ]
  },
  {
   "cell_type": "code",
   "execution_count": 163,
   "metadata": {},
   "outputs": [
    {
     "name": "stdout",
     "output_type": "stream",
     "text": [
      "[1, 7]\n",
      "[1, 1]\n"
     ]
    }
   ],
   "source": [
    "a = [6,7]\n",
    "b= a\n",
    "for c,i in enumerate(a,0):\n",
    "    a[c]=+1\n",
    "    print(a)"
   ]
  },
  {
   "cell_type": "code",
   "execution_count": 170,
   "metadata": {},
   "outputs": [
    {
     "name": "stdout",
     "output_type": "stream",
     "text": [
      "[]\n",
      "[]\n"
     ]
    }
   ],
   "source": [
    "l = ['a','b','c','d','e']\n",
    "print(l[-1:1:])\n",
    "print(l[-2:1:])"
   ]
  },
  {
   "cell_type": "markdown",
   "metadata": {},
   "source": [
    "## OOPS basics"
   ]
  },
  {
   "cell_type": "code",
   "execution_count": 125,
   "metadata": {},
   "outputs": [],
   "source": [
    "# https://www.tutorialspoint.com/python/python_classes_objects.htm"
   ]
  },
  {
   "cell_type": "markdown",
   "metadata": {},
   "source": [
    "# difference between extend and append\n",
    "https://www.freecodecamp.org/news/python-list-append-vs-python-list-extend/#:~:text=append()%20adds%20a%20single,the%20end%20of%20the%20list."
   ]
  },
  {
   "cell_type": "code",
   "execution_count": 122,
   "metadata": {},
   "outputs": [
    {
     "data": {
      "text/plain": [
       "[1, 2, 3, 4, 5]"
      ]
     },
     "execution_count": 122,
     "metadata": {},
     "output_type": "execute_result"
    }
   ],
   "source": [
    "# Define the list\n",
    ">>> nums = [1, 2, 3, 4]\n",
    "\n",
    "# Add the integer 5 to the end of the existing list\n",
    ">>> nums.append(5)\n",
    "\n",
    "# See the updated value of the list\n",
    ">>> nums\n",
    "[1, 2, 3, 4, 5]"
   ]
  },
  {
   "cell_type": "code",
   "execution_count": 123,
   "metadata": {},
   "outputs": [
    {
     "data": {
      "text/plain": [
       "[1, 2, 3, 4, 5, 6, 7]"
      ]
     },
     "execution_count": 123,
     "metadata": {},
     "output_type": "execute_result"
    }
   ],
   "source": [
    "# List that will be modified\n",
    ">>> a = [1, 2, 3, 4]\n",
    "\n",
    "# Sequence of values that we want to add to the list a\n",
    ">>> b = [5, 6, 7]\n",
    "\n",
    "# Calling .extend()\n",
    ">>> a.extend(b)\n",
    "\n",
    "# See the updated list. Now the list a has the values 5, 6, and 7\n",
    ">>> a\n",
    "[1, 2, 3, 4, 5, 6, 7]"
   ]
  },
  {
   "cell_type": "code",
   "execution_count": 68,
   "metadata": {
    "scrolled": true
   },
   "outputs": [],
   "source": [
    "# define a function to Flat a list\n",
    "\n",
    "# def flat_list(input_list): # this will one level nested list like [[2,3,4,5],[57],[21,56],[5,90,98]]\n",
    "# flat_list=[]\n",
    "# for sublist in input_list:\n",
    "# #     print(sublist)\n",
    "#     for i in sublist:\n",
    "# #         print(sublist)\n",
    "#         flat_list.append(i)\n",
    "# return flat_list\n",
    "# print(flat_list([[2,3,4,5],[57],[21,56],[5,90,98]]))\n",
    "\n",
    "#this wil cover multi level nested lists like [[2,3,4,5,[5,6]],[57],[21,56],[5,90,98]]\n",
    "# this is more sclable and flexible\n",
    "def flatten(S):\n",
    "    if S == []:\n",
    "        print('first ' + str(S))\n",
    "        return S\n",
    "    if isinstance(S[0], list):\n",
    "        print('Second ' + str(S[0]))\n",
    "        return flatten(S[0]) + flatten(S[1:])\n",
    "    print('Third ' + str(S[:1]))\n",
    "    return S[:1] + flatten(S[1:])   \n",
    "# print(flatten([[2,3,[9,3,4,7,5],4,5],[57],[21,56],[5,90,98]]))\n",
    "# print(flatten([[2,3],9,3,4,7,5,4,5,[57],[21,56],[5,90,98]]))"
   ]
  },
  {
   "cell_type": "code",
   "execution_count": 77,
   "metadata": {},
   "outputs": [
    {
     "data": {
      "text/plain": [
       "'hbaruoS'"
      ]
     },
     "execution_count": 77,
     "metadata": {},
     "output_type": "execute_result"
    }
   ],
   "source": [
    "# Reverse a string\n",
    "def reverse_string(str):    \n",
    "    rev_string =''\n",
    "    for i in input_string:\n",
    "        rev_string = i+rev_string\n",
    "    return rev_string\n",
    "\n",
    "input_string = 'Sourabh'\n",
    "reverse_string('input_string')"
   ]
  },
  {
   "cell_type": "code",
   "execution_count": 46,
   "metadata": {},
   "outputs": [
    {
     "name": "stdout",
     "output_type": "stream",
     "text": [
      "[8, 7, 6, 5, 4, 3, 2, 1]\n",
      "[8, 7, 6, 5, 4, 3, 2, 1]\n"
     ]
    }
   ],
   "source": [
    "# reverse a list\n",
    "# method 1\n",
    "def reverse_list(lst):\n",
    "    rev_list = []\n",
    "    # print(input_list[-1])\n",
    "    for i in range(len(input_list),0,-1):\n",
    "        rev_list.append(i)\n",
    "    return (rev_list)\n",
    "\n",
    "input_list = [1,2,3,4,5,6,7,8]\n",
    "print(reverse_list(input_list))\n",
    "\n",
    "# method 2\n",
    "def reverse_list_2(lst):\n",
    "    rev_list = []\n",
    "    cnt = len(input_list)\n",
    "    while cnt != 0:\n",
    "        rev_list.append(input_list[cnt-1])\n",
    "        cnt = cnt-1\n",
    "    return (rev_list)\n",
    "\n",
    "input_list = [1,2,3,4,5,6,7,8]\n",
    "print(reverse_list_2(input_list))"
   ]
  },
  {
   "cell_type": "code",
   "execution_count": 1,
   "metadata": {},
   "outputs": [
    {
     "name": "stdout",
     "output_type": "stream",
     "text": [
      "675\n"
     ]
    }
   ],
   "source": [
    "# reverse a number\n",
    "input_number = 576\n",
    "num = input_number\n",
    "rev_num = 0\n",
    "while (num>0):\n",
    "    reminder = num%10\n",
    "    rev_num = rev_num*10+reminder\n",
    "    num = num//10\n",
    "print (rev_num)"
   ]
  },
  {
   "cell_type": "code",
   "execution_count": 57,
   "metadata": {},
   "outputs": [
    {
     "name": "stdout",
     "output_type": "stream",
     "text": [
      "35\n"
     ]
    }
   ],
   "source": [
    "# sum of given number\n",
    "input_num = 2345687\n",
    "total = 0\n",
    "num = input_num\n",
    "while (num>0):\n",
    "    reminder = num%10\n",
    "    total = total+reminder\n",
    "    num = num//10\n",
    "print(total)"
   ]
  },
  {
   "cell_type": "code",
   "execution_count": 49,
   "metadata": {},
   "outputs": [
    {
     "name": "stdout",
     "output_type": "stream",
     "text": [
      "[40, 35, 22, 9, 7, 6, 5]\n"
     ]
    }
   ],
   "source": [
    "# find a second larget number in a list\n",
    "# method 1\n",
    "input_list = [22,35,40,5,7,6,9]\n",
    "input_list.sort(reverse=True)\n",
    "print(input_list)\n",
    "# print(input_list[len(input_list)-2])    "
   ]
  },
  {
   "cell_type": "code",
   "execution_count": 100,
   "metadata": {},
   "outputs": [
    {
     "name": "stdout",
     "output_type": "stream",
     "text": [
      "[-400, -23, -6, -5, 0, 5, 23, 23, 67, 88]\n",
      "maximum 88\n",
      "minimum -23\n",
      "[-400, -23, -6, -5, 0, 5, 23, 23, 67, 88]\n"
     ]
    }
   ],
   "source": [
    "#method 2\n",
    "data_list = [-5, -23, 5, 0, 23, -6, 23, 67,-400,88]\n",
    "new_list = []\n",
    "\n",
    "while data_list:\n",
    "#     print(data_list)\n",
    "    minimum = data_list[0]  # arbitrary number in list \n",
    "    for x in data_list: \n",
    "        if x < minimum:\n",
    "            minimum = x\n",
    "    new_list.append(minimum)\n",
    "    data_list.remove(minimum)    \n",
    "print(new_list)\n",
    "\n",
    "print('maximum '+str(new_list[-1]))\n",
    "print('minimum '+str(new_list[1]))\n",
    "print(str(new_list))\n",
    "# print('second maximum number '+str(new_list[-2]))"
   ]
  },
  {
   "cell_type": "code",
   "execution_count": 119,
   "metadata": {},
   "outputs": [
    {
     "name": "stdout",
     "output_type": "stream",
     "text": [
      "[-400, -23, -6, -5, 0, 5, 23, 23, 67, 88]\n",
      "ans - [88, -23, -6, -5, 0, 5, 23, 23, 67, -400]\n"
     ]
    }
   ],
   "source": [
    "# write a program to swap the first and last element in list\n",
    "#method 1\n",
    "input_list = [-400, -23, -6, -5, 0, 5, 23, 23, 67, 88]\n",
    "print(input_list)\n",
    "temp = input_list[0]\n",
    "input_list[0] = input_list[-1]\n",
    "input_list[-1] = temp\n",
    "print ('ans - '+str(input_list))"
   ]
  },
  {
   "cell_type": "code",
   "execution_count": 122,
   "metadata": {},
   "outputs": [
    {
     "name": "stdout",
     "output_type": "stream",
     "text": [
      "[-400, -23, -6, -5, 0, 5, 23, 23, 67, 88]\n",
      "[88, -23, -6, -5, 0, 5, 23, 23, 67, -400]\n"
     ]
    }
   ],
   "source": [
    "#method  2\n",
    "input_list = [-400, -23, -6, -5, 0, 5, 23, 23, 67, 88]\n",
    "print(input_list)\n",
    "input_list[0],input_list[-1] = input_list[-1],input_list[0]\n",
    "print(input_list)"
   ]
  },
  {
   "cell_type": "code",
   "execution_count": 164,
   "metadata": {},
   "outputs": [
    {
     "name": "stdout",
     "output_type": "stream",
     "text": [
      "xxxxxr\n"
     ]
    }
   ],
   "source": [
    "# remove vowels from string\n",
    "s = \"xxxxxaeior\"\n",
    "for i in s:\n",
    "    if i in ['a','e','i','o','u']:\n",
    "        s=s.replace(i,'')\n",
    "print(s)"
   ]
  },
  {
   "cell_type": "code",
   "execution_count": 169,
   "metadata": {},
   "outputs": [],
   "source": [
    "class MathOperations:\n",
    "    def testAddition (self,x, y):\n",
    "        return x + y\n",
    "\n",
    "    def testMultiplication (self,a, b):\n",
    "        return a * b"
   ]
  },
  {
   "cell_type": "code",
   "execution_count": 174,
   "metadata": {},
   "outputs": [
    {
     "name": "stdout",
     "output_type": "stream",
     "text": [
      "5\n"
     ]
    }
   ],
   "source": [
    "tmp = MathOperations()\n",
    "print (tmp.testAddition(2,3))"
   ]
  },
  {
   "cell_type": "code",
   "execution_count": 179,
   "metadata": {},
   "outputs": [],
   "source": [
    "class Solution:\n",
    "    def reverseVowels(self, s: str) -> str:\n",
    "        return(str)"
   ]
  },
  {
   "cell_type": "code",
   "execution_count": 184,
   "metadata": {},
   "outputs": [
    {
     "data": {
      "text/plain": [
       "str"
      ]
     },
     "execution_count": 184,
     "metadata": {},
     "output_type": "execute_result"
    }
   ],
   "source": [
    "tmp = Solution()\n",
    "tmp.reverseVowels('hello')"
   ]
  },
  {
   "cell_type": "code",
   "execution_count": 14,
   "metadata": {},
   "outputs": [
    {
     "name": "stdout",
     "output_type": "stream",
     "text": [
      "[1, 5, 8, 12]\n"
     ]
    }
   ],
   "source": [
    "# Given an array nums. We define a running sum of an array as runningSum[i] = sum(nums[0]…nums[i]).\n",
    "# Input: nums = [1,2,3,4]\n",
    "# Output: [1,3,6,10]\n",
    "# Explanation: Running sum is obtained as follows: [1, 1+2, 1+2+3, 1+2+3+4].\n",
    "\n",
    "nums = [1,4,3,4]\n",
    "result = []\n",
    "x = 0\n",
    "for i in nums:\n",
    "    x=x+i\n",
    "    result.append(x)\n",
    "    \n",
    "print(result)"
   ]
  },
  {
   "cell_type": "code",
   "execution_count": 201,
   "metadata": {},
   "outputs": [
    {
     "name": "stdout",
     "output_type": "stream",
     "text": [
      "False\n"
     ]
    }
   ],
   "source": [
    "# Given an array of integers and an integer k, find out whether there are two \n",
    "#distinct indices i and j in the array such that nums[i] = nums[j] \n",
    "#and the absolute difference between i and j is at most k.\n",
    "# Input: nums = [1,2,3,1], k = 3\n",
    "# Output: true\n",
    "nums = [1,0,1,1]\n",
    "k = 1\n",
    "for i in nums:\n",
    "    for j in nums:\n",
    "        if (nums[i]==nums[j]) and (nums[i]-nums[j]==k):\n",
    "            print(True)\n",
    "print(False)"
   ]
  },
  {
   "cell_type": "code",
   "execution_count": 60,
   "metadata": {},
   "outputs": [
    {
     "name": "stdout",
     "output_type": "stream",
     "text": [
      "True\n"
     ]
    }
   ],
   "source": [
    "#Given an array of integers, find if the array contains any duplicates.\n",
    "#Your function should return true if any value appears at least twice in the array, \n",
    "#and it should return false if every element is distinct.\n",
    "# Input: [1,2,3,1]\n",
    "# Output: true\n",
    "\n",
    "n = [5,34,6,8,2,34]\n",
    "flag = False\n",
    "for i in range(0,len(n)):\n",
    "#     print(i)\n",
    "    if n[i] in (n[i+1:]):\n",
    "#         print(n[i])\n",
    "#         print(n[i:])\n",
    "        flag = True\n",
    "        \n",
    "if flag == True:\n",
    "    print(True)\n",
    "else:\n",
    "    print(False)"
   ]
  },
  {
   "cell_type": "code",
   "execution_count": 297,
   "metadata": {},
   "outputs": [
    {
     "name": "stdout",
     "output_type": "stream",
     "text": [
      "{'a': 2, 's': 2, 'd': 2, 'k': 1}\n"
     ]
    }
   ],
   "source": [
    "# count a character in string \n",
    "test_str ='aassddk'\n",
    "all_freq = {} \n",
    "  \n",
    "for i in test_str: \n",
    "    if i in all_freq: \n",
    "        all_freq[i] = all_freq[i]+1\n",
    "    else: \n",
    "        all_freq[i] = 1\n",
    "print (str(all_freq))"
   ]
  },
  {
   "cell_type": "code",
   "execution_count": 52,
   "metadata": {},
   "outputs": [
    {
     "name": "stdout",
     "output_type": "stream",
     "text": [
      "a comes 2 times\n",
      "s comes 2 times\n",
      "d comes 2 times\n",
      "k comes 1 times\n"
     ]
    }
   ],
   "source": [
    "test_str ='aassddk'\n",
    "temp = []\n",
    "for i in test_str:\n",
    "    if i not in temp:\n",
    "        x = test_str.count(i)\n",
    "        print(str(i)+ ' comes '+ str(x) + ' times')\n",
    "        temp.append(i)"
   ]
  },
  {
   "cell_type": "code",
   "execution_count": 301,
   "metadata": {},
   "outputs": [
    {
     "name": "stdout",
     "output_type": "stream",
     "text": [
      "{1: 1, 2: 1, 3: 1, 4: 2}\n"
     ]
    }
   ],
   "source": [
    "test_lst =[1,2,3,4,4]\n",
    "all_freq = {} \n",
    "  \n",
    "for i in test_lst: \n",
    "    if i in all_freq: \n",
    "        all_freq[i] = all_freq[i]+1\n",
    "    else: \n",
    "        all_freq[i] = 1\n",
    "print (str(all_freq))"
   ]
  },
  {
   "cell_type": "code",
   "execution_count": 25,
   "metadata": {},
   "outputs": [
    {
     "name": "stdout",
     "output_type": "stream",
     "text": [
      "2\n",
      "3\n"
     ]
    }
   ],
   "source": [
    "# print maximum element from list\n",
    "data_list = [1,2,-1,-2,0]\n",
    "\n",
    "maximum = data_list[0] # assume first element is the maximum\n",
    "for i in data_list:\n",
    "    if maximum < i:\n",
    "        maximum = i\n",
    "print(maximum)\n",
    "\n",
    "#method 2\n",
    "data_list = [1,2,3]\n",
    "print(max(data_list))"
   ]
  },
  {
   "cell_type": "code",
   "execution_count": 323,
   "metadata": {},
   "outputs": [
    {
     "name": "stdout",
     "output_type": "stream",
     "text": [
      "-100\n"
     ]
    }
   ],
   "source": [
    "# print minimum from a given list\n",
    "data_list = [1,2,-1,-2,0,-100]\n",
    "minimum = data_list[0]\n",
    "for i in data_list:\n",
    "    if minimum > i:\n",
    "        minimum = i\n",
    "print(minimum)"
   ]
  },
  {
   "cell_type": "code",
   "execution_count": 333,
   "metadata": {},
   "outputs": [
    {
     "name": "stdout",
     "output_type": "stream",
     "text": [
      "[-400, -23, -6, -5, 0, 5, 23, 23, 67, 88]\n",
      "maximum 88\n",
      "minimum -23\n",
      "[-400, -23, -6, -5, 0, 5, 23, 23, 67, 88]\n"
     ]
    }
   ],
   "source": [
    "# sort a list without sort function\n",
    "data_list = [-5, -23, 5, 0, 23, -6, 23, 67,-400,88]\n",
    "new_list = []\n",
    "\n",
    "while data_list:\n",
    "    minimum = data_list[0]  # arbitrary number in list \n",
    "    for x in data_list: \n",
    "        if x < minimum:\n",
    "            minimum = x\n",
    "    new_list.append(minimum)\n",
    "    data_list.remove(minimum)    \n",
    "print(new_list)\n",
    "\n",
    "print('maximum '+str(new_list[-1]))\n",
    "print('minimum '+str(new_list[1]))\n",
    "print(str(new_list))"
   ]
  },
  {
   "cell_type": "code",
   "execution_count": 105,
   "metadata": {},
   "outputs": [],
   "source": [
    "#Given an array of integers, find if the array contains any duplicates.\n",
    "#Your function should return true if any value appears at least twice in the array,\n",
    "#and it should return false if every element is distinct.\n",
    "input_list = [1,2,3,4,5,7,8,9,0,0,1,2,3,4,5,6]\n",
    "def containsDuplicate(input_list):\n",
    "    d = {}\n",
    "    for i in input_list:\n",
    "        if i in d:\n",
    "            d[i]=d[i]+1\n",
    "        else:\n",
    "            d[i]=1\n",
    "    \n",
    "    values_list = d.values()\n",
    "    values_list\n",
    "    for i in values_list:\n",
    "        if i>1:\n",
    "            return(True)\n",
    "            break\n",
    "        else:\n",
    "            return(False)\n",
    "            break"
   ]
  },
  {
   "cell_type": "code",
   "execution_count": 118,
   "metadata": {},
   "outputs": [
    {
     "name": "stdout",
     "output_type": "stream",
     "text": [
      "{'a': 3, 'b': 6, 'c': 2, 'f': 2, 'd': 2}\n",
      "duplicate found\n"
     ]
    }
   ],
   "source": [
    "# input_list = [1,2,3,4,5,7,8,9,0,0,1,2,3,4,5,6]\n",
    "input_list = ['a','b','c','f','d','f','d','a','c','b','b','b','b','b','a']\n",
    "\n",
    "d = {}\n",
    "for i in input_list:\n",
    "    if i in d:\n",
    "        d[i]=d[i]+1\n",
    "    else:\n",
    "        d[i]=1\n",
    "print(d)\n",
    "for k,v in d.items():\n",
    "    if v>1:\n",
    "#         print(d.items()[v])\n",
    "        print('duplicate found')\n",
    "        break\n",
    "    else:\n",
    "        print('duplicate not found')"
   ]
  },
  {
   "cell_type": "code",
   "execution_count": 119,
   "metadata": {},
   "outputs": [
    {
     "data": {
      "text/plain": [
       "dict_items([('a', 3), ('b', 6), ('c', 2), ('f', 2), ('d', 2)])"
      ]
     },
     "execution_count": 119,
     "metadata": {},
     "output_type": "execute_result"
    }
   ],
   "source": [
    "d.items()"
   ]
  },
  {
   "cell_type": "code",
   "execution_count": 121,
   "metadata": {},
   "outputs": [
    {
     "name": "stdout",
     "output_type": "stream",
     "text": [
      "a 3\n",
      "b 6\n",
      "c 2\n",
      "f 2\n",
      "d 2\n"
     ]
    }
   ],
   "source": [
    "for k,v in d.items():\n",
    "    print(k,v)"
   ]
  },
  {
   "cell_type": "code",
   "execution_count": 29,
   "metadata": {},
   "outputs": [
    {
     "data": {
      "text/plain": [
       "[1, 2, 3, 4]"
      ]
     },
     "execution_count": 29,
     "metadata": {},
     "output_type": "execute_result"
    }
   ],
   "source": [
    "res_dict.keys()"
   ]
  },
  {
   "cell_type": "code",
   "execution_count": 385,
   "metadata": {},
   "outputs": [
    {
     "data": {
      "text/plain": [
       "False"
      ]
     },
     "execution_count": 385,
     "metadata": {},
     "output_type": "execute_result"
    }
   ],
   "source": [
    "input_list = [1,2]\n",
    "containsDuplicate(input_list)"
   ]
  },
  {
   "cell_type": "markdown",
   "metadata": {},
   "source": [
    "#### Find all the elements that appear twice in this array."
   ]
  },
  {
   "cell_type": "code",
   "execution_count": 406,
   "metadata": {},
   "outputs": [
    {
     "name": "stdout",
     "output_type": "stream",
     "text": [
      "[3, 2]\n"
     ]
    }
   ],
   "source": [
    "# Find all the elements that appear twice in this array.\n",
    "# Input:\n",
    "# [4,3,2,7,8,2,3,1]\n",
    "# Output:\n",
    "# [2,3]\n",
    "input_list = [4,3,2,7,8,2,3,1]\n",
    "d = {}\n",
    "for i in input_list:\n",
    "    if i in d:\n",
    "        d[i]=d[i]+1\n",
    "    else:\n",
    "        d[i]=1\n",
    "# print(d)\n",
    "\n",
    "ans_list=[]\n",
    "for k,v in d.items():\n",
    "    if v>=2:\n",
    "        ans_list.append(k)\n",
    "print(ans_list)"
   ]
  },
  {
   "cell_type": "code",
   "execution_count": 417,
   "metadata": {},
   "outputs": [],
   "source": [
    "class Solution:\n",
    "    def findDuplicates(self, nums: [int]) -> [int]:\n",
    "        d = {}\n",
    "        for i in input_list:\n",
    "            if i in d:\n",
    "                d[i]=d[i]+1\n",
    "            else:\n",
    "                d[i]=1\n",
    "                    \n",
    "        ans_list=[]\n",
    "        for k,v in d.items():\n",
    "            if v>=2:\n",
    "                ans_list.append(k)\n",
    "        return ans_list"
   ]
  },
  {
   "cell_type": "code",
   "execution_count": 418,
   "metadata": {},
   "outputs": [
    {
     "name": "stdout",
     "output_type": "stream",
     "text": [
      "[3, 2]\n"
     ]
    }
   ],
   "source": [
    "tmp = Solution()\n",
    "print(tmp.findDuplicates([4,3,2,7,8,2,3,1]))\n",
    "\n",
    "class Solution:\n",
    "    def findDuplicates(self, nums: List[int]) -> List[int]:\n",
    "        "
   ]
  },
  {
   "cell_type": "markdown",
   "metadata": {},
   "source": [
    "Given an array of integers where 1 ≤ a[i] ≤ n (n = size of array), some elements appear twice and others appear once.\n",
    "\n",
    "Find all the elements of [1, n] inclusive that do not appear in this array.\n",
    "\n",
    "Could you do it without extra space and in O(n) runtime? You may assume the returned list does not count as extra space.\n",
    "\n",
    "Example:\n",
    "\n",
    "Input:\n",
    "[4,3,2,7,8,2,3,1]\n",
    "\n",
    "Output:\n",
    "[5,6]"
   ]
  },
  {
   "cell_type": "code",
   "execution_count": 426,
   "metadata": {},
   "outputs": [
    {
     "name": "stdout",
     "output_type": "stream",
     "text": [
      "[5, 6]\n"
     ]
    }
   ],
   "source": [
    "input_list = [4,3,2,7,8,2,3,1]\n",
    "minimum = input_list[0] # assume\n",
    "for i in input_list:\n",
    "    if i < minimum:\n",
    "        minimum = i\n",
    "# print(minimum)\n",
    "maximum = input_list[0] # assume\n",
    "for i in input_list:\n",
    "    if i > maximum:\n",
    "        maximum = i\n",
    "# print(maximum)\n",
    "ans_list=[]\n",
    "for i in range(minimum,maximum+1,1):\n",
    "    if i not in input_list:\n",
    "        ans_list.append(i)\n",
    "print(ans_list)"
   ]
  },
  {
   "cell_type": "code",
   "execution_count": 431,
   "metadata": {},
   "outputs": [],
   "source": [
    "class Solution:\n",
    "    def findDisappearedNumbers(self, nums: [int]) -> [int]:\n",
    "        input_list = nums\n",
    "        minimum = input_list[0] # assume\n",
    "        for i in input_list:\n",
    "            if i < minimum:\n",
    "                minimum = i\n",
    "        # print(minimum)\n",
    "        maximum = input_list[0] # assume\n",
    "        for i in input_list:\n",
    "            if i > maximum:\n",
    "                maximum = i\n",
    "        # print(maximum)\n",
    "        ans_list=[]\n",
    "        for i in range(minimum,maximum+1,1):\n",
    "            if i not in input_list:\n",
    "                ans_list.append(i)\n",
    "        return(ans_list)"
   ]
  },
  {
   "cell_type": "code",
   "execution_count": 432,
   "metadata": {},
   "outputs": [
    {
     "data": {
      "text/plain": [
       "[5, 6]"
      ]
     },
     "execution_count": 432,
     "metadata": {},
     "output_type": "execute_result"
    }
   ],
   "source": [
    "tmp=Solution()\n",
    "tmp.findDisappearedNumbers([4,3,2,7,8,2,3,1])"
   ]
  },
  {
   "cell_type": "code",
   "execution_count": 433,
   "metadata": {},
   "outputs": [
    {
     "name": "stdout",
     "output_type": "stream",
     "text": [
      "{'color': 'blue', 'fruit': 'apple', 'pet': 'dog'}\n"
     ]
    }
   ],
   "source": [
    " a_dict = {'color': 'blue', 'fruit': 'apple', 'pet': 'dog'}\n",
    "print(a_dict)"
   ]
  },
  {
   "cell_type": "code",
   "execution_count": 442,
   "metadata": {},
   "outputs": [
    {
     "name": "stdout",
     "output_type": "stream",
     "text": [
      "Keys -color\n",
      "values -blue\n",
      "Keys -fruit\n",
      "values -apple\n",
      "Keys -pet\n",
      "values -dog\n"
     ]
    }
   ],
   "source": [
    "for k,v in a_dict.items():\n",
    "    print('Keys -' + str(k))\n",
    "    print('values -' + str(v))"
   ]
  },
  {
   "cell_type": "code",
   "execution_count": 503,
   "metadata": {},
   "outputs": [
    {
     "name": "stdout",
     "output_type": "stream",
     "text": [
      "h counts- 1 times\n",
      "e counts- 1 times\n",
      "l counts- 2 times\n",
      "o counts- 1 times\n",
      "------------------------------------------------------\n",
      "{'h': 1, 'e': 1, 'l': 2, 'o': 1}\n"
     ]
    }
   ],
   "source": [
    "# count a character in given string\n",
    "# method 1\n",
    "s = 'hello'\n",
    "tmp = ''\n",
    "for i in s:\n",
    "    if i not in tmp:\n",
    "        print(str(i)+' counts- ' +str(s.count(i))+' times')\n",
    "        tmp=tmp+i\n",
    "print(\"------------------------------------------------------\")\n",
    "\n",
    "# method -2 wth the use dictionay\n",
    "s ='hello'\n",
    "ans_dict={}\n",
    "for i in s:\n",
    "    if i in ans_dict:\n",
    "        ans_dict[i]=ans_dict[i]+1\n",
    "    else:\n",
    "        ans_dict[i] = 1\n",
    "print(ans_dict)"
   ]
  },
  {
   "cell_type": "code",
   "execution_count": 32,
   "metadata": {},
   "outputs": [
    {
     "data": {
      "text/plain": [
       "2"
      ]
     },
     "execution_count": 32,
     "metadata": {},
     "output_type": "execute_result"
    }
   ],
   "source": [
    "'hello'.count('l')"
   ]
  },
  {
   "cell_type": "code",
   "execution_count": 515,
   "metadata": {},
   "outputs": [
    {
     "name": "stdout",
     "output_type": "stream",
     "text": [
      "--------------Method 1-----------------------------\n",
      "2 comes -2 times\n",
      "1 comes -2 times\n",
      "3 comes -1 times\n",
      "--------------Method 2-----------------------------\n",
      "{2: 2, 1: 2, 3: 1}\n"
     ]
    }
   ],
   "source": [
    "# count a itme in give list\n",
    "print(\"--------------Method 1-----------------------------\")\n",
    "input_list = [2,2,1,1,3]\n",
    "tmp = []\n",
    "for i in input_list:\n",
    "    if i not in tmp:\n",
    "        print(str(i) +' comes -'+str(input_list.count(i))+ ' times')\n",
    "        tmp.append(i)\n",
    "        \n",
    "print(\"--------------Method 2-----------------------------\")\n",
    "input_list = [2,2,1,1,3]\n",
    "ans_dict={}\n",
    "for i in input_list:\n",
    "    if i in ans_dict:\n",
    "        ans_dict[i]=ans_dict[i]+1\n",
    "    else:\n",
    "        ans_dict[i]=1\n",
    "\n",
    "print(ans_dict)"
   ]
  },
  {
   "cell_type": "code",
   "execution_count": 471,
   "metadata": {},
   "outputs": [
    {
     "name": "stdout",
     "output_type": "stream",
     "text": [
      "[1, 3, 5, 6]\n",
      "[1, 3, 5, 6]\n"
     ]
    }
   ],
   "source": [
    "# remove duplicates frm list\n",
    "# method 1\n",
    "test_list = [1, 3, 5, 6, 3, 5, 6, 1]\n",
    "res = []\n",
    "for i in test_list:\n",
    "    if i not in res:\n",
    "        res.append(i)\n",
    "print(res)\n",
    "\n",
    "# method 2\n",
    "test_list = [1, 3, 5, 6, 3, 5, 6, 1]\n",
    "res = []\n",
    "[res.append(x) for x in test_list if x not in res]\n",
    "print(res)"
   ]
  },
  {
   "cell_type": "code",
   "execution_count": 66,
   "metadata": {},
   "outputs": [
    {
     "name": "stdout",
     "output_type": "stream",
     "text": [
      "['apple']\n"
     ]
    }
   ],
   "source": [
    "# find fruits start with latter \"a\"\n",
    "fruits = [\"apple\", \"banana\", \"cherry\", \"kiwi\", \"mango\"]\n",
    "newlist = []\n",
    "\n",
    "# for x in fruits:\n",
    "#     if \"a\" in x:\n",
    "#         newlist.append(x)\n",
    "\n",
    "for x in fruits:\n",
    "    if x[0] == 'a':\n",
    "        newlist.append(x)\n",
    "    \n",
    "print(newlist)\n"
   ]
  },
  {
   "cell_type": "code",
   "execution_count": 72,
   "metadata": {},
   "outputs": [
    {
     "data": {
      "text/plain": [
       "['appleapple', 'acherryacherry']"
      ]
     },
     "execution_count": 72,
     "metadata": {},
     "output_type": "execute_result"
    }
   ],
   "source": [
    "# find fruits start with latter \"a\" with list comprehension\n",
    "fruits = [\"apple\", \"banana\", \"acherry\", \"kiwi\", \"mango\"]\n",
    "[i for i in fruits if i[0]=='a']"
   ]
  },
  {
   "cell_type": "code",
   "execution_count": 74,
   "metadata": {},
   "outputs": [
    {
     "data": {
      "text/plain": [
       "[4, 16]"
      ]
     },
     "execution_count": 74,
     "metadata": {},
     "output_type": "execute_result"
    }
   ],
   "source": [
    "input_data = [1,3,2,4]\n",
    "[i*i for i in input_data if i%2==0]"
   ]
  },
  {
   "cell_type": "code",
   "execution_count": 531,
   "metadata": {},
   "outputs": [
    {
     "name": "stdout",
     "output_type": "stream",
     "text": [
      "1000\n",
      "-7890\n"
     ]
    }
   ],
   "source": [
    "# find maximum and minimum number in a list without using max and min function\n",
    "in_list =  [1, 3, 5, 6, 3, 5, 6, 1,1000,0,-7890]\n",
    "maxx = in_list[0]\n",
    "\n",
    "for i in in_list:\n",
    "    if maxx < i:\n",
    "        maxx =i\n",
    "print(maxx)\n",
    "\n",
    "res=[]\n",
    "minn = in_list[0]\n",
    "for i in in_list:\n",
    "    if minn > i:\n",
    "        minn = i\n",
    "        \n",
    "print(minn)"
   ]
  },
  {
   "cell_type": "code",
   "execution_count": 555,
   "metadata": {},
   "outputs": [
    {
     "name": "stdout",
     "output_type": "stream",
     "text": [
      "[2, 4, 12]\n"
     ]
    }
   ],
   "source": [
    "# sort a list without sort function\n",
    "in_list = [12,4,2]\n",
    "res =[]\n",
    "while in_list:\n",
    "    minn = in_list[0]\n",
    "    for i in in_list:\n",
    "        if i < minn:\n",
    "            minn = i\n",
    "    res.append(minn)\n",
    "    in_list.remove(minn)\n",
    "print(res)"
   ]
  },
  {
   "cell_type": "code",
   "execution_count": 2,
   "metadata": {},
   "outputs": [
    {
     "data": {
      "text/plain": [
       "4"
      ]
     },
     "execution_count": 2,
     "metadata": {},
     "output_type": "execute_result"
    }
   ],
   "source": [
    "nums = [1,2,3,1,1,3]\n",
    "def numIdenticalPairs(nums: [int]):\n",
    "    count_nums = {}\n",
    "    count_pairs = 0\n",
    "\n",
    "    for num in nums[-1::-1]:\n",
    "        count_num = count_nums.get(num, 0)\n",
    "        count_nums[num] = count_num + 1\n",
    "\n",
    "        count_pairs += count_num\n",
    "\n",
    "    return count_pairs\n",
    "\n",
    "numIdenticalPairs(nums)"
   ]
  },
  {
   "cell_type": "code",
   "execution_count": 44,
   "metadata": {},
   "outputs": [],
   "source": [
    "count_nums = {}\n",
    "count_nums.get(num, 0)"
   ]
  },
  {
   "cell_type": "code",
   "execution_count": 585,
   "metadata": {},
   "outputs": [
    {
     "name": "stdout",
     "output_type": "stream",
     "text": [
      "4\n"
     ]
    }
   ],
   "source": [
    "nums = [1,2,3,1,1,3]\n",
    "cnt = 0\n",
    "for i in range(len(nums)):\n",
    "    c = nums[i]\n",
    "    for j in range(i+1,len(nums)):\n",
    "        if (nums[j] == c ):\n",
    "            cnt =cnt+1\n",
    "print(cnt)"
   ]
  },
  {
   "cell_type": "markdown",
   "metadata": {},
   "source": [
    "#### Given a non-empty list of words, return the k most frequent elements."
   ]
  },
  {
   "cell_type": "code",
   "execution_count": null,
   "metadata": {},
   "outputs": [],
   "source": [
    "# Input: [\"i\", \"love\", \"leetcode\", \"i\", \"love\", \"coding\"], k = 2\n",
    "# Output: [\"i\", \"love\"]\n",
    "# Explanation: \"i\" and \"love\" are the two most frequent words.\n",
    "# Note that \"i\" comes before \"love\" due to a lower alphabetical order."
   ]
  },
  {
   "cell_type": "code",
   "execution_count": 76,
   "metadata": {},
   "outputs": [
    {
     "ename": "SyntaxError",
     "evalue": "invalid syntax (<ipython-input-76-3298bdafda05>, line 2)",
     "output_type": "error",
     "traceback": [
      "\u001b[1;36m  File \u001b[1;32m\"<ipython-input-76-3298bdafda05>\"\u001b[1;36m, line \u001b[1;32m2\u001b[0m\n\u001b[1;33m    def topKFrequent(self, words: [str], n: int):\u001b[0m\n\u001b[1;37m                                ^\u001b[0m\n\u001b[1;31mSyntaxError\u001b[0m\u001b[1;31m:\u001b[0m invalid syntax\n"
     ]
    }
   ],
   "source": [
    "class Solution:\n",
    "    def topKFrequent(self, words: [str], n: int):\n",
    "        res = {}\n",
    "        in_list = words\n",
    "        for i in in_list:\n",
    "            if i in res:\n",
    "                res[i] = res[i]+1\n",
    "            else:\n",
    "                res[i]=1\n",
    "        print(res)\n",
    "\n",
    "        sorted_values = sorted(res.values(),reverse = True)\n",
    "        print(sorted_values)\n",
    "        sorted_dict={}\n",
    "        for v in sorted_values:\n",
    "            for k in res.keys():\n",
    "                if res[k] == v:\n",
    "                    sorted_dict[k] = res[k]\n",
    "        data_items= sorted_dict.items()\n",
    "#         k = 4\n",
    "        result = list(data_items)[:n]\n",
    "\n",
    "        res_list = []\n",
    "        for i in result:\n",
    "            res_list.append(i[0])\n",
    "#         print(res_list)\n",
    "        return(res_list)"
   ]
  },
  {
   "cell_type": "code",
   "execution_count": 23,
   "metadata": {},
   "outputs": [
    {
     "name": "stdout",
     "output_type": "stream",
     "text": [
      "{'the': 4, 'day': 1, 'is': 3, 'sunny': 2}\n",
      "[4, 3, 2, 1]\n"
     ]
    },
    {
     "data": {
      "text/plain": [
       "['the', 'is', 'sunny', 'day']"
      ]
     },
     "execution_count": 23,
     "metadata": {},
     "output_type": "execute_result"
    }
   ],
   "source": [
    "tmp=Solution()\n",
    "tmp.topKFrequent([\"the\", \"day\", \"is\", \"sunny\", \"the\", \"the\", \"the\", \"sunny\", \"is\", \"is\"],4)"
   ]
  },
  {
   "cell_type": "code",
   "execution_count": 25,
   "metadata": {},
   "outputs": [
    {
     "name": "stdout",
     "output_type": "stream",
     "text": [
      "{'i': 2, 'love': 2, 'leetcode': 1, 'coding': 1}\n",
      "[2, 2, 1, 1]\n"
     ]
    },
    {
     "data": {
      "text/plain": [
       "['i', 'love']"
      ]
     },
     "execution_count": 25,
     "metadata": {},
     "output_type": "execute_result"
    }
   ],
   "source": [
    "tmp=Solution()\n",
    "tmp.topKFrequent([\"i\", \"love\", \"leetcode\", \"i\", \"love\", \"coding\"],2)"
   ]
  },
  {
   "cell_type": "code",
   "execution_count": null,
   "metadata": {},
   "outputs": [],
   "source": [
    "tmp = MathOperations()\n",
    "print (tmp.testAddition(2,3))"
   ]
  },
  {
   "cell_type": "code",
   "execution_count": 77,
   "metadata": {},
   "outputs": [
    {
     "name": "stdout",
     "output_type": "stream",
     "text": [
      "[('i', 2), ('coding', 1), ('love', 2), ('leetcode', 1)]\n",
      "[('i', 2), ('coding', 1), ('love', 2)]\n",
      "['i', 'coding', 'love']\n"
     ]
    }
   ],
   "source": [
    "in_list = [\"i\", \"love\", \"leetcode\", \"i\", \"love\", \"coding\"]\n",
    "n = 3\n",
    "res = {}\n",
    "for i in in_list:\n",
    "    if i in res:\n",
    "        res[i] = res[i]+1\n",
    "    else:\n",
    "        res[i]=1\n",
    "# print(res)\n",
    "\n",
    "sorted_values = sorted(res.values(),reverse = True)\n",
    "sorted_dict={}\n",
    "for v in sorted_values:\n",
    "    for k in res.keys():\n",
    "        if res[k] == v:\n",
    "            sorted_dict[k] = res[k]\n",
    "data_items= sorted_dict.items()\n",
    "# data_item.sort()\n",
    "print(data_items)\n",
    "result = list(data_items)[:n]\n",
    "print(result)\n",
    "res_list = []\n",
    "for i in result:\n",
    "    res_list.append(i[0])\n",
    "print(res_list)"
   ]
  },
  {
   "cell_type": "code",
   "execution_count": 678,
   "metadata": {},
   "outputs": [
    {
     "name": "stdout",
     "output_type": "stream",
     "text": [
      "{'i': 2, 'love': 2, 'leetcode': 1, 'coding': 1}\n",
      "dict_items([('i', 2), ('love', 2), ('leetcode', 1), ('coding', 1)])\n",
      "[('i', 2), ('love', 2), ('leetcode', 1)]\n",
      "['i', 'love', 'leetcode']\n"
     ]
    }
   ],
   "source": [
    "in_list = [\"i\", \"love\", \"leetcode\", \"i\", \"love\", \"coding\"]\n",
    "n = 3\n",
    "res = {}\n",
    "for i in in_list:\n",
    "    if i in res:\n",
    "        res[i] = res[i]+1\n",
    "    else:\n",
    "        res[i]=1\n",
    "print(res)\n",
    "\n",
    "sorted_values = sorted(res.values(),reverse = True)\n",
    "sorted_dict={}\n",
    "for v in sorted_values:\n",
    "    for k in res.keys():\n",
    "        if res[k] == v:\n",
    "            sorted_dict[k] = res[k]\n",
    "data_items= sorted_dict.items()\n",
    "print(data_items)\n",
    "# sorted_keys = sorted(res.keys())\n",
    "# print(sorted_keys)\n",
    "result = list(data_items)[:n]\n",
    "print(result)\n",
    "res_list = []\n",
    "for i in result:\n",
    "    res_list.append(i[0])\n",
    "print(res_list)"
   ]
  },
  {
   "cell_type": "markdown",
   "metadata": {},
   "source": [
    "#### print first non repeting number from input sting "
   ]
  },
  {
   "cell_type": "code",
   "execution_count": 85,
   "metadata": {},
   "outputs": [
    {
     "name": "stdout",
     "output_type": "stream",
     "text": [
      "1\n"
     ]
    }
   ],
   "source": [
    "s = 'a1aabbcccddddeeef'\n",
    "# s = 'abcbad'\n",
    "res = []\n",
    "for i in s:\n",
    "    if (s.count(i) == 1):\n",
    "        res.append(i)\n",
    "print(res[0])"
   ]
  },
  {
   "cell_type": "markdown",
   "metadata": {},
   "source": [
    "#### Print permutation of given string"
   ]
  },
  {
   "cell_type": "code",
   "execution_count": 87,
   "metadata": {},
   "outputs": [],
   "source": [
    "def permute(a, l, r): \n",
    "    if l == r: \n",
    "        print(a)\n",
    "    else: \n",
    "        for i in range(l, r + 1): \n",
    "            a[l], a[i] = a[i], a[l] \n",
    "            permute(a, l + 1, r) \n",
    "            a[l], a[i] = a[i], a[l] # backtrack "
   ]
  },
  {
   "cell_type": "code",
   "execution_count": 92,
   "metadata": {},
   "outputs": [
    {
     "name": "stdout",
     "output_type": "stream",
     "text": [
      "[1, 2, 3]\n",
      "[1, 3, 2]\n",
      "[2, 1, 3]\n",
      "[2, 3, 1]\n",
      "[3, 2, 1]\n",
      "[3, 1, 2]\n"
     ]
    }
   ],
   "source": [
    "# Driver program to test the above function \n",
    "input_list = [1,2,3]\n",
    "permute(input_list, 0, len(input_list)-1)"
   ]
  },
  {
   "cell_type": "markdown",
   "metadata": {},
   "source": [
    "#### write a program to print prime number between given number"
   ]
  },
  {
   "cell_type": "code",
   "execution_count": 37,
   "metadata": {},
   "outputs": [
    {
     "name": "stdout",
     "output_type": "stream",
     "text": [
      "5\n",
      "7\n",
      "11\n"
     ]
    }
   ],
   "source": [
    "# method 1\n",
    "for num in range(5,13):\n",
    "    if all(num%i!=0 for i in range(2,num)):\n",
    "        print(num)"
   ]
  },
  {
   "cell_type": "code",
   "execution_count": 109,
   "metadata": {},
   "outputs": [
    {
     "name": "stdout",
     "output_type": "stream",
     "text": [
      "5\n",
      "7\n",
      "11\n"
     ]
    }
   ],
   "source": [
    "# method 2 - this is more simple\n",
    "for x in range(5,13):\n",
    "    flag = False\n",
    "    if x>1:\n",
    "        for i in range(2,x):\n",
    "            if x%i == 0:\n",
    "                flag = True\n",
    "                break\n",
    "\n",
    "    if flag == False:\n",
    "        print(x)"
   ]
  },
  {
   "cell_type": "markdown",
   "metadata": {},
   "source": [
    "## Factorial of a number"
   ]
  },
  {
   "cell_type": "code",
   "execution_count": 41,
   "metadata": {},
   "outputs": [
    {
     "data": {
      "text/plain": [
       "24"
      ]
     },
     "execution_count": 41,
     "metadata": {},
     "output_type": "execute_result"
    }
   ],
   "source": [
    "def factorial(n):   \n",
    "    res = 1\n",
    "    for i in range(1,n+1):\n",
    "        res = res*i\n",
    "    return(res)\n",
    "\n",
    "factorial(4)"
   ]
  },
  {
   "cell_type": "markdown",
   "metadata": {},
   "source": [
    "## fibonacci series"
   ]
  },
  {
   "cell_type": "code",
   "execution_count": 339,
   "metadata": {},
   "outputs": [
    {
     "name": "stdout",
     "output_type": "stream",
     "text": [
      "Fibonacci Series\n",
      "0\n",
      "1\n"
     ]
    }
   ],
   "source": [
    "n =1\n",
    "\n",
    "n1, n2, cnt = 0,1,0\n",
    "\n",
    "if n<=0:\n",
    "    print('enther a positive number')\n",
    "# elif n == 1:\n",
    "#     print(n1)\n",
    "else:\n",
    "    print('Fibonacci Series')\n",
    "    while cnt<=n:\n",
    "        print(n1)\n",
    "        next_number = n1+n2\n",
    "        \n",
    "        n1 = n2\n",
    "        n2 = next_number\n",
    "        cnt = cnt+1"
   ]
  },
  {
   "cell_type": "code",
   "execution_count": 46,
   "metadata": {},
   "outputs": [],
   "source": [
    "def fibonacci(n):\n",
    "    n1, n2, cnt = 0,1,0\n",
    "\n",
    "    if n<=0:\n",
    "        return 'enter a number greater then 0'\n",
    "    else:\n",
    "        print('Fibonacci Series')\n",
    "        while cnt<=n:\n",
    "            print(n1)\n",
    "            next_number = n1+n2\n",
    "\n",
    "            n1 = n2\n",
    "            n2 = next_number\n",
    "            cnt = cnt+1"
   ]
  },
  {
   "cell_type": "code",
   "execution_count": 47,
   "metadata": {},
   "outputs": [
    {
     "data": {
      "text/plain": [
       "'enter a number greater then 0'"
      ]
     },
     "execution_count": 47,
     "metadata": {},
     "output_type": "execute_result"
    }
   ],
   "source": [
    "fibonacci(0)"
   ]
  },
  {
   "cell_type": "code",
   "execution_count": null,
   "metadata": {},
   "outputs": [],
   "source": []
  },
  {
   "cell_type": "markdown",
   "metadata": {},
   "source": [
    "## check for palindrom string"
   ]
  },
  {
   "cell_type": "code",
   "execution_count": 98,
   "metadata": {},
   "outputs": [],
   "source": [
    "def check_plindrom(s):\n",
    "#     print(s)\n",
    "    rev=''\n",
    "    for i in s:\n",
    "        rev=i+rev\n",
    "#     print(rev)\n",
    "    \n",
    "    if s==rev:\n",
    "        return(True)\n",
    "    else:\n",
    "        return(False)"
   ]
  },
  {
   "cell_type": "code",
   "execution_count": 101,
   "metadata": {},
   "outputs": [
    {
     "data": {
      "text/plain": [
       "True"
      ]
     },
     "execution_count": 101,
     "metadata": {},
     "output_type": "execute_result"
    }
   ],
   "source": [
    "check_plindrom('asdedsa')"
   ]
  },
  {
   "cell_type": "code",
   "execution_count": 106,
   "metadata": {},
   "outputs": [
    {
     "data": {
      "text/plain": [
       "'aadaa'"
      ]
     },
     "execution_count": 106,
     "metadata": {},
     "output_type": "execute_result"
    }
   ],
   "source": [
    "rev = ''.join(reversed('aadaa'))\n",
    "rev"
   ]
  },
  {
   "cell_type": "markdown",
   "metadata": {},
   "source": [
    "## print a set of duplicates in a list "
   ]
  },
  {
   "cell_type": "code",
   "execution_count": 141,
   "metadata": {},
   "outputs": [
    {
     "name": "stdout",
     "output_type": "stream",
     "text": [
      "(100, 4)\n",
      "(200, 3)\n"
     ]
    }
   ],
   "source": [
    "input_list = [100,200,100,100,200,300,200,100]\n",
    "d_dict ={}\n",
    "for i in input_list:\n",
    "    if i in d_dict:\n",
    "        d_dict[i] = d_dict[i]+1\n",
    "    else:\n",
    "        d_dict[i] = 1\n",
    "# print(d_dict)\n",
    "d_ans={}\n",
    "\n",
    "for i in d_dict.items():\n",
    "    if i[1]>1:\n",
    "#         d_ans[i] = d_ans[i]+[i]\n",
    "        print(i)"
   ]
  },
  {
   "cell_type": "code",
   "execution_count": 121,
   "metadata": {},
   "outputs": [
    {
     "name": "stdout",
     "output_type": "stream",
     "text": [
      "c\n"
     ]
    }
   ],
   "source": [
    "d = {1: 'a', 2: 'b', 3: 'c'}\n",
    "print(d[3])"
   ]
  },
  {
   "cell_type": "markdown",
   "metadata": {},
   "source": [
    "## Write a program to print number of word in give sentance"
   ]
  },
  {
   "cell_type": "code",
   "execution_count": 144,
   "metadata": {},
   "outputs": [
    {
     "data": {
      "text/plain": [
       "7"
      ]
     },
     "execution_count": 144,
     "metadata": {},
     "output_type": "execute_result"
    }
   ],
   "source": [
    "s = 'I am having a very nice day'\n",
    "len(s.split(' '))"
   ]
  },
  {
   "cell_type": "markdown",
   "metadata": {},
   "source": [
    "## write a function to search a given element in an list.\n"
   ]
  },
  {
   "cell_type": "code",
   "execution_count": 122,
   "metadata": {},
   "outputs": [],
   "source": [
    "def search(l,n):\n",
    "    c = 0\n",
    "    res = 0\n",
    "    for i in range(len(input_list)):\n",
    "    #     print(input_list[i])\n",
    "        if input_list[i] == n:\n",
    "            res = input_list[i]\n",
    "            c=c+1\n",
    "    if c >0:\n",
    "        return res\n",
    "    else:\n",
    "        print('not present')"
   ]
  },
  {
   "cell_type": "code",
   "execution_count": 123,
   "metadata": {},
   "outputs": [
    {
     "name": "stdout",
     "output_type": "stream",
     "text": [
      "not present\n"
     ]
    }
   ],
   "source": [
    "input_list = [1,2,2,4,4,4,4,4]\n",
    "search(input_list,18)"
   ]
  },
  {
   "cell_type": "markdown",
   "metadata": {},
   "source": [
    "## write a function to find out a digit from a string\n"
   ]
  },
  {
   "cell_type": "code",
   "execution_count": 214,
   "metadata": {},
   "outputs": [],
   "source": [
    "s = 'hello3'\n",
    "def find_digit(s):\n",
    "    res = 0\n",
    "    c = 0\n",
    "    for i in s:\n",
    "        if i.isdigit():\n",
    "            c=c+1\n",
    "            res = i\n",
    "            \n",
    "    if c>0:\n",
    "        return res\n",
    "    else:\n",
    "        return print('digit not found')"
   ]
  },
  {
   "cell_type": "code",
   "execution_count": 216,
   "metadata": {},
   "outputs": [
    {
     "name": "stdout",
     "output_type": "stream",
     "text": [
      "digit not found\n"
     ]
    }
   ],
   "source": [
    "find_digit('dddeeeeeee')"
   ]
  },
  {
   "cell_type": "code",
   "execution_count": 217,
   "metadata": {},
   "outputs": [
    {
     "name": "stdout",
     "output_type": "stream",
     "text": [
      "no\n"
     ]
    }
   ],
   "source": [
    "if 's' in [1,2,3]:\n",
    "    print('yes')\n",
    "else:\n",
    "    print('no')"
   ]
  },
  {
   "cell_type": "code",
   "execution_count": 226,
   "metadata": {},
   "outputs": [
    {
     "name": "stdout",
     "output_type": "stream",
     "text": [
      "no digit\n"
     ]
    }
   ],
   "source": [
    "input_list = ['ffff','hello']\n",
    "c=0\n",
    "res =[]\n",
    "for i in range(len(input_list)):\n",
    "    if str(input_list[i]).isdigit():\n",
    "        c=c+1\n",
    "        res.append(input_list[i])\n",
    "if c>0:\n",
    "    print(res)\n",
    "else:\n",
    "    print('no digit')"
   ]
  },
  {
   "cell_type": "markdown",
   "metadata": {},
   "source": [
    "#### delete any reoccurring character from given string"
   ]
  },
  {
   "cell_type": "code",
   "execution_count": 229,
   "metadata": {},
   "outputs": [
    {
     "name": "stdout",
     "output_type": "stream",
     "text": [
      "helo\n"
     ]
    }
   ],
   "source": [
    "s = 'hello'\n",
    "res = ''\n",
    "for i in s:\n",
    "    if i not in res:\n",
    "        res=res+i\n",
    "print(res)"
   ]
  },
  {
   "cell_type": "code",
   "execution_count": 230,
   "metadata": {},
   "outputs": [
    {
     "name": "stdout",
     "output_type": "stream",
     "text": [
      "[1, 2, 3, 4, 5]\n"
     ]
    }
   ],
   "source": [
    "input_list = [1,2,3,4,5,3,4]\n",
    "res = []\n",
    "for i in range(len(input_list)):\n",
    "    if input_list[i] not in res:\n",
    "        res.append(input_list[i])\n",
    "print(res)"
   ]
  },
  {
   "cell_type": "markdown",
   "metadata": {},
   "source": [
    "## 2Sum"
   ]
  },
  {
   "cell_type": "code",
   "execution_count": 8,
   "metadata": {},
   "outputs": [
    {
     "name": "stdout",
     "output_type": "stream",
     "text": [
      "[[6, 3], [2, 7], [4, 5], [1, 8]]\n"
     ]
    }
   ],
   "source": [
    "# this will print the pair of number where sum is equal to value of target\n",
    "nums = [3,2,7,11,15,5,4,8,1,6]\n",
    "target = 9\n",
    "# h={}\n",
    "res = []\n",
    "for i,n in enumerate(nums):\n",
    "# for n in nums:\n",
    "#     print(i,n)\n",
    "    temp = target - n\n",
    "    if temp in nums:\n",
    "        res.append([temp,n])\n",
    "        nums.remove(n)\n",
    "print(res)"
   ]
  },
  {
   "cell_type": "code",
   "execution_count": null,
   "metadata": {},
   "outputs": [],
   "source": []
  },
  {
   "cell_type": "code",
   "execution_count": 4,
   "metadata": {},
   "outputs": [
    {
     "name": "stdout",
     "output_type": "stream",
     "text": [
      "[[9, 0], [2, 1], [1, 2], [6, 5], [5, 6], [8, 7], [7, 8], [0, 9]]\n"
     ]
    }
   ],
   "source": [
    "# this will print the pair of index of number where sum is equal to value of target\n",
    "nums = [3,2,7,11,15,5,4,8,1,6]\n",
    "target = 9\n",
    "# h={}\n",
    "res = []\n",
    "for i,n in enumerate(nums):\n",
    "#     print(i,n)\n",
    "    temp = target - n\n",
    "    if temp in nums:\n",
    "        res.append([nums.index(temp),i])\n",
    "nums.remove(n)\n",
    "print(res)"
   ]
  },
  {
   "cell_type": "code",
   "execution_count": 11,
   "metadata": {},
   "outputs": [
    {
     "name": "stdout",
     "output_type": "stream",
     "text": [
      "[0, 1]\n",
      "[4, 5]\n"
     ]
    }
   ],
   "source": [
    "# this will print the pair of index of number where sum is equal to value of target\n",
    "nums = [2,7,11,15,5,4]\n",
    "target = 9\n",
    "h={}\n",
    "for i,n in enumerate(nums):\n",
    "#     print(i,n)\n",
    "    temp = target - n\n",
    "    if temp not in h:\n",
    "        h[n] = i\n",
    "    else:\n",
    "        print([h[temp],i])"
   ]
  },
  {
   "cell_type": "code",
   "execution_count": 266,
   "metadata": {},
   "outputs": [
    {
     "name": "stdout",
     "output_type": "stream",
     "text": [
      "[0, 3]\n"
     ]
    }
   ],
   "source": [
    "nums = [2,7,11,15]\n",
    "target = 17\n",
    "h ={}\n",
    "for i,n in enumerate(nums):\n",
    "#     print(i,n)\n",
    "    tmp = target - n\n",
    "    if tmp not in h:\n",
    "        h[n]=i\n",
    "    else:\n",
    "        print([h[tmp],i])"
   ]
  },
  {
   "cell_type": "code",
   "execution_count": 273,
   "metadata": {},
   "outputs": [
    {
     "data": {
      "text/plain": [
       "[1, 2, 7, 11, 15]"
      ]
     },
     "execution_count": 273,
     "metadata": {},
     "output_type": "execute_result"
    }
   ],
   "source": [
    "nums = [2,7,11,15,1]\n",
    "nums.sort()\n",
    "nums"
   ]
  },
  {
   "cell_type": "code",
   "execution_count": 272,
   "metadata": {},
   "outputs": [
    {
     "data": {
      "text/plain": [
       "['BMW', 'Ford', 'Volvo']"
      ]
     },
     "execution_count": 272,
     "metadata": {},
     "output_type": "execute_result"
    }
   ],
   "source": [
    "cars = ['Ford', 'BMW', 'Volvo']\n",
    "\n",
    "cars.sort()\n",
    "cars"
   ]
  },
  {
   "cell_type": "code",
   "execution_count": 275,
   "metadata": {},
   "outputs": [
    {
     "data": {
      "text/plain": [
       "[1, 2, 7, 11, 15]"
      ]
     },
     "execution_count": 275,
     "metadata": {},
     "output_type": "execute_result"
    }
   ],
   "source": [
    "sorted([2,7,11,15,1])"
   ]
  },
  {
   "cell_type": "code",
   "execution_count": 277,
   "metadata": {},
   "outputs": [
    {
     "data": {
      "text/plain": [
       "['Volvo', 'BMW', 'Ford']"
      ]
     },
     "execution_count": 277,
     "metadata": {},
     "output_type": "execute_result"
    }
   ],
   "source": [
    "cars = ['Ford', 'BMW', 'Volvo']\n",
    "cars.reverse()\n",
    "cars"
   ]
  },
  {
   "cell_type": "code",
   "execution_count": 15,
   "metadata": {},
   "outputs": [
    {
     "name": "stdout",
     "output_type": "stream",
     "text": [
      "65\n"
     ]
    },
    {
     "ename": "NameError",
     "evalue": "name 'ascii' is not defined",
     "output_type": "error",
     "traceback": [
      "\u001b[1;31m\u001b[0m",
      "\u001b[1;31mNameError\u001b[0mTraceback (most recent call last)",
      "\u001b[1;32m<ipython-input-15-c716e77dc9e3>\u001b[0m in \u001b[0;36m<module>\u001b[1;34m()\u001b[0m\n\u001b[0;32m      1\u001b[0m \u001b[1;32mprint\u001b[0m\u001b[1;33m(\u001b[0m\u001b[0mord\u001b[0m\u001b[1;33m(\u001b[0m\u001b[1;34m'A'\u001b[0m\u001b[1;33m)\u001b[0m\u001b[1;33m)\u001b[0m\u001b[1;33m\u001b[0m\u001b[0m\n\u001b[1;32m----> 2\u001b[1;33m \u001b[1;32mprint\u001b[0m\u001b[1;33m(\u001b[0m\u001b[0mascii\u001b[0m\u001b[1;33m(\u001b[0m\u001b[1;34m'A'\u001b[0m\u001b[1;33m)\u001b[0m\u001b[1;33m)\u001b[0m\u001b[1;33m\u001b[0m\u001b[0m\n\u001b[0m",
      "\u001b[1;31mNameError\u001b[0m: name 'ascii' is not defined"
     ]
    }
   ],
   "source": [
    "print(ord('A'))\n",
    "print(ascii('A'))"
   ]
  },
  {
   "cell_type": "code",
   "execution_count": 287,
   "metadata": {},
   "outputs": [
    {
     "data": {
      "text/plain": [
       "True"
      ]
     },
     "execution_count": 287,
     "metadata": {},
     "output_type": "execute_result"
    }
   ],
   "source": [
    "isinstance([2],list)"
   ]
  },
  {
   "cell_type": "code",
   "execution_count": 293,
   "metadata": {},
   "outputs": [
    {
     "data": {
      "text/plain": [
       "{(1, 'a'), (2, 'b'), (3, 'c')}"
      ]
     },
     "execution_count": 293,
     "metadata": {},
     "output_type": "execute_result"
    }
   ],
   "source": [
    "res= zip([1,2,3],['a','b','c'])\n",
    "set(res)"
   ]
  },
  {
   "cell_type": "markdown",
   "metadata": {},
   "source": [
    "### Find the missing number in the array"
   ]
  },
  {
   "cell_type": "code",
   "execution_count": 313,
   "metadata": {},
   "outputs": [
    {
     "name": "stdout",
     "output_type": "stream",
     "text": [
      "[1, 2, 3, 4, 5, 6, 7, 8]\n",
      "[4, 6]\n"
     ]
    }
   ],
   "source": [
    "l = [3, 7, 1, 2, 8, 5]\n",
    "tmp_list=[]\n",
    "for i in range(min(l),max(l)+1):\n",
    "    tmp_list.append(i)\n",
    "print(tmp_list)\n",
    "res = []\n",
    "for i in range(0,len(tmp_list)):\n",
    "#     print([i])\n",
    "    if tmp_list[i] not in l:\n",
    "        res.append(tmp_list[i])\n",
    "print(res)"
   ]
  },
  {
   "cell_type": "markdown",
   "metadata": {},
   "source": [
    "### Determine if the sum of two integers is equal to the given value"
   ]
  },
  {
   "cell_type": "code",
   "execution_count": 332,
   "metadata": {},
   "outputs": [],
   "source": [
    "def find_sum_of_two(A, val):\n",
    "    found_values = set()\n",
    "    for a in A:\n",
    "        if val - a in found_values:\n",
    "            return True\n",
    "        found_values.add(a)\n",
    "#         print(found_values)\n",
    "    return False"
   ]
  },
  {
   "cell_type": "code",
   "execution_count": 333,
   "metadata": {},
   "outputs": [
    {
     "data": {
      "text/plain": [
       "False"
      ]
     },
     "execution_count": 333,
     "metadata": {},
     "output_type": "execute_result"
    }
   ],
   "source": [
    "find_sum_of_two([1,2,3],10)"
   ]
  },
  {
   "cell_type": "markdown",
   "metadata": {},
   "source": [
    "### given a list A of objects and another list B which is identical to A except one element is removed findout that removed element.\n"
   ]
  },
  {
   "cell_type": "code",
   "execution_count": 23,
   "metadata": {},
   "outputs": [
    {
     "name": "stdout",
     "output_type": "stream",
     "text": [
      "\n"
     ]
    }
   ],
   "source": [
    "A = [3,4,4,5]\n",
    "B = [3,4,5]\n",
    "ans = ''\n",
    "for i in range(0,len(A)):\n",
    "        if A[i] not in B:\n",
    "            ans = A[i]\n",
    "print(ans)"
   ]
  },
  {
   "cell_type": "code",
   "execution_count": null,
   "metadata": {},
   "outputs": [],
   "source": []
  },
  {
   "cell_type": "markdown",
   "metadata": {},
   "source": [
    "#### Given two strings s1 and s2, write a function to return true if s2 contains the permutation of s1. In other words, one of the first string's permutations is the substring of the second string.\n",
    "Example 1:\n",
    "\n",
    "Input: s1 = \"ab\" s2 = \"eidbaooo\"\n",
    "Output: True\n",
    "Explanation: s2 contains one permutation of s1 (\"ba\").\n",
    "Example 2:\n",
    "\n",
    "Input:s1= \"ab\" s2 = \"eidboaoo\"\n",
    "Output: False\n",
    " \n",
    "Constraints:\n",
    "\n",
    "The input strings only contain lower case letters.\n",
    "The length of both given strings is in range [1, 10,000]."
   ]
  },
  {
   "cell_type": "code",
   "execution_count": 57,
   "metadata": {},
   "outputs": [
    {
     "name": "stdout",
     "output_type": "stream",
     "text": [
      "1\n",
      "True\n"
     ]
    }
   ],
   "source": [
    "from itertools import permutations \n",
    "  \n",
    "# Initialising string \n",
    "s1 = \"ab\"\n",
    "s2 = \"eidbaooo\"  \n",
    "permutation = [''.join(p) for p in permutations(ini_str)] \n",
    "\n",
    "flag = 0\n",
    "for i in range(0,len(permutation)):\n",
    "    \n",
    "    if permutation[i] in s2:\n",
    "#         print(permutation[i])\n",
    "        flag = 1\n",
    "print(flag)       \n",
    "if flag == 1:\n",
    "    print(True)\n",
    "else:\n",
    "    print(False)"
   ]
  },
  {
   "cell_type": "code",
   "execution_count": 65,
   "metadata": {},
   "outputs": [],
   "source": [
    "class Solution:\n",
    "    def checkInclusion(self, s1: str, s2: str) -> bool:\n",
    "        permutation = [''.join(p) for p in permutations(s1)] \n",
    "\n",
    "        flag = 0\n",
    "        for i in range(0,len(permutation)):\n",
    "\n",
    "            if permutation[i] in s2:\n",
    "        #         print(permutation[i])\n",
    "                flag = 1\n",
    "#         print(flag)       \n",
    "        if flag == 1:\n",
    "            return(True)\n",
    "        else:\n",
    "            return(False)"
   ]
  },
  {
   "cell_type": "code",
   "execution_count": 68,
   "metadata": {},
   "outputs": [
    {
     "name": "stdout",
     "output_type": "stream",
     "text": [
      "False\n"
     ]
    }
   ],
   "source": [
    "tmp = Solution()\n",
    "print (tmp.checkInclusion('abc','aassd'))"
   ]
  },
  {
   "cell_type": "markdown",
   "metadata": {},
   "source": [
    "#### In an alien language, surprisingly they also use english lowercase letters, but possibly in a different order. The order of the alphabet is some permutation of lowercase letters.\n",
    "\n",
    "Given a sequence of words written in the alien language, and the order of the alphabet, return true if and only if the given words are sorted lexicographicaly in this alien language.\n",
    "\n",
    " \n",
    "\n",
    "Example 1:\n",
    "\n",
    "Input: words = [\"hello\",\"leetcode\"], order = \"hlabcdefgijkmnopqrstuvwxyz\"\n",
    "Output: true\n",
    "Explanation: As 'h' comes before 'l' in this language, then the sequence is sorted.\n",
    "Example 2:\n",
    "\n",
    "Input: words = [\"word\",\"world\",\"row\"], order = \"worldabcefghijkmnpqstuvxyz\"\n",
    "Output: false\n",
    "Explanation: As 'd' comes after 'l' in this language, then words[0] > words[1], hence the sequence is unsorted.\n",
    "Example 3:\n",
    "\n",
    "Input: words = [\"apple\",\"app\"], order = \"abcdefghijklmnopqrstuvwxyz\"\n",
    "Output: false\n",
    "Explanation: The first three characters \"app\" match, and the second string is shorter (in size.) According to lexicographical rules \"apple\" > \"app\", because 'l' > '∅', where '∅' is defined as the blank character which is less than any other character (More info).\n",
    " \n",
    "\n",
    "Constraints:\n",
    "\n",
    "1 <= words.length <= 100\n",
    "1 <= words[i].length <= 20\n",
    "order.length == 26\n",
    "All characters in words[i] and order are English lowercase letters."
   ]
  },
  {
   "cell_type": "code",
   "execution_count": null,
   "metadata": {},
   "outputs": [],
   "source": []
  },
  {
   "cell_type": "markdown",
   "metadata": {},
   "source": [
    "#### Amazon mock interview fomr leetcode - \n",
    "Given an array nums of integers and integer k, return the maximum sum such that there exists i < j with nums[i] + nums[j] = sum and sum < k. If no i, j exist satisfying this equation, return -1.\n",
    "\n",
    " \n",
    "\n",
    "Example 1:\n",
    "\n",
    "Input: nums = [34,23,1,24,75,33,54,8], k = 60\n",
    "Output: 58\n",
    "Explanation: We can use 34 and 24 to sum 58 which is less than 60.\n",
    "Example 2:\n",
    "\n",
    "Input: nums = [10,20,30], k = 15\n",
    "Output: -1\n",
    "Explanation: In this case it is not possible to get a pair sum less that 15.\n",
    " \n",
    "\n",
    "Constraints:\n",
    "\n",
    "1 <= nums.length <= 100\n",
    "1 <= nums[i] <= 1000\n",
    "1 <= k <= 2000"
   ]
  },
  {
   "cell_type": "markdown",
   "metadata": {},
   "source": [
    "#### Amazon mock interview fomr leetcode -  \n",
    "Given an array of n integers nums, a 132 pattern is a subsequence of three integers nums[i], nums[j] and nums[k] such that i < j < k and nums[i] < nums[k] < nums[j].\n",
    "\n",
    "Return true if there is a 132 pattern in nums, otherwise, return false.\n",
    "\n",
    "Follow up: The O(n^2) is trivial, could you come up with the O(n logn) or the O(n) solution?\n",
    "\n",
    " \n",
    "\n",
    "Example 1:\n",
    "\n",
    "Input: nums = [1,2,3,4]\n",
    "Output: false\n",
    "Explanation: There is no 132 pattern in the sequence.\n",
    "Example 2:\n",
    "\n",
    "Input: nums = [3,1,4,2]\n",
    "Output: true\n",
    "Explanation: There is a 132 pattern in the sequence: [1, 4, 2].\n",
    "Example 3:\n",
    "\n",
    "Input: nums = [-1,3,2,0]\n",
    "Output: true\n",
    "Explanation: There are three 132 patterns in the sequence: [-1, 3, 2], [-1, 3, 0] and [-1, 2, 0].\n",
    " \n",
    "\n",
    "Constraints:\n",
    "\n",
    "n == nums.length\n",
    "1 <= n <= 104\n",
    "-109 <= nums[i] <= 109"
   ]
  },
  {
   "attachments": {
    "image.png": {
     "image/png": "[encoded data removed]"
    }
   },
   "cell_type": "markdown",
   "metadata": {},
   "source": [
    "### 1. Replace None value with previous value present in a list. ![image.png](attachment:image.png)"
   ]
  },
  {
   "cell_type": "code",
   "execution_count": 62,
   "metadata": {},
   "outputs": [
    {
     "data": {
      "text/plain": [
       "[None, 2, 3, 3, 3]"
      ]
     },
     "execution_count": 62,
     "metadata": {},
     "output_type": "execute_result"
    }
   ],
   "source": [
    "l = [None,2,3,None,None]\n",
    "def non_value(l):\n",
    "    for i in range(len(l)):\n",
    "        if l[i]==None:\n",
    "            l[i]=l[i-1]\n",
    "    return(l)\n",
    "non_value(l)"
   ]
  },
  {
   "cell_type": "code",
   "execution_count": null,
   "metadata": {},
   "outputs": [],
   "source": []
  },
  {
   "cell_type": "code",
   "execution_count": 65,
   "metadata": {},
   "outputs": [
    {
     "data": {
      "text/plain": [
       "[7, 2, 3, 4, None]"
      ]
     },
     "execution_count": 65,
     "metadata": {},
     "output_type": "execute_result"
    }
   ],
   "source": [
    "l = [7,2,3,4,None]\n",
    "[i if i==None else i for i in l]\n",
    "# https://towardsdatascience.com/a-gentle-introduction-to-flow-control-loops-and-list-comprehensions-for-beginners-3dbaabd7cd8a"
   ]
  },
  {
   "cell_type": "code",
   "execution_count": 68,
   "metadata": {},
   "outputs": [
    {
     "data": {
      "text/plain": [
       "[17, 12, 13, 14]"
      ]
     },
     "execution_count": 68,
     "metadata": {},
     "output_type": "execute_result"
    }
   ],
   "source": [
    "l = [7,2,3,4,None]\n",
    "[x+10 for x in l if x != None]"
   ]
  },
  {
   "cell_type": "markdown",
   "metadata": {},
   "source": [
    "### Fizz Buzz"
   ]
  },
  {
   "cell_type": "code",
   "execution_count": 79,
   "metadata": {},
   "outputs": [
    {
     "name": "stdout",
     "output_type": "stream",
     "text": [
      "1\n",
      "2\n",
      "Fizz\n",
      "4\n",
      "Buzz\n",
      "Fizz\n",
      "7\n",
      "8\n",
      "Fizz\n",
      "Buzz\n",
      "11\n",
      "Fizz\n",
      "13\n",
      "14\n",
      "FizzBuzz\n",
      "16\n",
      "17\n",
      "Fizz\n",
      "19\n",
      "Buzz\n",
      "Fizz\n",
      "22\n",
      "23\n",
      "Fizz\n",
      "Buzz\n",
      "26\n",
      "Fizz\n",
      "28\n",
      "29\n",
      "FizzBuzz\n"
     ]
    }
   ],
   "source": [
    "n = 30\n",
    "for i in range(1,n+1):\n",
    "    if (i%3==0 and i%5==0):\n",
    "        print('FizzBuzz')\n",
    "    elif i%5==0:\n",
    "        print('Buzz')\n",
    "    elif (i%3==0):\n",
    "        print('Fizz')\n",
    "    else:\n",
    "        print(i)"
   ]
  },
  {
   "cell_type": "markdown",
   "metadata": {},
   "source": [
    "### Reverse a list"
   ]
  },
  {
   "cell_type": "code",
   "execution_count": 84,
   "metadata": {},
   "outputs": [
    {
     "name": "stdout",
     "output_type": "stream",
     "text": [
      "[4, 3, 2, 1]\n"
     ]
    }
   ],
   "source": [
    "l = [1,2,3,4]\n",
    "res = []\n",
    "for i in range(len(l),0,-1):\n",
    "    res.append(i)\n",
    "print(res)"
   ]
  },
  {
   "cell_type": "markdown",
   "metadata": {},
   "source": [
    "### Calculate the average word length.\n",
    "For the given set of words return the average word length."
   ]
  },
  {
   "cell_type": "code",
   "execution_count": 113,
   "metadata": {},
   "outputs": [
    {
     "name": "stdout",
     "output_type": "stream",
     "text": [
      "4.5\n"
     ]
    }
   ],
   "source": [
    "l = ['hello', 'world', 'howff', 'areee', 'yourr','ww']\n",
    "word_length = []\n",
    "for i in l:\n",
    "    word_length.append(len(i))\n",
    "    \n",
    "summ = 0\n",
    "cnt = 0\n",
    "for i in range(len(word_length)):\n",
    "    summ=summ+word_length[i]\n",
    "    cnt = cnt+1\n",
    "print(summ*1.0/cnt)\n",
    "# print(summ)\n",
    "# print(cnt)"
   ]
  },
  {
   "cell_type": "code",
   "execution_count": 32,
   "metadata": {},
   "outputs": [
    {
     "name": "stdout",
     "output_type": "stream",
     "text": [
      "CDEF\n"
     ]
    }
   ],
   "source": [
    "def longestSubstringFinder(string1, string2):\n",
    "    answer = \"\"\n",
    "    len1, len2 = len(string1), len(string2)\n",
    "    for i in range(len1):\n",
    "        match = \"\"\n",
    "        for j in range(len2):\n",
    "            if (i + j < len1 and string1[i + j] == string2[j]):\n",
    "                match += string2[j]\n",
    "            else:\n",
    "                if (len(match) > len(answer)): answer = match\n",
    "                match = \"\"\n",
    "    return answer\n",
    "\n",
    "# print longestSubstringFinder(\"apple pie available\", \"apple pies\")\n",
    "# print (longestSubstringFinder(\"apples\", \"appleses\"))\n",
    "print (longestSubstringFinder(\"CDEFAB\", \"CDEFXY\"))"
   ]
  },
  {
   "cell_type": "code",
   "execution_count": 24,
   "metadata": {},
   "outputs": [],
   "source": [
    "# ______\n",
    "# ### Problem 2\n",
    "\n",
    "# **Given an integer, create a function which returns the sum of all the individual digits in that integer. For example:\n",
    "# if n = 4321, return 4+3+2+1**\n",
    "\n",
    "def sum_all_individuals(n):\n",
    "    \n",
    "    #base case\n",
    "    if n<10 :\n",
    "        return n\n",
    "#     print(n)\n",
    "    res = n%10+sum_all_individuals(n//10)\n",
    "    \n",
    "    return res"
   ]
  },
  {
   "cell_type": "code",
   "execution_count": 25,
   "metadata": {},
   "outputs": [
    {
     "data": {
      "text/plain": [
       "20"
      ]
     },
     "execution_count": 25,
     "metadata": {},
     "output_type": "execute_result"
    }
   ],
   "source": [
    "sum_all_individuals(34562)"
   ]
  },
  {
   "cell_type": "code",
   "execution_count": 64,
   "metadata": {},
   "outputs": [],
   "source": [
    "# ________\n",
    "# ### Problem 3\n",
    "# *Note, this is a more advanced problem than the previous two! It aso has a lot of variation possibilities and we're ignoring strict requirements here.*\n",
    "\n",
    "# Create a function called word_split() which takes in a string **phrase** and a set **list_of_words**. The function will then determine if it is possible to split the string in a way in which words can be made from the list of words. You can assume the phrase will only contain words found in the dictionary if it is completely splittable.\n",
    "\n",
    "# For example:\n",
    "\n",
    "def word_split(phrase,list_of_words):\n",
    "    res =[]\n",
    "    flag = False\n",
    "    for word in list_of_words:\n",
    "        for i in word:\n",
    "            if i in phrase:\n",
    "                flag = True\n",
    "            else:\n",
    "                flag = False\n",
    "        if flag == True:\n",
    "            res.append(word)\n",
    "    return res"
   ]
  },
  {
   "cell_type": "code",
   "execution_count": 65,
   "metadata": {},
   "outputs": [
    {
     "data": {
      "text/plain": [
       "['i', 'dogs', 'love', 'John']"
      ]
     },
     "execution_count": 65,
     "metadata": {},
     "output_type": "execute_result"
    }
   ],
   "source": [
    "word_split('ilovedogsJohn',['i','am','a','dogs','lover','love','John'])"
   ]
  },
  {
   "cell_type": "code",
   "execution_count": 66,
   "metadata": {},
   "outputs": [
    {
     "data": {
      "text/plain": [
       "['the', 'ran', 'man']"
      ]
     },
     "execution_count": 66,
     "metadata": {},
     "output_type": "execute_result"
    }
   ],
   "source": [
    "word_split('themanran',['the','ran','man'])"
   ]
  },
  {
   "cell_type": "code",
   "execution_count": 69,
   "metadata": {},
   "outputs": [
    {
     "data": {
      "text/plain": [
       "['ra', 'ma']"
      ]
     },
     "execution_count": 69,
     "metadata": {},
     "output_type": "execute_result"
    }
   ],
   "source": [
    "word_split('themanran',['clown','ran','man']) # this is not working"
   ]
  },
  {
   "cell_type": "markdown",
   "metadata": {},
   "source": [
    "to-do questions - \n",
    "Reverse a String: Write a function to reverse a given string.\n",
    "\n",
    "Check for Anagrams: Create a function to check if two strings are anagrams of each other.\n",
    "\n",
    "Find the First Non-Repeated Character: Write a function to find the first non-repeated character in a string.\n",
    "\n",
    "Count Vowels and Consonants: Create a function to count the number of vowels and consonants in a string.\n",
    "\n",
    "Fibonacci Sequence: Write a function to generate the Fibonacci sequence up to a specified number of terms.\n",
    "\n",
    "Palindrome Check: Implement a function to check if a given string is a palindrome.\n",
    "\n",
    "Remove Duplicates: Write a function to remove duplicates from a list.\n",
    "\n",
    "Factorial: Implement a function to calculate the factorial of a number.\n",
    "\n",
    "Two Sum: Given an array and a target sum, find two numbers that add up to the target.\n",
    "\n",
    "Longest Common Prefix: Write a function to find the longest common prefix among a list of strings.\n",
    "\n",
    "Merge Intervals: Given a list of intervals, merge any overlapping intervals.\n",
    "\n",
    "Reverse a Linked List: Implement a function to reverse a singly linked list.\n",
    "\n",
    "Binary Search: Write a binary search function to find an element in a sorted array.\n",
    "\n",
    "Depth-First Search (DFS): Implement a depth-first search algorithm on a graph or tree.\n",
    "\n",
    "Breadth-First Search (BFS): Implement a breadth-first search algorithm on a graph or tree.\n",
    "\n",
    "Implement a Stack and Queue: Create classes for a stack and a queue and implement their operations.\n",
    "\n",
    "Implement a Hash Table: Create a basic hash table or dictionary data structure.\n",
    "\n",
    "Anagram Groups: Given a list of words, group the anagrams together.\n",
    "\n",
    "Maximum Subarray Sum: Find the contiguous subarray with the largest sum.\n",
    "\n",
    "Top K Frequent Elements: Find the k most frequent elements in an array.\n"
   ]
  },
  {
   "cell_type": "markdown",
   "metadata": {},
   "source": [
    "### Practice Pandas basic Operations "
   ]
  },
  {
   "cell_type": "code",
   "execution_count": 1,
   "metadata": {},
   "outputs": [],
   "source": [
    "import pandas as pd\n",
    "data = [1, 2, 3, 4]\n",
    "series = pd.Series(data)"
   ]
  },
  {
   "cell_type": "code",
   "execution_count": 3,
   "metadata": {},
   "outputs": [
    {
     "data": {
      "text/plain": [
       "0    1\n",
       "1    2\n",
       "2    3\n",
       "3    4\n",
       "dtype: int64"
      ]
     },
     "execution_count": 3,
     "metadata": {},
     "output_type": "execute_result"
    }
   ],
   "source": [
    "# Creating a pandas Series:\n",
    "series"
   ]
  },
  {
   "cell_type": "code",
   "execution_count": 29,
   "metadata": {},
   "outputs": [
    {
     "name": "stdout",
     "output_type": "stream",
     "text": [
      "       name   age       dept\n",
      "0  sourabha  10.0         IT\n",
      "1    Ramesh  20.0         IT\n",
      "2    Mahesh  30.0      SALES\n",
      "3     Rahul   NaN  MARKETING\n",
      "4     Vivek  40.0      SALES\n",
      "5    Anshul  36.0       None\n",
      "6      None   NaN      SALES\n"
     ]
    }
   ],
   "source": [
    "# Filtering rows based on a condition:\n",
    "data = [['sourabha',10,'IT'],\n",
    "        ['Ramesh',20,'IT'],\n",
    "        ['Mahesh',30,'SALES'],\n",
    "        ['Rahul',None,'MARKETING'],['Vivek',40,'SALES'],\n",
    "        ['Anshul',36,None],[None,None,'SALES']]\n",
    "df=pd.DataFrame(data=data,columns=[\"name\",'age','dept'],dtype=None)\n",
    "print(df)"
   ]
  },
  {
   "cell_type": "code",
   "execution_count": 31,
   "metadata": {},
   "outputs": [
    {
     "data": {
      "text/html": [
       "<div>\n",
       "<style scoped>\n",
       "    .dataframe tbody tr th:only-of-type {\n",
       "        vertical-align: middle;\n",
       "    }\n",
       "\n",
       "    .dataframe tbody tr th {\n",
       "        vertical-align: top;\n",
       "    }\n",
       "\n",
       "    .dataframe thead th {\n",
       "        text-align: right;\n",
       "    }\n",
       "</style>\n",
       "<table border=\"1\" class=\"dataframe\">\n",
       "  <thead>\n",
       "    <tr style=\"text-align: right;\">\n",
       "      <th></th>\n",
       "      <th>name</th>\n",
       "      <th>age</th>\n",
       "      <th>dept</th>\n",
       "    </tr>\n",
       "  </thead>\n",
       "  <tbody>\n",
       "    <tr>\n",
       "      <th>2</th>\n",
       "      <td>Mahesh</td>\n",
       "      <td>30.0</td>\n",
       "      <td>SALES</td>\n",
       "    </tr>\n",
       "    <tr>\n",
       "      <th>4</th>\n",
       "      <td>Vivek</td>\n",
       "      <td>40.0</td>\n",
       "      <td>SALES</td>\n",
       "    </tr>\n",
       "    <tr>\n",
       "      <th>6</th>\n",
       "      <td>None</td>\n",
       "      <td>NaN</td>\n",
       "      <td>SALES</td>\n",
       "    </tr>\n",
       "  </tbody>\n",
       "</table>\n",
       "</div>"
      ],
      "text/plain": [
       "     name   age   dept\n",
       "2  Mahesh  30.0  SALES\n",
       "4   Vivek  40.0  SALES\n",
       "6    None   NaN  SALES"
      ]
     },
     "execution_count": 31,
     "metadata": {},
     "output_type": "execute_result"
    }
   ],
   "source": [
    "filtered_df = df[df['dept']=='SALES' ]\n",
    "filtered_df"
   ]
  },
  {
   "cell_type": "code",
   "execution_count": 33,
   "metadata": {},
   "outputs": [
    {
     "data": {
      "text/html": [
       "<div>\n",
       "<style scoped>\n",
       "    .dataframe tbody tr th:only-of-type {\n",
       "        vertical-align: middle;\n",
       "    }\n",
       "\n",
       "    .dataframe tbody tr th {\n",
       "        vertical-align: top;\n",
       "    }\n",
       "\n",
       "    .dataframe thead th {\n",
       "        text-align: right;\n",
       "    }\n",
       "</style>\n",
       "<table border=\"1\" class=\"dataframe\">\n",
       "  <thead>\n",
       "    <tr style=\"text-align: right;\">\n",
       "      <th></th>\n",
       "      <th>name</th>\n",
       "      <th>dept</th>\n",
       "    </tr>\n",
       "  </thead>\n",
       "  <tbody>\n",
       "    <tr>\n",
       "      <th>0</th>\n",
       "      <td>sourabha</td>\n",
       "      <td>IT</td>\n",
       "    </tr>\n",
       "    <tr>\n",
       "      <th>1</th>\n",
       "      <td>Ramesh</td>\n",
       "      <td>IT</td>\n",
       "    </tr>\n",
       "    <tr>\n",
       "      <th>2</th>\n",
       "      <td>Mahesh</td>\n",
       "      <td>SALES</td>\n",
       "    </tr>\n",
       "    <tr>\n",
       "      <th>3</th>\n",
       "      <td>Rahul</td>\n",
       "      <td>MARKETING</td>\n",
       "    </tr>\n",
       "    <tr>\n",
       "      <th>4</th>\n",
       "      <td>Vivek</td>\n",
       "      <td>SALES</td>\n",
       "    </tr>\n",
       "    <tr>\n",
       "      <th>5</th>\n",
       "      <td>Anshul</td>\n",
       "      <td>None</td>\n",
       "    </tr>\n",
       "    <tr>\n",
       "      <th>6</th>\n",
       "      <td>None</td>\n",
       "      <td>SALES</td>\n",
       "    </tr>\n",
       "  </tbody>\n",
       "</table>\n",
       "</div>"
      ],
      "text/plain": [
       "       name       dept\n",
       "0  sourabha         IT\n",
       "1    Ramesh         IT\n",
       "2    Mahesh      SALES\n",
       "3     Rahul  MARKETING\n",
       "4     Vivek      SALES\n",
       "5    Anshul       None\n",
       "6      None      SALES"
      ]
     },
     "execution_count": 33,
     "metadata": {},
     "output_type": "execute_result"
    }
   ],
   "source": [
    "selected_columns = df[['name','dept']]\n",
    "selected_columns"
   ]
  },
  {
   "cell_type": "code",
   "execution_count": 34,
   "metadata": {},
   "outputs": [
    {
     "data": {
      "text/html": [
       "<div>\n",
       "<style scoped>\n",
       "    .dataframe tbody tr th:only-of-type {\n",
       "        vertical-align: middle;\n",
       "    }\n",
       "\n",
       "    .dataframe tbody tr th {\n",
       "        vertical-align: top;\n",
       "    }\n",
       "\n",
       "    .dataframe thead th {\n",
       "        text-align: right;\n",
       "    }\n",
       "</style>\n",
       "<table border=\"1\" class=\"dataframe\">\n",
       "  <thead>\n",
       "    <tr style=\"text-align: right;\">\n",
       "      <th></th>\n",
       "      <th>name</th>\n",
       "      <th>age</th>\n",
       "      <th>dept</th>\n",
       "    </tr>\n",
       "  </thead>\n",
       "  <tbody>\n",
       "    <tr>\n",
       "      <th>0</th>\n",
       "      <td>sourabha</td>\n",
       "      <td>10.0</td>\n",
       "      <td>IT</td>\n",
       "    </tr>\n",
       "    <tr>\n",
       "      <th>1</th>\n",
       "      <td>Ramesh</td>\n",
       "      <td>20.0</td>\n",
       "      <td>IT</td>\n",
       "    </tr>\n",
       "    <tr>\n",
       "      <th>2</th>\n",
       "      <td>Mahesh</td>\n",
       "      <td>30.0</td>\n",
       "      <td>SALES</td>\n",
       "    </tr>\n",
       "    <tr>\n",
       "      <th>4</th>\n",
       "      <td>Vivek</td>\n",
       "      <td>40.0</td>\n",
       "      <td>SALES</td>\n",
       "    </tr>\n",
       "  </tbody>\n",
       "</table>\n",
       "</div>"
      ],
      "text/plain": [
       "       name   age   dept\n",
       "0  sourabha  10.0     IT\n",
       "1    Ramesh  20.0     IT\n",
       "2    Mahesh  30.0  SALES\n",
       "4     Vivek  40.0  SALES"
      ]
     },
     "execution_count": 34,
     "metadata": {},
     "output_type": "execute_result"
    }
   ],
   "source": [
    "df.dropna()"
   ]
  },
  {
   "cell_type": "code",
   "execution_count": 35,
   "metadata": {},
   "outputs": [
    {
     "data": {
      "text/html": [
       "<div>\n",
       "<style scoped>\n",
       "    .dataframe tbody tr th:only-of-type {\n",
       "        vertical-align: middle;\n",
       "    }\n",
       "\n",
       "    .dataframe tbody tr th {\n",
       "        vertical-align: top;\n",
       "    }\n",
       "\n",
       "    .dataframe thead th {\n",
       "        text-align: right;\n",
       "    }\n",
       "</style>\n",
       "<table border=\"1\" class=\"dataframe\">\n",
       "  <thead>\n",
       "    <tr style=\"text-align: right;\">\n",
       "      <th></th>\n",
       "      <th>name</th>\n",
       "      <th>age</th>\n",
       "      <th>dept</th>\n",
       "    </tr>\n",
       "  </thead>\n",
       "  <tbody>\n",
       "    <tr>\n",
       "      <th>0</th>\n",
       "      <td>sourabha</td>\n",
       "      <td>10.0</td>\n",
       "      <td>IT</td>\n",
       "    </tr>\n",
       "    <tr>\n",
       "      <th>1</th>\n",
       "      <td>Ramesh</td>\n",
       "      <td>20.0</td>\n",
       "      <td>IT</td>\n",
       "    </tr>\n",
       "    <tr>\n",
       "      <th>2</th>\n",
       "      <td>Mahesh</td>\n",
       "      <td>30.0</td>\n",
       "      <td>SALES</td>\n",
       "    </tr>\n",
       "    <tr>\n",
       "      <th>3</th>\n",
       "      <td>Rahul</td>\n",
       "      <td>filler</td>\n",
       "      <td>MARKETING</td>\n",
       "    </tr>\n",
       "    <tr>\n",
       "      <th>4</th>\n",
       "      <td>Vivek</td>\n",
       "      <td>40.0</td>\n",
       "      <td>SALES</td>\n",
       "    </tr>\n",
       "    <tr>\n",
       "      <th>5</th>\n",
       "      <td>Anshul</td>\n",
       "      <td>36.0</td>\n",
       "      <td>filler</td>\n",
       "    </tr>\n",
       "    <tr>\n",
       "      <th>6</th>\n",
       "      <td>filler</td>\n",
       "      <td>filler</td>\n",
       "      <td>SALES</td>\n",
       "    </tr>\n",
       "  </tbody>\n",
       "</table>\n",
       "</div>"
      ],
      "text/plain": [
       "       name     age       dept\n",
       "0  sourabha    10.0         IT\n",
       "1    Ramesh    20.0         IT\n",
       "2    Mahesh    30.0      SALES\n",
       "3     Rahul  filler  MARKETING\n",
       "4     Vivek    40.0      SALES\n",
       "5    Anshul    36.0     filler\n",
       "6    filler  filler      SALES"
      ]
     },
     "execution_count": 35,
     "metadata": {},
     "output_type": "execute_result"
    }
   ],
   "source": [
    "df.fillna('filler')"
   ]
  },
  {
   "cell_type": "code",
   "execution_count": 40,
   "metadata": {},
   "outputs": [
    {
     "data": {
      "text/html": [
       "<div>\n",
       "<style scoped>\n",
       "    .dataframe tbody tr th:only-of-type {\n",
       "        vertical-align: middle;\n",
       "    }\n",
       "\n",
       "    .dataframe tbody tr th {\n",
       "        vertical-align: top;\n",
       "    }\n",
       "\n",
       "    .dataframe thead th {\n",
       "        text-align: right;\n",
       "    }\n",
       "</style>\n",
       "<table border=\"1\" class=\"dataframe\">\n",
       "  <thead>\n",
       "    <tr style=\"text-align: right;\">\n",
       "      <th></th>\n",
       "      <th>age</th>\n",
       "    </tr>\n",
       "    <tr>\n",
       "      <th>dept</th>\n",
       "      <th></th>\n",
       "    </tr>\n",
       "  </thead>\n",
       "  <tbody>\n",
       "    <tr>\n",
       "      <th>IT</th>\n",
       "      <td>15.0</td>\n",
       "    </tr>\n",
       "    <tr>\n",
       "      <th>MARKETING</th>\n",
       "      <td>NaN</td>\n",
       "    </tr>\n",
       "    <tr>\n",
       "      <th>SALES</th>\n",
       "      <td>35.0</td>\n",
       "    </tr>\n",
       "  </tbody>\n",
       "</table>\n",
       "</div>"
      ],
      "text/plain": [
       "            age\n",
       "dept           \n",
       "IT         15.0\n",
       "MARKETING   NaN\n",
       "SALES      35.0"
      ]
     },
     "execution_count": 40,
     "metadata": {},
     "output_type": "execute_result"
    }
   ],
   "source": [
    "grouped =df.groupby('dept').mean('age')\n",
    "grouped"
   ]
  },
  {
   "cell_type": "code",
   "execution_count": 43,
   "metadata": {},
   "outputs": [
    {
     "data": {
      "text/html": [
       "<div>\n",
       "<style scoped>\n",
       "    .dataframe tbody tr th:only-of-type {\n",
       "        vertical-align: middle;\n",
       "    }\n",
       "\n",
       "    .dataframe tbody tr th {\n",
       "        vertical-align: top;\n",
       "    }\n",
       "\n",
       "    .dataframe thead th {\n",
       "        text-align: right;\n",
       "    }\n",
       "</style>\n",
       "<table border=\"1\" class=\"dataframe\">\n",
       "  <thead>\n",
       "    <tr style=\"text-align: right;\">\n",
       "      <th></th>\n",
       "      <th>age</th>\n",
       "    </tr>\n",
       "    <tr>\n",
       "      <th>dept</th>\n",
       "      <th></th>\n",
       "    </tr>\n",
       "  </thead>\n",
       "  <tbody>\n",
       "    <tr>\n",
       "      <th>IT</th>\n",
       "      <td>15.0</td>\n",
       "    </tr>\n",
       "    <tr>\n",
       "      <th>MARKETING</th>\n",
       "      <td>NaN</td>\n",
       "    </tr>\n",
       "    <tr>\n",
       "      <th>SALES</th>\n",
       "      <td>35.0</td>\n",
       "    </tr>\n",
       "  </tbody>\n",
       "</table>\n",
       "</div>"
      ],
      "text/plain": [
       "            age\n",
       "dept           \n",
       "IT         15.0\n",
       "MARKETING   NaN\n",
       "SALES      35.0"
      ]
     },
     "execution_count": 43,
     "metadata": {},
     "output_type": "execute_result"
    }
   ],
   "source": [
    "grouped =df.groupby('dept').mean('age')\n",
    "grouped"
   ]
  },
  {
   "cell_type": "code",
   "execution_count": 44,
   "metadata": {},
   "outputs": [
    {
     "data": {
      "text/plain": [
       "136.0"
      ]
     },
     "execution_count": 44,
     "metadata": {},
     "output_type": "execute_result"
    }
   ],
   "source": [
    "df['age'].sum()"
   ]
  },
  {
   "cell_type": "code",
   "execution_count": 45,
   "metadata": {},
   "outputs": [
    {
     "data": {
      "text/plain": [
       "27.2"
      ]
     },
     "execution_count": 45,
     "metadata": {},
     "output_type": "execute_result"
    }
   ],
   "source": [
    "df['age'].mean()"
   ]
  },
  {
   "cell_type": "code",
   "execution_count": 46,
   "metadata": {},
   "outputs": [
    {
     "data": {
      "text/plain": [
       "30.0"
      ]
     },
     "execution_count": 46,
     "metadata": {},
     "output_type": "execute_result"
    }
   ],
   "source": [
    "df['age'].median()"
   ]
  },
  {
   "cell_type": "code",
   "execution_count": 48,
   "metadata": {},
   "outputs": [
    {
     "data": {
      "text/plain": [
       "10.0"
      ]
     },
     "execution_count": 48,
     "metadata": {},
     "output_type": "execute_result"
    }
   ],
   "source": [
    "df['age'].min()"
   ]
  },
  {
   "cell_type": "code",
   "execution_count": 49,
   "metadata": {},
   "outputs": [
    {
     "data": {
      "text/plain": [
       "40.0"
      ]
     },
     "execution_count": 49,
     "metadata": {},
     "output_type": "execute_result"
    }
   ],
   "source": [
    "df['age'].max()"
   ]
  },
  {
   "cell_type": "code",
   "execution_count": 50,
   "metadata": {},
   "outputs": [
    {
     "data": {
      "text/plain": [
       "5"
      ]
     },
     "execution_count": 50,
     "metadata": {},
     "output_type": "execute_result"
    }
   ],
   "source": [
    "df['age'].count()"
   ]
  },
  {
   "cell_type": "code",
   "execution_count": 51,
   "metadata": {},
   "outputs": [
    {
     "data": {
      "text/plain": [
       "12.214745187681977"
      ]
     },
     "execution_count": 51,
     "metadata": {},
     "output_type": "execute_result"
    }
   ],
   "source": [
    "df['age'].std()"
   ]
  },
  {
   "cell_type": "code",
   "execution_count": 52,
   "metadata": {},
   "outputs": [
    {
     "data": {
      "text/plain": [
       "149.20000000000002"
      ]
     },
     "execution_count": 52,
     "metadata": {},
     "output_type": "execute_result"
    }
   ],
   "source": [
    "df['age'].var()"
   ]
  },
  {
   "cell_type": "code",
   "execution_count": 55,
   "metadata": {},
   "outputs": [
    {
     "data": {
      "text/plain": [
       "30.0"
      ]
     },
     "execution_count": 55,
     "metadata": {},
     "output_type": "execute_result"
    }
   ],
   "source": [
    "df['age'].quantile()"
   ]
  },
  {
   "cell_type": "code",
   "execution_count": 56,
   "metadata": {},
   "outputs": [
    {
     "data": {
      "text/plain": [
       "array([10., 20., 30., nan, 40., 36.])"
      ]
     },
     "execution_count": 56,
     "metadata": {},
     "output_type": "execute_result"
    }
   ],
   "source": [
    "df['age'].unique()"
   ]
  },
  {
   "cell_type": "code",
   "execution_count": 58,
   "metadata": {},
   "outputs": [
    {
     "data": {
      "text/plain": [
       "5"
      ]
     },
     "execution_count": 58,
     "metadata": {},
     "output_type": "execute_result"
    }
   ],
   "source": [
    "df['age'].nunique()"
   ]
  },
  {
   "cell_type": "code",
   "execution_count": 61,
   "metadata": {},
   "outputs": [
    {
     "name": "stdout",
     "output_type": "stream",
     "text": [
      "       name   age       dept\n",
      "0  sourabha  10.0         IT\n",
      "1    Ramesh  20.0         IT\n",
      "2    Mahesh  30.0      SALES\n",
      "3     Rahul   NaN  MARKETING\n",
      "4     Vivek  40.0      SALES\n",
      "5    Anshul  36.0       None\n",
      "6      None   NaN      SALES\n",
      "       name   age department\n",
      "0  sourabha  10.0         IT\n",
      "1    Ramesh  20.0         IT\n",
      "2    Mahesh  30.0      SALES\n",
      "3     Rahul   NaN  MARKETING\n",
      "4     Vivek  40.0      SALES\n",
      "5    Anshul  36.0       None\n",
      "6      None   NaN      SALES\n"
     ]
    }
   ],
   "source": [
    "print(df)\n",
    "df.rename(columns={'dept':'department'},inplace = True)\n",
    "print(df)"
   ]
  },
  {
   "cell_type": "code",
   "execution_count": 63,
   "metadata": {},
   "outputs": [
    {
     "data": {
      "text/plain": [
       "SALES        3\n",
       "IT           2\n",
       "MARKETING    1\n",
       "Name: department, dtype: int64"
      ]
     },
     "execution_count": 63,
     "metadata": {},
     "output_type": "execute_result"
    }
   ],
   "source": [
    "df['department'].value_counts()"
   ]
  },
  {
   "cell_type": "code",
   "execution_count": 68,
   "metadata": {},
   "outputs": [
    {
     "data": {
      "text/html": [
       "<div>\n",
       "<style scoped>\n",
       "    .dataframe tbody tr th:only-of-type {\n",
       "        vertical-align: middle;\n",
       "    }\n",
       "\n",
       "    .dataframe tbody tr th {\n",
       "        vertical-align: top;\n",
       "    }\n",
       "\n",
       "    .dataframe thead th {\n",
       "        text-align: right;\n",
       "    }\n",
       "</style>\n",
       "<table border=\"1\" class=\"dataframe\">\n",
       "  <thead>\n",
       "    <tr style=\"text-align: right;\">\n",
       "      <th></th>\n",
       "      <th>name</th>\n",
       "      <th>age</th>\n",
       "      <th>department</th>\n",
       "    </tr>\n",
       "  </thead>\n",
       "  <tbody>\n",
       "    <tr>\n",
       "      <th>5</th>\n",
       "      <td>Anshul</td>\n",
       "      <td>36.0</td>\n",
       "      <td>None</td>\n",
       "    </tr>\n",
       "    <tr>\n",
       "      <th>2</th>\n",
       "      <td>Mahesh</td>\n",
       "      <td>30.0</td>\n",
       "      <td>SALES</td>\n",
       "    </tr>\n",
       "    <tr>\n",
       "      <th>3</th>\n",
       "      <td>Rahul</td>\n",
       "      <td>NaN</td>\n",
       "      <td>MARKETING</td>\n",
       "    </tr>\n",
       "    <tr>\n",
       "      <th>1</th>\n",
       "      <td>Ramesh</td>\n",
       "      <td>20.0</td>\n",
       "      <td>IT</td>\n",
       "    </tr>\n",
       "    <tr>\n",
       "      <th>4</th>\n",
       "      <td>Vivek</td>\n",
       "      <td>40.0</td>\n",
       "      <td>SALES</td>\n",
       "    </tr>\n",
       "    <tr>\n",
       "      <th>0</th>\n",
       "      <td>sourabha</td>\n",
       "      <td>10.0</td>\n",
       "      <td>IT</td>\n",
       "    </tr>\n",
       "    <tr>\n",
       "      <th>6</th>\n",
       "      <td>None</td>\n",
       "      <td>NaN</td>\n",
       "      <td>SALES</td>\n",
       "    </tr>\n",
       "  </tbody>\n",
       "</table>\n",
       "</div>"
      ],
      "text/plain": [
       "       name   age department\n",
       "5    Anshul  36.0       None\n",
       "2    Mahesh  30.0      SALES\n",
       "3     Rahul   NaN  MARKETING\n",
       "1    Ramesh  20.0         IT\n",
       "4     Vivek  40.0      SALES\n",
       "0  sourabha  10.0         IT\n",
       "6      None   NaN      SALES"
      ]
     },
     "execution_count": 68,
     "metadata": {},
     "output_type": "execute_result"
    }
   ],
   "source": [
    "sorted_df= df.sort_values(by='name')\n",
    "sorted_df"
   ]
  },
  {
   "cell_type": "code",
   "execution_count": 70,
   "metadata": {},
   "outputs": [
    {
     "data": {
      "text/html": [
       "<div>\n",
       "<style scoped>\n",
       "    .dataframe tbody tr th:only-of-type {\n",
       "        vertical-align: middle;\n",
       "    }\n",
       "\n",
       "    .dataframe tbody tr th {\n",
       "        vertical-align: top;\n",
       "    }\n",
       "\n",
       "    .dataframe thead th {\n",
       "        text-align: right;\n",
       "    }\n",
       "</style>\n",
       "<table border=\"1\" class=\"dataframe\">\n",
       "  <thead>\n",
       "    <tr style=\"text-align: right;\">\n",
       "      <th></th>\n",
       "      <th>age</th>\n",
       "    </tr>\n",
       "  </thead>\n",
       "  <tbody>\n",
       "    <tr>\n",
       "      <th>count</th>\n",
       "      <td>5.000000</td>\n",
       "    </tr>\n",
       "    <tr>\n",
       "      <th>mean</th>\n",
       "      <td>27.200000</td>\n",
       "    </tr>\n",
       "    <tr>\n",
       "      <th>std</th>\n",
       "      <td>12.214745</td>\n",
       "    </tr>\n",
       "    <tr>\n",
       "      <th>min</th>\n",
       "      <td>10.000000</td>\n",
       "    </tr>\n",
       "    <tr>\n",
       "      <th>25%</th>\n",
       "      <td>20.000000</td>\n",
       "    </tr>\n",
       "    <tr>\n",
       "      <th>50%</th>\n",
       "      <td>30.000000</td>\n",
       "    </tr>\n",
       "    <tr>\n",
       "      <th>75%</th>\n",
       "      <td>36.000000</td>\n",
       "    </tr>\n",
       "    <tr>\n",
       "      <th>max</th>\n",
       "      <td>40.000000</td>\n",
       "    </tr>\n",
       "  </tbody>\n",
       "</table>\n",
       "</div>"
      ],
      "text/plain": [
       "             age\n",
       "count   5.000000\n",
       "mean   27.200000\n",
       "std    12.214745\n",
       "min    10.000000\n",
       "25%    20.000000\n",
       "50%    30.000000\n",
       "75%    36.000000\n",
       "max    40.000000"
      ]
     },
     "execution_count": 70,
     "metadata": {},
     "output_type": "execute_result"
    }
   ],
   "source": [
    "df.describe()"
   ]
  },
  {
   "cell_type": "code",
   "execution_count": 71,
   "metadata": {},
   "outputs": [],
   "source": [
    "df['emp_id']=[1,2,3,4,5,6,7]"
   ]
  },
  {
   "cell_type": "code",
   "execution_count": 72,
   "metadata": {},
   "outputs": [
    {
     "data": {
      "text/html": [
       "<div>\n",
       "<style scoped>\n",
       "    .dataframe tbody tr th:only-of-type {\n",
       "        vertical-align: middle;\n",
       "    }\n",
       "\n",
       "    .dataframe tbody tr th {\n",
       "        vertical-align: top;\n",
       "    }\n",
       "\n",
       "    .dataframe thead th {\n",
       "        text-align: right;\n",
       "    }\n",
       "</style>\n",
       "<table border=\"1\" class=\"dataframe\">\n",
       "  <thead>\n",
       "    <tr style=\"text-align: right;\">\n",
       "      <th></th>\n",
       "      <th>name</th>\n",
       "      <th>age</th>\n",
       "      <th>department</th>\n",
       "      <th>emp_id</th>\n",
       "    </tr>\n",
       "  </thead>\n",
       "  <tbody>\n",
       "    <tr>\n",
       "      <th>0</th>\n",
       "      <td>sourabha</td>\n",
       "      <td>10.0</td>\n",
       "      <td>IT</td>\n",
       "      <td>1</td>\n",
       "    </tr>\n",
       "    <tr>\n",
       "      <th>1</th>\n",
       "      <td>Ramesh</td>\n",
       "      <td>20.0</td>\n",
       "      <td>IT</td>\n",
       "      <td>2</td>\n",
       "    </tr>\n",
       "    <tr>\n",
       "      <th>2</th>\n",
       "      <td>Mahesh</td>\n",
       "      <td>30.0</td>\n",
       "      <td>SALES</td>\n",
       "      <td>3</td>\n",
       "    </tr>\n",
       "    <tr>\n",
       "      <th>3</th>\n",
       "      <td>Rahul</td>\n",
       "      <td>NaN</td>\n",
       "      <td>MARKETING</td>\n",
       "      <td>4</td>\n",
       "    </tr>\n",
       "    <tr>\n",
       "      <th>4</th>\n",
       "      <td>Vivek</td>\n",
       "      <td>40.0</td>\n",
       "      <td>SALES</td>\n",
       "      <td>5</td>\n",
       "    </tr>\n",
       "    <tr>\n",
       "      <th>5</th>\n",
       "      <td>Anshul</td>\n",
       "      <td>36.0</td>\n",
       "      <td>None</td>\n",
       "      <td>6</td>\n",
       "    </tr>\n",
       "    <tr>\n",
       "      <th>6</th>\n",
       "      <td>None</td>\n",
       "      <td>NaN</td>\n",
       "      <td>SALES</td>\n",
       "      <td>7</td>\n",
       "    </tr>\n",
       "  </tbody>\n",
       "</table>\n",
       "</div>"
      ],
      "text/plain": [
       "       name   age department  emp_id\n",
       "0  sourabha  10.0         IT       1\n",
       "1    Ramesh  20.0         IT       2\n",
       "2    Mahesh  30.0      SALES       3\n",
       "3     Rahul   NaN  MARKETING       4\n",
       "4     Vivek  40.0      SALES       5\n",
       "5    Anshul  36.0       None       6\n",
       "6      None   NaN      SALES       7"
      ]
     },
     "execution_count": 72,
     "metadata": {},
     "output_type": "execute_result"
    }
   ],
   "source": [
    "df"
   ]
  },
  {
   "cell_type": "code",
   "execution_count": 82,
   "metadata": {},
   "outputs": [
    {
     "data": {
      "text/html": [
       "<div>\n",
       "<style scoped>\n",
       "    .dataframe tbody tr th:only-of-type {\n",
       "        vertical-align: middle;\n",
       "    }\n",
       "\n",
       "    .dataframe tbody tr th {\n",
       "        vertical-align: top;\n",
       "    }\n",
       "\n",
       "    .dataframe thead th {\n",
       "        text-align: right;\n",
       "    }\n",
       "</style>\n",
       "<table border=\"1\" class=\"dataframe\">\n",
       "  <thead>\n",
       "    <tr style=\"text-align: right;\">\n",
       "      <th></th>\n",
       "      <th>emp_id</th>\n",
       "      <th>salary</th>\n",
       "    </tr>\n",
       "  </thead>\n",
       "  <tbody>\n",
       "    <tr>\n",
       "      <th>0</th>\n",
       "      <td>1</td>\n",
       "      <td>100000</td>\n",
       "    </tr>\n",
       "    <tr>\n",
       "      <th>1</th>\n",
       "      <td>2</td>\n",
       "      <td>120000</td>\n",
       "    </tr>\n",
       "    <tr>\n",
       "      <th>2</th>\n",
       "      <td>3</td>\n",
       "      <td>130000</td>\n",
       "    </tr>\n",
       "    <tr>\n",
       "      <th>3</th>\n",
       "      <td>4</td>\n",
       "      <td>90000</td>\n",
       "    </tr>\n",
       "    <tr>\n",
       "      <th>4</th>\n",
       "      <td>5</td>\n",
       "      <td>125000</td>\n",
       "    </tr>\n",
       "    <tr>\n",
       "      <th>5</th>\n",
       "      <td>6</td>\n",
       "      <td>115000</td>\n",
       "    </tr>\n",
       "    <tr>\n",
       "      <th>6</th>\n",
       "      <td>7</td>\n",
       "      <td>105000</td>\n",
       "    </tr>\n",
       "  </tbody>\n",
       "</table>\n",
       "</div>"
      ],
      "text/plain": [
       "   emp_id  salary\n",
       "0       1  100000\n",
       "1       2  120000\n",
       "2       3  130000\n",
       "3       4   90000\n",
       "4       5  125000\n",
       "5       6  115000\n",
       "6       7  105000"
      ]
     },
     "execution_count": 82,
     "metadata": {},
     "output_type": "execute_result"
    }
   ],
   "source": [
    "data={'emp_id' : [1,2,3,4,5,6,7],\n",
    "     'salary' : [100000,120000,130000,90000,125000,115000,105000]}\n",
    "df1=pd.DataFrame(data)\n",
    "df1"
   ]
  },
  {
   "cell_type": "code",
   "execution_count": 84,
   "metadata": {},
   "outputs": [
    {
     "data": {
      "text/html": [
       "<div>\n",
       "<style scoped>\n",
       "    .dataframe tbody tr th:only-of-type {\n",
       "        vertical-align: middle;\n",
       "    }\n",
       "\n",
       "    .dataframe tbody tr th {\n",
       "        vertical-align: top;\n",
       "    }\n",
       "\n",
       "    .dataframe thead th {\n",
       "        text-align: right;\n",
       "    }\n",
       "</style>\n",
       "<table border=\"1\" class=\"dataframe\">\n",
       "  <thead>\n",
       "    <tr style=\"text-align: right;\">\n",
       "      <th></th>\n",
       "      <th>name</th>\n",
       "      <th>age</th>\n",
       "      <th>department</th>\n",
       "      <th>emp_id</th>\n",
       "      <th>salary</th>\n",
       "    </tr>\n",
       "  </thead>\n",
       "  <tbody>\n",
       "    <tr>\n",
       "      <th>0</th>\n",
       "      <td>sourabha</td>\n",
       "      <td>10.0</td>\n",
       "      <td>IT</td>\n",
       "      <td>1</td>\n",
       "      <td>100000</td>\n",
       "    </tr>\n",
       "    <tr>\n",
       "      <th>1</th>\n",
       "      <td>Ramesh</td>\n",
       "      <td>20.0</td>\n",
       "      <td>IT</td>\n",
       "      <td>2</td>\n",
       "      <td>120000</td>\n",
       "    </tr>\n",
       "    <tr>\n",
       "      <th>2</th>\n",
       "      <td>Mahesh</td>\n",
       "      <td>30.0</td>\n",
       "      <td>SALES</td>\n",
       "      <td>3</td>\n",
       "      <td>130000</td>\n",
       "    </tr>\n",
       "    <tr>\n",
       "      <th>3</th>\n",
       "      <td>Rahul</td>\n",
       "      <td>NaN</td>\n",
       "      <td>MARKETING</td>\n",
       "      <td>4</td>\n",
       "      <td>90000</td>\n",
       "    </tr>\n",
       "    <tr>\n",
       "      <th>4</th>\n",
       "      <td>Vivek</td>\n",
       "      <td>40.0</td>\n",
       "      <td>SALES</td>\n",
       "      <td>5</td>\n",
       "      <td>125000</td>\n",
       "    </tr>\n",
       "    <tr>\n",
       "      <th>5</th>\n",
       "      <td>Anshul</td>\n",
       "      <td>36.0</td>\n",
       "      <td>None</td>\n",
       "      <td>6</td>\n",
       "      <td>115000</td>\n",
       "    </tr>\n",
       "    <tr>\n",
       "      <th>6</th>\n",
       "      <td>None</td>\n",
       "      <td>NaN</td>\n",
       "      <td>SALES</td>\n",
       "      <td>7</td>\n",
       "      <td>105000</td>\n",
       "    </tr>\n",
       "  </tbody>\n",
       "</table>\n",
       "</div>"
      ],
      "text/plain": [
       "       name   age department  emp_id  salary\n",
       "0  sourabha  10.0         IT       1  100000\n",
       "1    Ramesh  20.0         IT       2  120000\n",
       "2    Mahesh  30.0      SALES       3  130000\n",
       "3     Rahul   NaN  MARKETING       4   90000\n",
       "4     Vivek  40.0      SALES       5  125000\n",
       "5    Anshul  36.0       None       6  115000\n",
       "6      None   NaN      SALES       7  105000"
      ]
     },
     "execution_count": 84,
     "metadata": {},
     "output_type": "execute_result"
    }
   ],
   "source": [
    "merged_df = df.merge(df1, on='emp_id')\n",
    "merged_df"
   ]
  },
  {
   "cell_type": "code",
   "execution_count": 85,
   "metadata": {},
   "outputs": [
    {
     "data": {
      "text/html": [
       "<div>\n",
       "<style scoped>\n",
       "    .dataframe tbody tr th:only-of-type {\n",
       "        vertical-align: middle;\n",
       "    }\n",
       "\n",
       "    .dataframe tbody tr th {\n",
       "        vertical-align: top;\n",
       "    }\n",
       "\n",
       "    .dataframe thead th {\n",
       "        text-align: right;\n",
       "    }\n",
       "</style>\n",
       "<table border=\"1\" class=\"dataframe\">\n",
       "  <thead>\n",
       "    <tr style=\"text-align: right;\">\n",
       "      <th></th>\n",
       "      <th>name</th>\n",
       "      <th>age</th>\n",
       "      <th>department</th>\n",
       "      <th>emp_id</th>\n",
       "    </tr>\n",
       "  </thead>\n",
       "  <tbody>\n",
       "    <tr>\n",
       "      <th>0</th>\n",
       "      <td>sourabha</td>\n",
       "      <td>10.0</td>\n",
       "      <td>IT</td>\n",
       "      <td>1</td>\n",
       "    </tr>\n",
       "    <tr>\n",
       "      <th>1</th>\n",
       "      <td>Ramesh</td>\n",
       "      <td>20.0</td>\n",
       "      <td>IT</td>\n",
       "      <td>2</td>\n",
       "    </tr>\n",
       "    <tr>\n",
       "      <th>2</th>\n",
       "      <td>Mahesh</td>\n",
       "      <td>30.0</td>\n",
       "      <td>SALES</td>\n",
       "      <td>3</td>\n",
       "    </tr>\n",
       "    <tr>\n",
       "      <th>3</th>\n",
       "      <td>Rahul</td>\n",
       "      <td>NaN</td>\n",
       "      <td>MARKETING</td>\n",
       "      <td>4</td>\n",
       "    </tr>\n",
       "    <tr>\n",
       "      <th>4</th>\n",
       "      <td>Vivek</td>\n",
       "      <td>40.0</td>\n",
       "      <td>SALES</td>\n",
       "      <td>5</td>\n",
       "    </tr>\n",
       "    <tr>\n",
       "      <th>5</th>\n",
       "      <td>Anshul</td>\n",
       "      <td>36.0</td>\n",
       "      <td>None</td>\n",
       "      <td>6</td>\n",
       "    </tr>\n",
       "    <tr>\n",
       "      <th>6</th>\n",
       "      <td>None</td>\n",
       "      <td>NaN</td>\n",
       "      <td>SALES</td>\n",
       "      <td>7</td>\n",
       "    </tr>\n",
       "  </tbody>\n",
       "</table>\n",
       "</div>"
      ],
      "text/plain": [
       "       name   age department  emp_id\n",
       "0  sourabha  10.0         IT       1\n",
       "1    Ramesh  20.0         IT       2\n",
       "2    Mahesh  30.0      SALES       3\n",
       "3     Rahul   NaN  MARKETING       4\n",
       "4     Vivek  40.0      SALES       5\n",
       "5    Anshul  36.0       None       6\n",
       "6      None   NaN      SALES       7"
      ]
     },
     "execution_count": 85,
     "metadata": {},
     "output_type": "execute_result"
    }
   ],
   "source": [
    "df.drop_duplicates()"
   ]
  },
  {
   "cell_type": "code",
   "execution_count": 94,
   "metadata": {},
   "outputs": [
    {
     "data": {
      "text/html": [
       "<div>\n",
       "<style scoped>\n",
       "    .dataframe tbody tr th:only-of-type {\n",
       "        vertical-align: middle;\n",
       "    }\n",
       "\n",
       "    .dataframe tbody tr th {\n",
       "        vertical-align: top;\n",
       "    }\n",
       "\n",
       "    .dataframe thead th {\n",
       "        text-align: right;\n",
       "    }\n",
       "</style>\n",
       "<table border=\"1\" class=\"dataframe\">\n",
       "  <thead>\n",
       "    <tr style=\"text-align: right;\">\n",
       "      <th></th>\n",
       "      <th>name</th>\n",
       "      <th>age</th>\n",
       "      <th>department</th>\n",
       "      <th>emp_id</th>\n",
       "      <th>salary</th>\n",
       "      <th>yearly_bonus</th>\n",
       "    </tr>\n",
       "  </thead>\n",
       "  <tbody>\n",
       "    <tr>\n",
       "      <th>0</th>\n",
       "      <td>sourabha</td>\n",
       "      <td>10.0</td>\n",
       "      <td>IT</td>\n",
       "      <td>1</td>\n",
       "      <td>100000</td>\n",
       "      <td>10000.0</td>\n",
       "    </tr>\n",
       "    <tr>\n",
       "      <th>1</th>\n",
       "      <td>Ramesh</td>\n",
       "      <td>20.0</td>\n",
       "      <td>IT</td>\n",
       "      <td>2</td>\n",
       "      <td>120000</td>\n",
       "      <td>12000.0</td>\n",
       "    </tr>\n",
       "    <tr>\n",
       "      <th>2</th>\n",
       "      <td>Mahesh</td>\n",
       "      <td>30.0</td>\n",
       "      <td>SALES</td>\n",
       "      <td>3</td>\n",
       "      <td>130000</td>\n",
       "      <td>13000.0</td>\n",
       "    </tr>\n",
       "    <tr>\n",
       "      <th>3</th>\n",
       "      <td>Rahul</td>\n",
       "      <td>NaN</td>\n",
       "      <td>MARKETING</td>\n",
       "      <td>4</td>\n",
       "      <td>90000</td>\n",
       "      <td>9000.0</td>\n",
       "    </tr>\n",
       "    <tr>\n",
       "      <th>4</th>\n",
       "      <td>Vivek</td>\n",
       "      <td>40.0</td>\n",
       "      <td>SALES</td>\n",
       "      <td>5</td>\n",
       "      <td>125000</td>\n",
       "      <td>12500.0</td>\n",
       "    </tr>\n",
       "    <tr>\n",
       "      <th>5</th>\n",
       "      <td>Anshul</td>\n",
       "      <td>36.0</td>\n",
       "      <td>None</td>\n",
       "      <td>6</td>\n",
       "      <td>115000</td>\n",
       "      <td>11500.0</td>\n",
       "    </tr>\n",
       "    <tr>\n",
       "      <th>6</th>\n",
       "      <td>None</td>\n",
       "      <td>NaN</td>\n",
       "      <td>SALES</td>\n",
       "      <td>7</td>\n",
       "      <td>105000</td>\n",
       "      <td>10500.0</td>\n",
       "    </tr>\n",
       "  </tbody>\n",
       "</table>\n",
       "</div>"
      ],
      "text/plain": [
       "       name   age department  emp_id  salary  yearly_bonus\n",
       "0  sourabha  10.0         IT       1  100000       10000.0\n",
       "1    Ramesh  20.0         IT       2  120000       12000.0\n",
       "2    Mahesh  30.0      SALES       3  130000       13000.0\n",
       "3     Rahul   NaN  MARKETING       4   90000        9000.0\n",
       "4     Vivek  40.0      SALES       5  125000       12500.0\n",
       "5    Anshul  36.0       None       6  115000       11500.0\n",
       "6      None   NaN      SALES       7  105000       10500.0"
      ]
     },
     "execution_count": 94,
     "metadata": {},
     "output_type": "execute_result"
    }
   ],
   "source": [
    "merged_df['yearly_bonus'] = merged_df['salary'].apply(lambda x:x*.10)\n",
    "merged_df"
   ]
  },
  {
   "cell_type": "code",
   "execution_count": 93,
   "metadata": {},
   "outputs": [],
   "source": [
    "# del merged_df['rearly_bonus']"
   ]
  },
  {
   "cell_type": "code",
   "execution_count": 102,
   "metadata": {},
   "outputs": [
    {
     "data": {
      "text/html": [
       "<div>\n",
       "<style scoped>\n",
       "    .dataframe tbody tr th:only-of-type {\n",
       "        vertical-align: middle;\n",
       "    }\n",
       "\n",
       "    .dataframe tbody tr th {\n",
       "        vertical-align: top;\n",
       "    }\n",
       "\n",
       "    .dataframe thead th {\n",
       "        text-align: right;\n",
       "    }\n",
       "</style>\n",
       "<table border=\"1\" class=\"dataframe\">\n",
       "  <thead>\n",
       "    <tr style=\"text-align: right;\">\n",
       "      <th>salary</th>\n",
       "      <th>90000</th>\n",
       "      <th>100000</th>\n",
       "      <th>105000</th>\n",
       "      <th>115000</th>\n",
       "      <th>120000</th>\n",
       "      <th>125000</th>\n",
       "      <th>130000</th>\n",
       "    </tr>\n",
       "  </thead>\n",
       "  <tbody>\n",
       "    <tr>\n",
       "      <th>department</th>\n",
       "      <td>MARKETING</td>\n",
       "      <td>IT</td>\n",
       "      <td>SALES</td>\n",
       "      <td>0</td>\n",
       "      <td>IT</td>\n",
       "      <td>SALES</td>\n",
       "      <td>SALES</td>\n",
       "    </tr>\n",
       "    <tr>\n",
       "      <th>name</th>\n",
       "      <td>Rahul</td>\n",
       "      <td>sourabha</td>\n",
       "      <td>0</td>\n",
       "      <td>Anshul</td>\n",
       "      <td>Ramesh</td>\n",
       "      <td>Vivek</td>\n",
       "      <td>Mahesh</td>\n",
       "    </tr>\n",
       "  </tbody>\n",
       "</table>\n",
       "</div>"
      ],
      "text/plain": [
       "salary         90000     100000 105000  115000  120000 125000  130000\n",
       "department  MARKETING        IT  SALES       0      IT  SALES   SALES\n",
       "name            Rahul  sourabha      0  Anshul  Ramesh  Vivek  Mahesh"
      ]
     },
     "execution_count": 102,
     "metadata": {},
     "output_type": "execute_result"
    }
   ],
   "source": [
    "pivot_table = pd.pivot_table(merged_df, values=['department','name'], columns='salary',aggfunc=sum)\n",
    "pivot_table"
   ]
  },
  {
   "cell_type": "code",
   "execution_count": 108,
   "metadata": {},
   "outputs": [
    {
     "name": "stdout",
     "output_type": "stream",
     "text": [
      "       name   age department  emp_id  salary  yearly_bonus\n",
      "0  sourabha  10.0         IT       1  100000       10000.0\n",
      "1    Ramesh  20.0         IT       2  120000       12000.0\n",
      "2    Mahesh  30.0      SALES       3  130000       13000.0\n",
      "3     Rahul   NaN  MARKETING       4   90000        9000.0\n",
      "4     Vivek  40.0      SALES       5  125000       12500.0\n",
      "5    Anshul  36.0       None       6  115000       11500.0\n",
      "6      None   NaN      SALES       7  105000       10500.0\n",
      "     name   age department  emp_id  salary  yearly_bonus\n",
      "1  Ramesh  20.0         IT       2  120000       12000.0\n",
      "2  Mahesh  30.0      SALES       3  130000       13000.0\n",
      "3   Rahul   NaN  MARKETING       4   90000        9000.0\n",
      "4   Vivek  40.0      SALES       5  125000       12500.0\n"
     ]
    }
   ],
   "source": [
    "# Creating a new DataFrame from a subset of rows:\n",
    "print(merged_df)\n",
    "new_df = merged_df.iloc[1:5]\n",
    "print(new_df)"
   ]
  },
  {
   "cell_type": "code",
   "execution_count": 112,
   "metadata": {},
   "outputs": [
    {
     "data": {
      "text/plain": [
       "0.9999999999999999"
      ]
     },
     "execution_count": 112,
     "metadata": {},
     "output_type": "execute_result"
    }
   ],
   "source": [
    "correlation = merged_df['salary'].corr(merged_df['yearly_bonus'])\n",
    "correlation"
   ]
  },
  {
   "cell_type": "code",
   "execution_count": 114,
   "metadata": {},
   "outputs": [
    {
     "data": {
      "text/html": [
       "<div>\n",
       "<style scoped>\n",
       "    .dataframe tbody tr th:only-of-type {\n",
       "        vertical-align: middle;\n",
       "    }\n",
       "\n",
       "    .dataframe tbody tr th {\n",
       "        vertical-align: top;\n",
       "    }\n",
       "\n",
       "    .dataframe thead th {\n",
       "        text-align: right;\n",
       "    }\n",
       "</style>\n",
       "<table border=\"1\" class=\"dataframe\">\n",
       "  <thead>\n",
       "    <tr style=\"text-align: right;\">\n",
       "      <th></th>\n",
       "      <th>department</th>\n",
       "      <th>variable</th>\n",
       "      <th>value</th>\n",
       "    </tr>\n",
       "  </thead>\n",
       "  <tbody>\n",
       "    <tr>\n",
       "      <th>0</th>\n",
       "      <td>IT</td>\n",
       "      <td>salary</td>\n",
       "      <td>100000</td>\n",
       "    </tr>\n",
       "    <tr>\n",
       "      <th>1</th>\n",
       "      <td>IT</td>\n",
       "      <td>salary</td>\n",
       "      <td>120000</td>\n",
       "    </tr>\n",
       "    <tr>\n",
       "      <th>2</th>\n",
       "      <td>SALES</td>\n",
       "      <td>salary</td>\n",
       "      <td>130000</td>\n",
       "    </tr>\n",
       "    <tr>\n",
       "      <th>3</th>\n",
       "      <td>MARKETING</td>\n",
       "      <td>salary</td>\n",
       "      <td>90000</td>\n",
       "    </tr>\n",
       "    <tr>\n",
       "      <th>4</th>\n",
       "      <td>SALES</td>\n",
       "      <td>salary</td>\n",
       "      <td>125000</td>\n",
       "    </tr>\n",
       "    <tr>\n",
       "      <th>5</th>\n",
       "      <td>None</td>\n",
       "      <td>salary</td>\n",
       "      <td>115000</td>\n",
       "    </tr>\n",
       "    <tr>\n",
       "      <th>6</th>\n",
       "      <td>SALES</td>\n",
       "      <td>salary</td>\n",
       "      <td>105000</td>\n",
       "    </tr>\n",
       "  </tbody>\n",
       "</table>\n",
       "</div>"
      ],
      "text/plain": [
       "  department variable   value\n",
       "0         IT   salary  100000\n",
       "1         IT   salary  120000\n",
       "2      SALES   salary  130000\n",
       "3  MARKETING   salary   90000\n",
       "4      SALES   salary  125000\n",
       "5       None   salary  115000\n",
       "6      SALES   salary  105000"
      ]
     },
     "execution_count": 114,
     "metadata": {},
     "output_type": "execute_result"
    }
   ],
   "source": [
    "# Reshaping a DataFrame using melt:\n",
    "melted_df = pd.melt(merged_df, id_vars=['department'], value_vars=['salary'])\n",
    "melted_df"
   ]
  },
  {
   "cell_type": "code",
   "execution_count": 122,
   "metadata": {},
   "outputs": [
    {
     "name": "stderr",
     "output_type": "stream",
     "text": [
      "C:\\Users\\soura\\AppData\\Local\\Temp\\ipykernel_39264\\1367180589.py:2: FutureWarning: Indexing with multiple keys (implicitly converted to a tuple of keys) will be deprecated, use a list instead.\n",
      "  custom_agg = merged_df.groupby('department')['salary','age'].sum()\n"
     ]
    },
    {
     "data": {
      "text/html": [
       "<div>\n",
       "<style scoped>\n",
       "    .dataframe tbody tr th:only-of-type {\n",
       "        vertical-align: middle;\n",
       "    }\n",
       "\n",
       "    .dataframe tbody tr th {\n",
       "        vertical-align: top;\n",
       "    }\n",
       "\n",
       "    .dataframe thead th {\n",
       "        text-align: right;\n",
       "    }\n",
       "</style>\n",
       "<table border=\"1\" class=\"dataframe\">\n",
       "  <thead>\n",
       "    <tr style=\"text-align: right;\">\n",
       "      <th></th>\n",
       "      <th>salary</th>\n",
       "      <th>age</th>\n",
       "    </tr>\n",
       "    <tr>\n",
       "      <th>department</th>\n",
       "      <th></th>\n",
       "      <th></th>\n",
       "    </tr>\n",
       "  </thead>\n",
       "  <tbody>\n",
       "    <tr>\n",
       "      <th>IT</th>\n",
       "      <td>220000</td>\n",
       "      <td>30.0</td>\n",
       "    </tr>\n",
       "    <tr>\n",
       "      <th>MARKETING</th>\n",
       "      <td>90000</td>\n",
       "      <td>0.0</td>\n",
       "    </tr>\n",
       "    <tr>\n",
       "      <th>SALES</th>\n",
       "      <td>360000</td>\n",
       "      <td>70.0</td>\n",
       "    </tr>\n",
       "  </tbody>\n",
       "</table>\n",
       "</div>"
      ],
      "text/plain": [
       "            salary   age\n",
       "department              \n",
       "IT          220000  30.0\n",
       "MARKETING    90000   0.0\n",
       "SALES       360000  70.0"
      ]
     },
     "execution_count": 122,
     "metadata": {},
     "output_type": "execute_result"
    }
   ],
   "source": [
    "# Aggregating data with groupby and custom aggregation functions:\n",
    "custom_agg = merged_df.groupby('department')['salary','age'].sum()\n",
    "custom_agg"
   ]
  },
  {
   "cell_type": "code",
   "execution_count": 124,
   "metadata": {},
   "outputs": [
    {
     "data": {
      "text/html": [
       "<div>\n",
       "<style scoped>\n",
       "    .dataframe tbody tr th:only-of-type {\n",
       "        vertical-align: middle;\n",
       "    }\n",
       "\n",
       "    .dataframe tbody tr th {\n",
       "        vertical-align: top;\n",
       "    }\n",
       "\n",
       "    .dataframe thead th {\n",
       "        text-align: right;\n",
       "    }\n",
       "</style>\n",
       "<table border=\"1\" class=\"dataframe\">\n",
       "  <thead>\n",
       "    <tr style=\"text-align: right;\">\n",
       "      <th></th>\n",
       "      <th>age</th>\n",
       "      <th>emp_id</th>\n",
       "      <th>salary</th>\n",
       "      <th>yearly_bonus</th>\n",
       "    </tr>\n",
       "    <tr>\n",
       "      <th>department</th>\n",
       "      <th></th>\n",
       "      <th></th>\n",
       "      <th></th>\n",
       "      <th></th>\n",
       "    </tr>\n",
       "  </thead>\n",
       "  <tbody>\n",
       "    <tr>\n",
       "      <th>IT</th>\n",
       "      <td>30.0</td>\n",
       "      <td>3</td>\n",
       "      <td>220000</td>\n",
       "      <td>22000.0</td>\n",
       "    </tr>\n",
       "    <tr>\n",
       "      <th>MARKETING</th>\n",
       "      <td>0.0</td>\n",
       "      <td>4</td>\n",
       "      <td>90000</td>\n",
       "      <td>9000.0</td>\n",
       "    </tr>\n",
       "    <tr>\n",
       "      <th>SALES</th>\n",
       "      <td>70.0</td>\n",
       "      <td>15</td>\n",
       "      <td>360000</td>\n",
       "      <td>36000.0</td>\n",
       "    </tr>\n",
       "  </tbody>\n",
       "</table>\n",
       "</div>"
      ],
      "text/plain": [
       "             age  emp_id  salary  yearly_bonus\n",
       "department                                    \n",
       "IT          30.0       3  220000       22000.0\n",
       "MARKETING    0.0       4   90000        9000.0\n",
       "SALES       70.0      15  360000       36000.0"
      ]
     },
     "execution_count": 124,
     "metadata": {},
     "output_type": "execute_result"
    }
   ],
   "source": [
    "# Aggregating data with groupby and custom aggregation functions:\n",
    "custom_agg = merged_df.groupby('department').sum(['salary','yearly_bonus'])\n",
    "custom_agg"
   ]
  },
  {
   "cell_type": "code",
   "execution_count": 125,
   "metadata": {},
   "outputs": [
    {
     "data": {
      "text/html": [
       "<div>\n",
       "<style scoped>\n",
       "    .dataframe tbody tr th:only-of-type {\n",
       "        vertical-align: middle;\n",
       "    }\n",
       "\n",
       "    .dataframe tbody tr th {\n",
       "        vertical-align: top;\n",
       "    }\n",
       "\n",
       "    .dataframe thead th {\n",
       "        text-align: right;\n",
       "    }\n",
       "</style>\n",
       "<table border=\"1\" class=\"dataframe\">\n",
       "  <thead>\n",
       "    <tr style=\"text-align: right;\">\n",
       "      <th></th>\n",
       "      <th>name</th>\n",
       "      <th>age</th>\n",
       "      <th>department</th>\n",
       "      <th>emp_id</th>\n",
       "      <th>salary</th>\n",
       "      <th>yearly_bonus</th>\n",
       "    </tr>\n",
       "  </thead>\n",
       "  <tbody>\n",
       "    <tr>\n",
       "      <th>0</th>\n",
       "      <td>sourabha</td>\n",
       "      <td>10.0</td>\n",
       "      <td>IT</td>\n",
       "      <td>1</td>\n",
       "      <td>100000</td>\n",
       "      <td>10000.0</td>\n",
       "    </tr>\n",
       "    <tr>\n",
       "      <th>1</th>\n",
       "      <td>Ramesh</td>\n",
       "      <td>20.0</td>\n",
       "      <td>IT</td>\n",
       "      <td>2</td>\n",
       "      <td>120000</td>\n",
       "      <td>12000.0</td>\n",
       "    </tr>\n",
       "    <tr>\n",
       "      <th>2</th>\n",
       "      <td>Mahesh</td>\n",
       "      <td>30.0</td>\n",
       "      <td>SALES</td>\n",
       "      <td>3</td>\n",
       "      <td>130000</td>\n",
       "      <td>13000.0</td>\n",
       "    </tr>\n",
       "    <tr>\n",
       "      <th>3</th>\n",
       "      <td>Rahul</td>\n",
       "      <td>NaN</td>\n",
       "      <td>MARKETING</td>\n",
       "      <td>4</td>\n",
       "      <td>90000</td>\n",
       "      <td>9000.0</td>\n",
       "    </tr>\n",
       "    <tr>\n",
       "      <th>4</th>\n",
       "      <td>Vivek</td>\n",
       "      <td>40.0</td>\n",
       "      <td>SALES</td>\n",
       "      <td>5</td>\n",
       "      <td>125000</td>\n",
       "      <td>12500.0</td>\n",
       "    </tr>\n",
       "    <tr>\n",
       "      <th>5</th>\n",
       "      <td>Anshul</td>\n",
       "      <td>36.0</td>\n",
       "      <td>None</td>\n",
       "      <td>6</td>\n",
       "      <td>115000</td>\n",
       "      <td>11500.0</td>\n",
       "    </tr>\n",
       "    <tr>\n",
       "      <th>6</th>\n",
       "      <td>None</td>\n",
       "      <td>NaN</td>\n",
       "      <td>SALES</td>\n",
       "      <td>7</td>\n",
       "      <td>105000</td>\n",
       "      <td>10500.0</td>\n",
       "    </tr>\n",
       "  </tbody>\n",
       "</table>\n",
       "</div>"
      ],
      "text/plain": [
       "       name   age department  emp_id  salary  yearly_bonus\n",
       "0  sourabha  10.0         IT       1  100000       10000.0\n",
       "1    Ramesh  20.0         IT       2  120000       12000.0\n",
       "2    Mahesh  30.0      SALES       3  130000       13000.0\n",
       "3     Rahul   NaN  MARKETING       4   90000        9000.0\n",
       "4     Vivek  40.0      SALES       5  125000       12500.0\n",
       "5    Anshul  36.0       None       6  115000       11500.0\n",
       "6      None   NaN      SALES       7  105000       10500.0"
      ]
     },
     "execution_count": 125,
     "metadata": {},
     "output_type": "execute_result"
    }
   ],
   "source": [
    "df = merged_df\n",
    "df"
   ]
  },
  {
   "cell_type": "code",
   "execution_count": 129,
   "metadata": {},
   "outputs": [
    {
     "data": {
      "text/html": [
       "<div>\n",
       "<style scoped>\n",
       "    .dataframe tbody tr th:only-of-type {\n",
       "        vertical-align: middle;\n",
       "    }\n",
       "\n",
       "    .dataframe tbody tr th {\n",
       "        vertical-align: top;\n",
       "    }\n",
       "\n",
       "    .dataframe thead th {\n",
       "        text-align: right;\n",
       "    }\n",
       "</style>\n",
       "<table border=\"1\" class=\"dataframe\">\n",
       "  <thead>\n",
       "    <tr style=\"text-align: right;\">\n",
       "      <th></th>\n",
       "      <th>name</th>\n",
       "      <th>age</th>\n",
       "      <th>department</th>\n",
       "      <th>emp_id</th>\n",
       "      <th>salary</th>\n",
       "      <th>yearly_bonus</th>\n",
       "    </tr>\n",
       "  </thead>\n",
       "  <tbody>\n",
       "    <tr>\n",
       "      <th>2</th>\n",
       "      <td>Mahesh</td>\n",
       "      <td>30.0</td>\n",
       "      <td>SALES</td>\n",
       "      <td>3</td>\n",
       "      <td>130000</td>\n",
       "      <td>13000.0</td>\n",
       "    </tr>\n",
       "  </tbody>\n",
       "</table>\n",
       "</div>"
      ],
      "text/plain": [
       "     name   age department  emp_id  salary  yearly_bonus\n",
       "2  Mahesh  30.0      SALES       3  130000       13000.0"
      ]
     },
     "execution_count": 129,
     "metadata": {},
     "output_type": "execute_result"
    }
   ],
   "source": [
    "# Creating a new DataFrame by filtering using multiple conditions:\n",
    "df[(df['department'] == 'SALES') & (df['salary'] > 125000)]"
   ]
  },
  {
   "cell_type": "code",
   "execution_count": 130,
   "metadata": {},
   "outputs": [
    {
     "data": {
      "text/html": [
       "<div>\n",
       "<style scoped>\n",
       "    .dataframe tbody tr th:only-of-type {\n",
       "        vertical-align: middle;\n",
       "    }\n",
       "\n",
       "    .dataframe tbody tr th {\n",
       "        vertical-align: top;\n",
       "    }\n",
       "\n",
       "    .dataframe thead th {\n",
       "        text-align: right;\n",
       "    }\n",
       "</style>\n",
       "<table border=\"1\" class=\"dataframe\">\n",
       "  <thead>\n",
       "    <tr style=\"text-align: right;\">\n",
       "      <th></th>\n",
       "      <th>name</th>\n",
       "      <th>age</th>\n",
       "      <th>department</th>\n",
       "      <th>emp_id</th>\n",
       "      <th>salary</th>\n",
       "      <th>yearly_bonus</th>\n",
       "      <th>DOB</th>\n",
       "    </tr>\n",
       "  </thead>\n",
       "  <tbody>\n",
       "    <tr>\n",
       "      <th>0</th>\n",
       "      <td>sourabha</td>\n",
       "      <td>10.0</td>\n",
       "      <td>IT</td>\n",
       "      <td>1</td>\n",
       "      <td>100000</td>\n",
       "      <td>10000.0</td>\n",
       "      <td>01-10-1980</td>\n",
       "    </tr>\n",
       "    <tr>\n",
       "      <th>1</th>\n",
       "      <td>Ramesh</td>\n",
       "      <td>20.0</td>\n",
       "      <td>IT</td>\n",
       "      <td>2</td>\n",
       "      <td>120000</td>\n",
       "      <td>12000.0</td>\n",
       "      <td>01-11-1981</td>\n",
       "    </tr>\n",
       "    <tr>\n",
       "      <th>2</th>\n",
       "      <td>Mahesh</td>\n",
       "      <td>30.0</td>\n",
       "      <td>SALES</td>\n",
       "      <td>3</td>\n",
       "      <td>130000</td>\n",
       "      <td>13000.0</td>\n",
       "      <td>01-12-1982</td>\n",
       "    </tr>\n",
       "    <tr>\n",
       "      <th>3</th>\n",
       "      <td>Rahul</td>\n",
       "      <td>NaN</td>\n",
       "      <td>MARKETING</td>\n",
       "      <td>4</td>\n",
       "      <td>90000</td>\n",
       "      <td>9000.0</td>\n",
       "      <td>01-10-1975</td>\n",
       "    </tr>\n",
       "    <tr>\n",
       "      <th>4</th>\n",
       "      <td>Vivek</td>\n",
       "      <td>40.0</td>\n",
       "      <td>SALES</td>\n",
       "      <td>5</td>\n",
       "      <td>125000</td>\n",
       "      <td>12500.0</td>\n",
       "      <td>22-10-1987</td>\n",
       "    </tr>\n",
       "    <tr>\n",
       "      <th>5</th>\n",
       "      <td>Anshul</td>\n",
       "      <td>36.0</td>\n",
       "      <td>None</td>\n",
       "      <td>6</td>\n",
       "      <td>115000</td>\n",
       "      <td>11500.0</td>\n",
       "      <td>01-09-1988</td>\n",
       "    </tr>\n",
       "    <tr>\n",
       "      <th>6</th>\n",
       "      <td>None</td>\n",
       "      <td>NaN</td>\n",
       "      <td>SALES</td>\n",
       "      <td>7</td>\n",
       "      <td>105000</td>\n",
       "      <td>10500.0</td>\n",
       "      <td>01-10-1970</td>\n",
       "    </tr>\n",
       "  </tbody>\n",
       "</table>\n",
       "</div>"
      ],
      "text/plain": [
       "       name   age department  emp_id  salary  yearly_bonus         DOB\n",
       "0  sourabha  10.0         IT       1  100000       10000.0  01-10-1980\n",
       "1    Ramesh  20.0         IT       2  120000       12000.0  01-11-1981\n",
       "2    Mahesh  30.0      SALES       3  130000       13000.0  01-12-1982\n",
       "3     Rahul   NaN  MARKETING       4   90000        9000.0  01-10-1975\n",
       "4     Vivek  40.0      SALES       5  125000       12500.0  22-10-1987\n",
       "5    Anshul  36.0       None       6  115000       11500.0  01-09-1988\n",
       "6      None   NaN      SALES       7  105000       10500.0  01-10-1970"
      ]
     },
     "execution_count": 130,
     "metadata": {},
     "output_type": "execute_result"
    }
   ],
   "source": [
    "df['DOB']=['01-10-1980','01-11-1981','01-12-1982','01-10-1975','22-10-1987','01-09-1988','01-10-1970']\n",
    "df"
   ]
  },
  {
   "cell_type": "code",
   "execution_count": 132,
   "metadata": {},
   "outputs": [
    {
     "data": {
      "text/plain": [
       "name             object\n",
       "age             float64\n",
       "department       object\n",
       "emp_id            int64\n",
       "salary            int64\n",
       "yearly_bonus    float64\n",
       "DOB              object\n",
       "dtype: object"
      ]
     },
     "execution_count": 132,
     "metadata": {},
     "output_type": "execute_result"
    }
   ],
   "source": [
    "df.dtypes"
   ]
  },
  {
   "cell_type": "code",
   "execution_count": 136,
   "metadata": {},
   "outputs": [
    {
     "data": {
      "text/html": [
       "<div>\n",
       "<style scoped>\n",
       "    .dataframe tbody tr th:only-of-type {\n",
       "        vertical-align: middle;\n",
       "    }\n",
       "\n",
       "    .dataframe tbody tr th {\n",
       "        vertical-align: top;\n",
       "    }\n",
       "\n",
       "    .dataframe thead th {\n",
       "        text-align: right;\n",
       "    }\n",
       "</style>\n",
       "<table border=\"1\" class=\"dataframe\">\n",
       "  <thead>\n",
       "    <tr style=\"text-align: right;\">\n",
       "      <th></th>\n",
       "      <th>name</th>\n",
       "      <th>age</th>\n",
       "      <th>department</th>\n",
       "      <th>emp_id</th>\n",
       "      <th>salary</th>\n",
       "      <th>yearly_bonus</th>\n",
       "      <th>DOB</th>\n",
       "      <th>day_of_week</th>\n",
       "    </tr>\n",
       "  </thead>\n",
       "  <tbody>\n",
       "    <tr>\n",
       "      <th>0</th>\n",
       "      <td>sourabha</td>\n",
       "      <td>10.0</td>\n",
       "      <td>IT</td>\n",
       "      <td>1</td>\n",
       "      <td>100000</td>\n",
       "      <td>10000.0</td>\n",
       "      <td>1980-01-10</td>\n",
       "      <td>Thursday</td>\n",
       "    </tr>\n",
       "    <tr>\n",
       "      <th>1</th>\n",
       "      <td>Ramesh</td>\n",
       "      <td>20.0</td>\n",
       "      <td>IT</td>\n",
       "      <td>2</td>\n",
       "      <td>120000</td>\n",
       "      <td>12000.0</td>\n",
       "      <td>1981-01-11</td>\n",
       "      <td>Sunday</td>\n",
       "    </tr>\n",
       "    <tr>\n",
       "      <th>2</th>\n",
       "      <td>Mahesh</td>\n",
       "      <td>30.0</td>\n",
       "      <td>SALES</td>\n",
       "      <td>3</td>\n",
       "      <td>130000</td>\n",
       "      <td>13000.0</td>\n",
       "      <td>1982-01-12</td>\n",
       "      <td>Tuesday</td>\n",
       "    </tr>\n",
       "    <tr>\n",
       "      <th>3</th>\n",
       "      <td>Rahul</td>\n",
       "      <td>NaN</td>\n",
       "      <td>MARKETING</td>\n",
       "      <td>4</td>\n",
       "      <td>90000</td>\n",
       "      <td>9000.0</td>\n",
       "      <td>1975-01-10</td>\n",
       "      <td>Friday</td>\n",
       "    </tr>\n",
       "    <tr>\n",
       "      <th>4</th>\n",
       "      <td>Vivek</td>\n",
       "      <td>40.0</td>\n",
       "      <td>SALES</td>\n",
       "      <td>5</td>\n",
       "      <td>125000</td>\n",
       "      <td>12500.0</td>\n",
       "      <td>1987-10-22</td>\n",
       "      <td>Thursday</td>\n",
       "    </tr>\n",
       "    <tr>\n",
       "      <th>5</th>\n",
       "      <td>Anshul</td>\n",
       "      <td>36.0</td>\n",
       "      <td>None</td>\n",
       "      <td>6</td>\n",
       "      <td>115000</td>\n",
       "      <td>11500.0</td>\n",
       "      <td>1988-01-09</td>\n",
       "      <td>Saturday</td>\n",
       "    </tr>\n",
       "    <tr>\n",
       "      <th>6</th>\n",
       "      <td>None</td>\n",
       "      <td>NaN</td>\n",
       "      <td>SALES</td>\n",
       "      <td>7</td>\n",
       "      <td>105000</td>\n",
       "      <td>10500.0</td>\n",
       "      <td>1970-01-10</td>\n",
       "      <td>Saturday</td>\n",
       "    </tr>\n",
       "  </tbody>\n",
       "</table>\n",
       "</div>"
      ],
      "text/plain": [
       "       name   age department  emp_id  salary  yearly_bonus        DOB  \\\n",
       "0  sourabha  10.0         IT       1  100000       10000.0 1980-01-10   \n",
       "1    Ramesh  20.0         IT       2  120000       12000.0 1981-01-11   \n",
       "2    Mahesh  30.0      SALES       3  130000       13000.0 1982-01-12   \n",
       "3     Rahul   NaN  MARKETING       4   90000        9000.0 1975-01-10   \n",
       "4     Vivek  40.0      SALES       5  125000       12500.0 1987-10-22   \n",
       "5    Anshul  36.0       None       6  115000       11500.0 1988-01-09   \n",
       "6      None   NaN      SALES       7  105000       10500.0 1970-01-10   \n",
       "\n",
       "  day_of_week  \n",
       "0    Thursday  \n",
       "1      Sunday  \n",
       "2     Tuesday  \n",
       "3      Friday  \n",
       "4    Thursday  \n",
       "5    Saturday  \n",
       "6    Saturday  "
      ]
     },
     "execution_count": 136,
     "metadata": {},
     "output_type": "execute_result"
    }
   ],
   "source": [
    "# Handling date and time data with pandas:\n",
    "df['DOB'] = pd.to_datetime(df['DOB'])\n",
    "# df\n",
    "df['day_of_week'] = df['DOB'].dt.day_name()\n",
    "df"
   ]
  },
  {
   "cell_type": "code",
   "execution_count": 135,
   "metadata": {},
   "outputs": [
    {
     "data": {
      "text/plain": [
       "name                    object\n",
       "age                    float64\n",
       "department              object\n",
       "emp_id                   int64\n",
       "salary                   int64\n",
       "yearly_bonus           float64\n",
       "DOB             datetime64[ns]\n",
       "dtype: object"
      ]
     },
     "execution_count": 135,
     "metadata": {},
     "output_type": "execute_result"
    }
   ],
   "source": [
    "df.dtypes"
   ]
  },
  {
   "cell_type": "code",
   "execution_count": 139,
   "metadata": {},
   "outputs": [
    {
     "data": {
      "text/plain": [
       "name            1\n",
       "age             2\n",
       "department      1\n",
       "emp_id          0\n",
       "salary          0\n",
       "yearly_bonus    0\n",
       "DOB             0\n",
       "day_of_week     0\n",
       "dtype: int64"
      ]
     },
     "execution_count": 139,
     "metadata": {},
     "output_type": "execute_result"
    }
   ],
   "source": [
    "# Checking for missing values:\n",
    "missing_data = df.isnull().sum()\n",
    "missing_data"
   ]
  },
  {
   "cell_type": "code",
   "execution_count": 141,
   "metadata": {},
   "outputs": [
    {
     "data": {
      "text/html": [
       "<div>\n",
       "<style scoped>\n",
       "    .dataframe tbody tr th:only-of-type {\n",
       "        vertical-align: middle;\n",
       "    }\n",
       "\n",
       "    .dataframe tbody tr th {\n",
       "        vertical-align: top;\n",
       "    }\n",
       "\n",
       "    .dataframe thead th {\n",
       "        text-align: right;\n",
       "    }\n",
       "</style>\n",
       "<table border=\"1\" class=\"dataframe\">\n",
       "  <thead>\n",
       "    <tr style=\"text-align: right;\">\n",
       "      <th></th>\n",
       "      <th>name</th>\n",
       "      <th>age</th>\n",
       "      <th>department</th>\n",
       "      <th>emp_id</th>\n",
       "      <th>salary</th>\n",
       "      <th>yearly_bonus</th>\n",
       "      <th>DOB</th>\n",
       "      <th>day_of_week</th>\n",
       "    </tr>\n",
       "  </thead>\n",
       "  <tbody>\n",
       "    <tr>\n",
       "      <th>0</th>\n",
       "      <td>sourabha</td>\n",
       "      <td>10.0</td>\n",
       "      <td>IT</td>\n",
       "      <td>1</td>\n",
       "      <td>100000</td>\n",
       "      <td>10000.0</td>\n",
       "      <td>1980-01-10</td>\n",
       "      <td>Thursday</td>\n",
       "    </tr>\n",
       "    <tr>\n",
       "      <th>4</th>\n",
       "      <td>Vivek</td>\n",
       "      <td>40.0</td>\n",
       "      <td>SALES</td>\n",
       "      <td>5</td>\n",
       "      <td>125000</td>\n",
       "      <td>12500.0</td>\n",
       "      <td>1987-10-22</td>\n",
       "      <td>Thursday</td>\n",
       "    </tr>\n",
       "    <tr>\n",
       "      <th>1</th>\n",
       "      <td>Ramesh</td>\n",
       "      <td>20.0</td>\n",
       "      <td>IT</td>\n",
       "      <td>2</td>\n",
       "      <td>120000</td>\n",
       "      <td>12000.0</td>\n",
       "      <td>1981-01-11</td>\n",
       "      <td>Sunday</td>\n",
       "    </tr>\n",
       "    <tr>\n",
       "      <th>3</th>\n",
       "      <td>Rahul</td>\n",
       "      <td>NaN</td>\n",
       "      <td>MARKETING</td>\n",
       "      <td>4</td>\n",
       "      <td>90000</td>\n",
       "      <td>9000.0</td>\n",
       "      <td>1975-01-10</td>\n",
       "      <td>Friday</td>\n",
       "    </tr>\n",
       "    <tr>\n",
       "      <th>2</th>\n",
       "      <td>Mahesh</td>\n",
       "      <td>30.0</td>\n",
       "      <td>SALES</td>\n",
       "      <td>3</td>\n",
       "      <td>130000</td>\n",
       "      <td>13000.0</td>\n",
       "      <td>1982-01-12</td>\n",
       "      <td>Tuesday</td>\n",
       "    </tr>\n",
       "    <tr>\n",
       "      <th>5</th>\n",
       "      <td>Anshul</td>\n",
       "      <td>36.0</td>\n",
       "      <td>None</td>\n",
       "      <td>6</td>\n",
       "      <td>115000</td>\n",
       "      <td>11500.0</td>\n",
       "      <td>1988-01-09</td>\n",
       "      <td>Saturday</td>\n",
       "    </tr>\n",
       "    <tr>\n",
       "      <th>6</th>\n",
       "      <td>None</td>\n",
       "      <td>NaN</td>\n",
       "      <td>SALES</td>\n",
       "      <td>7</td>\n",
       "      <td>105000</td>\n",
       "      <td>10500.0</td>\n",
       "      <td>1970-01-10</td>\n",
       "      <td>Saturday</td>\n",
       "    </tr>\n",
       "  </tbody>\n",
       "</table>\n",
       "</div>"
      ],
      "text/plain": [
       "       name   age department  emp_id  salary  yearly_bonus        DOB  \\\n",
       "0  sourabha  10.0         IT       1  100000       10000.0 1980-01-10   \n",
       "4     Vivek  40.0      SALES       5  125000       12500.0 1987-10-22   \n",
       "1    Ramesh  20.0         IT       2  120000       12000.0 1981-01-11   \n",
       "3     Rahul   NaN  MARKETING       4   90000        9000.0 1975-01-10   \n",
       "2    Mahesh  30.0      SALES       3  130000       13000.0 1982-01-12   \n",
       "5    Anshul  36.0       None       6  115000       11500.0 1988-01-09   \n",
       "6      None   NaN      SALES       7  105000       10500.0 1970-01-10   \n",
       "\n",
       "  day_of_week  \n",
       "0    Thursday  \n",
       "4    Thursday  \n",
       "1      Sunday  \n",
       "3      Friday  \n",
       "2     Tuesday  \n",
       "5    Saturday  \n",
       "6    Saturday  "
      ]
     },
     "execution_count": 141,
     "metadata": {},
     "output_type": "execute_result"
    }
   ],
   "source": [
    "# Sorting by a single column:\n",
    "sorted_df = df.sort_values('name', ascending=False)\n",
    "sorted_df"
   ]
  },
  {
   "cell_type": "code",
   "execution_count": 143,
   "metadata": {},
   "outputs": [
    {
     "name": "stdout",
     "output_type": "stream",
     "text": [
      "name                    object\n",
      "age                    float64\n",
      "department              object\n",
      "emp_id                   int64\n",
      "salary                   int64\n",
      "yearly_bonus           float64\n",
      "DOB             datetime64[ns]\n",
      "day_of_week             object\n",
      "dtype: object\n",
      "name                    object\n",
      "age                    float64\n",
      "department              object\n",
      "emp_id                   int64\n",
      "salary                 float64\n",
      "yearly_bonus           float64\n",
      "DOB             datetime64[ns]\n",
      "day_of_week             object\n",
      "dtype: object\n"
     ]
    }
   ],
   "source": [
    "# Converting a column to a different data type:\n",
    "print(df.dtypes)\n",
    "df['salary'] = df['salary'].astype('float')\n",
    "print(df.dtypes)"
   ]
  },
  {
   "cell_type": "code",
   "execution_count": 144,
   "metadata": {},
   "outputs": [
    {
     "data": {
      "text/plain": [
       "sum       136.0\n",
       "mean       27.2\n",
       "median     30.0\n",
       "Name: age, dtype: float64"
      ]
     },
     "execution_count": 144,
     "metadata": {},
     "output_type": "execute_result"
    }
   ],
   "source": [
    "# agg: Allows you to apply multiple aggregation functions to a column.\n",
    "df['age'].agg(['sum','mean','median',])"
   ]
  },
  {
   "cell_type": "code",
   "execution_count": 154,
   "metadata": {},
   "outputs": [
    {
     "name": "stdout",
     "output_type": "stream",
     "text": [
      "Standard Deviation: 0    1.290994\n",
      "dtype: float64\n"
     ]
    }
   ],
   "source": [
    "# calculate standrad deviations \n",
    "import pandas as pd\n",
    "\n",
    "data = [1, 2, 3,4]\n",
    "df = pd.DataFrame(data)\n",
    "std_deviation = df.std()\n",
    "\n",
    "print(\"Standard Deviation:\", std_deviation)"
   ]
  },
  {
   "cell_type": "code",
   "execution_count": null,
   "metadata": {},
   "outputs": [],
   "source": [
    "# variance\n",
    "import pandas as pd\n",
    "\n",
    "# Sample dataset\n",
    "data = {'values': [1, 2, 3, 4]}\n",
    "\n",
    "# Create a DataFrame from the dataset\n",
    "df = pd.DataFrame(data)\n",
    "\n",
    "# Calculate the variance using the var() function\n",
    "variance = df['values'].var()\n",
    "\n",
    "print(\"Variance:\", variance)"
   ]
  },
  {
   "cell_type": "code",
   "execution_count": 3,
   "metadata": {},
   "outputs": [
    {
     "name": "stdout",
     "output_type": "stream",
     "text": [
      "hello test DEC 29\n"
     ]
    }
   ],
   "source": [
    "print('hello test DEC 29')"
   ]
  },
  {
   "cell_type": "code",
   "execution_count": null,
   "metadata": {},
   "outputs": [],
   "source": []
  },
  {
   "cell_type": "code",
   "execution_count": null,
   "metadata": {},
   "outputs": [],
   "source": []
  },
  {
   "cell_type": "code",
   "execution_count": null,
   "metadata": {},
   "outputs": [],
   "source": []
  },
  {
   "cell_type": "code",
   "execution_count": 152,
   "metadata": {},
   "outputs": [
    {
     "name": "stdout",
     "output_type": "stream",
     "text": [
      "Variance: 1.6666666666666667\n"
     ]
    }
   ],
   "source": []
  }
 ],
 "metadata": {
  "kernelspec": {
   "display_name": "Python 3 (ipykernel)",
   "language": "python",
   "name": "python3"
  },
  "language_info": {
   "codemirror_mode": {
    "name": "ipython",
    "version": 3
   },
   "file_extension": ".py",
   "mimetype": "text/x-python",
   "name": "python",
   "nbconvert_exporter": "python",
   "pygments_lexer": "ipython3",
   "version": "3.10.9"
  }
 },
 "nbformat": 4,
 "nbformat_minor": 4
}
